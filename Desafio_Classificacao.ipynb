{
  "nbformat": 4,
  "nbformat_minor": 0,
  "metadata": {
    "colab": {
      "provenance": [],
      "authorship_tag": "ABX9TyNyFzo0OyoUUwQOwpTA9Lx1"
    },
    "kernelspec": {
      "name": "python3",
      "display_name": "Python 3"
    },
    "language_info": {
      "name": "python"
    }
  },
  "cells": [
    {
      "cell_type": "markdown",
      "source": [
        "# <font color='green'>Processo Seletivo Oncase </font>\n",
        "\n",
        "Gabriela Leal | Fevereiro de 2023"
      ],
      "metadata": {
        "id": "EZFen_Cd0ymQ"
      }
    },
    {
      "cell_type": "markdown",
      "source": [
        "## **Macro Tarefa 02: Teste técnico de modelagem - Classificador**\n",
        "Nessa parte, será necessário implementar um algoritmo de acordo com o paradigma do problema. Cada problema tem um conjunto de métricas que são requeridas. A variável alvo sempre será a coluna de nome “target”, exceto para os problemas não-supervisionados.\n",
        "\n",
        "1. Construa um classificador e identifique quais variáveis exercem maior impacto sobre o “target” e informe o porquê interpretando os resultados obtidos. \n",
        "\n",
        "  a) métricas: precision, recall e F1-score;\n",
        "\n",
        "  b) dados: classification_data.zip;"
      ],
      "metadata": {
        "id": "Tu8nKWkV03w5"
      }
    },
    {
      "cell_type": "markdown",
      "source": [
        "## 1.1 Leitura e processamento dos arquivos\n",
        "\n",
        "IMPORTANTE: Precisa carregar os arquivos 'classification_train.csv' e 'classification_test.csv' na raiz do projeto"
      ],
      "metadata": {
        "id": "YztmbczD2B6Y"
      }
    },
    {
      "cell_type": "code",
      "execution_count": null,
      "metadata": {
        "id": "pVZ74cxU0ouG"
      },
      "outputs": [],
      "source": [
        "# Importando bibliotecas necessárias\n",
        "import pandas as pd\n",
        "import numpy as np\n",
        "\n",
        "import matplotlib.pyplot as plt\n",
        "import seaborn as sns\n",
        "\n",
        "# Inserindo os arquivos csv de treino e teste para leitura e salvando em variáveis\n",
        "train_data = pd.read_csv('classification_train.csv')\n",
        "test_data = pd.read_csv('classification_test.csv')"
      ]
    },
    {
      "cell_type": "code",
      "source": [
        "# Verificando se o arquivo treino foi inserido corretamente\n",
        "train_data.head()"
      ],
      "metadata": {
        "colab": {
          "base_uri": "https://localhost:8080/",
          "height": 206
        },
        "id": "eh2b62g462Be",
        "outputId": "401fd171-3654-451b-80e2-2d1a13612aca"
      },
      "execution_count": null,
      "outputs": [
        {
          "output_type": "execute_result",
          "data": {
            "text/plain": [
              "         x1        x2  target\n",
              "0  1.934224 -0.111822       1\n",
              "1  1.767383 -0.976402       1\n",
              "2  0.937101 -0.085633       1\n",
              "3  1.340732  0.166960       1\n",
              "4 -0.199901 -0.155204       1"
            ],
            "text/html": [
              "\n",
              "  <div id=\"df-905e7a97-604f-481e-833f-78ee523c5ea5\">\n",
              "    <div class=\"colab-df-container\">\n",
              "      <div>\n",
              "<style scoped>\n",
              "    .dataframe tbody tr th:only-of-type {\n",
              "        vertical-align: middle;\n",
              "    }\n",
              "\n",
              "    .dataframe tbody tr th {\n",
              "        vertical-align: top;\n",
              "    }\n",
              "\n",
              "    .dataframe thead th {\n",
              "        text-align: right;\n",
              "    }\n",
              "</style>\n",
              "<table border=\"1\" class=\"dataframe\">\n",
              "  <thead>\n",
              "    <tr style=\"text-align: right;\">\n",
              "      <th></th>\n",
              "      <th>x1</th>\n",
              "      <th>x2</th>\n",
              "      <th>target</th>\n",
              "    </tr>\n",
              "  </thead>\n",
              "  <tbody>\n",
              "    <tr>\n",
              "      <th>0</th>\n",
              "      <td>1.934224</td>\n",
              "      <td>-0.111822</td>\n",
              "      <td>1</td>\n",
              "    </tr>\n",
              "    <tr>\n",
              "      <th>1</th>\n",
              "      <td>1.767383</td>\n",
              "      <td>-0.976402</td>\n",
              "      <td>1</td>\n",
              "    </tr>\n",
              "    <tr>\n",
              "      <th>2</th>\n",
              "      <td>0.937101</td>\n",
              "      <td>-0.085633</td>\n",
              "      <td>1</td>\n",
              "    </tr>\n",
              "    <tr>\n",
              "      <th>3</th>\n",
              "      <td>1.340732</td>\n",
              "      <td>0.166960</td>\n",
              "      <td>1</td>\n",
              "    </tr>\n",
              "    <tr>\n",
              "      <th>4</th>\n",
              "      <td>-0.199901</td>\n",
              "      <td>-0.155204</td>\n",
              "      <td>1</td>\n",
              "    </tr>\n",
              "  </tbody>\n",
              "</table>\n",
              "</div>\n",
              "      <button class=\"colab-df-convert\" onclick=\"convertToInteractive('df-905e7a97-604f-481e-833f-78ee523c5ea5')\"\n",
              "              title=\"Convert this dataframe to an interactive table.\"\n",
              "              style=\"display:none;\">\n",
              "        \n",
              "  <svg xmlns=\"http://www.w3.org/2000/svg\" height=\"24px\"viewBox=\"0 0 24 24\"\n",
              "       width=\"24px\">\n",
              "    <path d=\"M0 0h24v24H0V0z\" fill=\"none\"/>\n",
              "    <path d=\"M18.56 5.44l.94 2.06.94-2.06 2.06-.94-2.06-.94-.94-2.06-.94 2.06-2.06.94zm-11 1L8.5 8.5l.94-2.06 2.06-.94-2.06-.94L8.5 2.5l-.94 2.06-2.06.94zm10 10l.94 2.06.94-2.06 2.06-.94-2.06-.94-.94-2.06-.94 2.06-2.06.94z\"/><path d=\"M17.41 7.96l-1.37-1.37c-.4-.4-.92-.59-1.43-.59-.52 0-1.04.2-1.43.59L10.3 9.45l-7.72 7.72c-.78.78-.78 2.05 0 2.83L4 21.41c.39.39.9.59 1.41.59.51 0 1.02-.2 1.41-.59l7.78-7.78 2.81-2.81c.8-.78.8-2.07 0-2.86zM5.41 20L4 18.59l7.72-7.72 1.47 1.35L5.41 20z\"/>\n",
              "  </svg>\n",
              "      </button>\n",
              "      \n",
              "  <style>\n",
              "    .colab-df-container {\n",
              "      display:flex;\n",
              "      flex-wrap:wrap;\n",
              "      gap: 12px;\n",
              "    }\n",
              "\n",
              "    .colab-df-convert {\n",
              "      background-color: #E8F0FE;\n",
              "      border: none;\n",
              "      border-radius: 50%;\n",
              "      cursor: pointer;\n",
              "      display: none;\n",
              "      fill: #1967D2;\n",
              "      height: 32px;\n",
              "      padding: 0 0 0 0;\n",
              "      width: 32px;\n",
              "    }\n",
              "\n",
              "    .colab-df-convert:hover {\n",
              "      background-color: #E2EBFA;\n",
              "      box-shadow: 0px 1px 2px rgba(60, 64, 67, 0.3), 0px 1px 3px 1px rgba(60, 64, 67, 0.15);\n",
              "      fill: #174EA6;\n",
              "    }\n",
              "\n",
              "    [theme=dark] .colab-df-convert {\n",
              "      background-color: #3B4455;\n",
              "      fill: #D2E3FC;\n",
              "    }\n",
              "\n",
              "    [theme=dark] .colab-df-convert:hover {\n",
              "      background-color: #434B5C;\n",
              "      box-shadow: 0px 1px 3px 1px rgba(0, 0, 0, 0.15);\n",
              "      filter: drop-shadow(0px 1px 2px rgba(0, 0, 0, 0.3));\n",
              "      fill: #FFFFFF;\n",
              "    }\n",
              "  </style>\n",
              "\n",
              "      <script>\n",
              "        const buttonEl =\n",
              "          document.querySelector('#df-905e7a97-604f-481e-833f-78ee523c5ea5 button.colab-df-convert');\n",
              "        buttonEl.style.display =\n",
              "          google.colab.kernel.accessAllowed ? 'block' : 'none';\n",
              "\n",
              "        async function convertToInteractive(key) {\n",
              "          const element = document.querySelector('#df-905e7a97-604f-481e-833f-78ee523c5ea5');\n",
              "          const dataTable =\n",
              "            await google.colab.kernel.invokeFunction('convertToInteractive',\n",
              "                                                     [key], {});\n",
              "          if (!dataTable) return;\n",
              "\n",
              "          const docLinkHtml = 'Like what you see? Visit the ' +\n",
              "            '<a target=\"_blank\" href=https://colab.research.google.com/notebooks/data_table.ipynb>data table notebook</a>'\n",
              "            + ' to learn more about interactive tables.';\n",
              "          element.innerHTML = '';\n",
              "          dataTable['output_type'] = 'display_data';\n",
              "          await google.colab.output.renderOutput(dataTable, element);\n",
              "          const docLink = document.createElement('div');\n",
              "          docLink.innerHTML = docLinkHtml;\n",
              "          element.appendChild(docLink);\n",
              "        }\n",
              "      </script>\n",
              "    </div>\n",
              "  </div>\n",
              "  "
            ]
          },
          "metadata": {},
          "execution_count": 2
        }
      ]
    },
    {
      "cell_type": "code",
      "source": [
        "# Verificando se o arquivo teste foi inserido corretamente\n",
        "test_data.head()"
      ],
      "metadata": {
        "colab": {
          "base_uri": "https://localhost:8080/",
          "height": 206
        },
        "id": "Z_yZiKCg7Lst",
        "outputId": "0b6ced90-b30d-4d6f-9eb4-338ab6e2b663"
      },
      "execution_count": null,
      "outputs": [
        {
          "output_type": "execute_result",
          "data": {
            "text/plain": [
              "         x1        x2  target\n",
              "0  1.114204 -0.434321       1\n",
              "1 -1.238490  0.521390       0\n",
              "2 -0.091781 -0.169471       1\n",
              "3  0.298820  0.076368       0\n",
              "4 -0.265779  0.479812       1"
            ],
            "text/html": [
              "\n",
              "  <div id=\"df-f5a2c1b1-eeb2-4b6a-bbe0-b84ba2ace509\">\n",
              "    <div class=\"colab-df-container\">\n",
              "      <div>\n",
              "<style scoped>\n",
              "    .dataframe tbody tr th:only-of-type {\n",
              "        vertical-align: middle;\n",
              "    }\n",
              "\n",
              "    .dataframe tbody tr th {\n",
              "        vertical-align: top;\n",
              "    }\n",
              "\n",
              "    .dataframe thead th {\n",
              "        text-align: right;\n",
              "    }\n",
              "</style>\n",
              "<table border=\"1\" class=\"dataframe\">\n",
              "  <thead>\n",
              "    <tr style=\"text-align: right;\">\n",
              "      <th></th>\n",
              "      <th>x1</th>\n",
              "      <th>x2</th>\n",
              "      <th>target</th>\n",
              "    </tr>\n",
              "  </thead>\n",
              "  <tbody>\n",
              "    <tr>\n",
              "      <th>0</th>\n",
              "      <td>1.114204</td>\n",
              "      <td>-0.434321</td>\n",
              "      <td>1</td>\n",
              "    </tr>\n",
              "    <tr>\n",
              "      <th>1</th>\n",
              "      <td>-1.238490</td>\n",
              "      <td>0.521390</td>\n",
              "      <td>0</td>\n",
              "    </tr>\n",
              "    <tr>\n",
              "      <th>2</th>\n",
              "      <td>-0.091781</td>\n",
              "      <td>-0.169471</td>\n",
              "      <td>1</td>\n",
              "    </tr>\n",
              "    <tr>\n",
              "      <th>3</th>\n",
              "      <td>0.298820</td>\n",
              "      <td>0.076368</td>\n",
              "      <td>0</td>\n",
              "    </tr>\n",
              "    <tr>\n",
              "      <th>4</th>\n",
              "      <td>-0.265779</td>\n",
              "      <td>0.479812</td>\n",
              "      <td>1</td>\n",
              "    </tr>\n",
              "  </tbody>\n",
              "</table>\n",
              "</div>\n",
              "      <button class=\"colab-df-convert\" onclick=\"convertToInteractive('df-f5a2c1b1-eeb2-4b6a-bbe0-b84ba2ace509')\"\n",
              "              title=\"Convert this dataframe to an interactive table.\"\n",
              "              style=\"display:none;\">\n",
              "        \n",
              "  <svg xmlns=\"http://www.w3.org/2000/svg\" height=\"24px\"viewBox=\"0 0 24 24\"\n",
              "       width=\"24px\">\n",
              "    <path d=\"M0 0h24v24H0V0z\" fill=\"none\"/>\n",
              "    <path d=\"M18.56 5.44l.94 2.06.94-2.06 2.06-.94-2.06-.94-.94-2.06-.94 2.06-2.06.94zm-11 1L8.5 8.5l.94-2.06 2.06-.94-2.06-.94L8.5 2.5l-.94 2.06-2.06.94zm10 10l.94 2.06.94-2.06 2.06-.94-2.06-.94-.94-2.06-.94 2.06-2.06.94z\"/><path d=\"M17.41 7.96l-1.37-1.37c-.4-.4-.92-.59-1.43-.59-.52 0-1.04.2-1.43.59L10.3 9.45l-7.72 7.72c-.78.78-.78 2.05 0 2.83L4 21.41c.39.39.9.59 1.41.59.51 0 1.02-.2 1.41-.59l7.78-7.78 2.81-2.81c.8-.78.8-2.07 0-2.86zM5.41 20L4 18.59l7.72-7.72 1.47 1.35L5.41 20z\"/>\n",
              "  </svg>\n",
              "      </button>\n",
              "      \n",
              "  <style>\n",
              "    .colab-df-container {\n",
              "      display:flex;\n",
              "      flex-wrap:wrap;\n",
              "      gap: 12px;\n",
              "    }\n",
              "\n",
              "    .colab-df-convert {\n",
              "      background-color: #E8F0FE;\n",
              "      border: none;\n",
              "      border-radius: 50%;\n",
              "      cursor: pointer;\n",
              "      display: none;\n",
              "      fill: #1967D2;\n",
              "      height: 32px;\n",
              "      padding: 0 0 0 0;\n",
              "      width: 32px;\n",
              "    }\n",
              "\n",
              "    .colab-df-convert:hover {\n",
              "      background-color: #E2EBFA;\n",
              "      box-shadow: 0px 1px 2px rgba(60, 64, 67, 0.3), 0px 1px 3px 1px rgba(60, 64, 67, 0.15);\n",
              "      fill: #174EA6;\n",
              "    }\n",
              "\n",
              "    [theme=dark] .colab-df-convert {\n",
              "      background-color: #3B4455;\n",
              "      fill: #D2E3FC;\n",
              "    }\n",
              "\n",
              "    [theme=dark] .colab-df-convert:hover {\n",
              "      background-color: #434B5C;\n",
              "      box-shadow: 0px 1px 3px 1px rgba(0, 0, 0, 0.15);\n",
              "      filter: drop-shadow(0px 1px 2px rgba(0, 0, 0, 0.3));\n",
              "      fill: #FFFFFF;\n",
              "    }\n",
              "  </style>\n",
              "\n",
              "      <script>\n",
              "        const buttonEl =\n",
              "          document.querySelector('#df-f5a2c1b1-eeb2-4b6a-bbe0-b84ba2ace509 button.colab-df-convert');\n",
              "        buttonEl.style.display =\n",
              "          google.colab.kernel.accessAllowed ? 'block' : 'none';\n",
              "\n",
              "        async function convertToInteractive(key) {\n",
              "          const element = document.querySelector('#df-f5a2c1b1-eeb2-4b6a-bbe0-b84ba2ace509');\n",
              "          const dataTable =\n",
              "            await google.colab.kernel.invokeFunction('convertToInteractive',\n",
              "                                                     [key], {});\n",
              "          if (!dataTable) return;\n",
              "\n",
              "          const docLinkHtml = 'Like what you see? Visit the ' +\n",
              "            '<a target=\"_blank\" href=https://colab.research.google.com/notebooks/data_table.ipynb>data table notebook</a>'\n",
              "            + ' to learn more about interactive tables.';\n",
              "          element.innerHTML = '';\n",
              "          dataTable['output_type'] = 'display_data';\n",
              "          await google.colab.output.renderOutput(dataTable, element);\n",
              "          const docLink = document.createElement('div');\n",
              "          docLink.innerHTML = docLinkHtml;\n",
              "          element.appendChild(docLink);\n",
              "        }\n",
              "      </script>\n",
              "    </div>\n",
              "  </div>\n",
              "  "
            ]
          },
          "metadata": {},
          "execution_count": 3
        }
      ]
    },
    {
      "cell_type": "markdown",
      "source": [
        "## 1.2 Exibindo informações iniciais dos dados"
      ],
      "metadata": {
        "id": "urT_MWqf61t8"
      }
    },
    {
      "cell_type": "code",
      "source": [
        "print(f\"O dataset de treino tem {train_data.shape[0]} linhas e {train_data.shape[1]} colunas\")\n",
        "print(f\"O dataset de teste tem {test_data.shape[0]} linhas e {test_data.shape[1]} colunas\")"
      ],
      "metadata": {
        "colab": {
          "base_uri": "https://localhost:8080/"
        },
        "id": "x7GL3qVX-oeM",
        "outputId": "f09ff145-59d8-42d7-8d96-1c545036eec3"
      },
      "execution_count": null,
      "outputs": [
        {
          "output_type": "stream",
          "name": "stdout",
          "text": [
            "O dataset de treino tem 670 linhas e 3 colunas\n",
            "O dataset de teste tem 330 linhas e 3 colunas\n"
          ]
        }
      ]
    },
    {
      "cell_type": "code",
      "source": [
        "print(\"Lista dos tipos de dados do dataset de treino:\")\n",
        "train_data.info()"
      ],
      "metadata": {
        "colab": {
          "base_uri": "https://localhost:8080/"
        },
        "id": "zlJ2U3YiUSPh",
        "outputId": "ca15d1c9-7ce2-46bb-d1b0-41171a40caff"
      },
      "execution_count": null,
      "outputs": [
        {
          "output_type": "stream",
          "name": "stdout",
          "text": [
            "Lista dos tipos de dados do dataset de treino:\n",
            "<class 'pandas.core.frame.DataFrame'>\n",
            "RangeIndex: 670 entries, 0 to 669\n",
            "Data columns (total 3 columns):\n",
            " #   Column  Non-Null Count  Dtype  \n",
            "---  ------  --------------  -----  \n",
            " 0   x1      670 non-null    float64\n",
            " 1   x2      670 non-null    float64\n",
            " 2   target  670 non-null    int64  \n",
            "dtypes: float64(2), int64(1)\n",
            "memory usage: 15.8 KB\n"
          ]
        }
      ]
    },
    {
      "cell_type": "code",
      "source": [
        "print(\"Lista dos tipos de dados do dataset de teste:\")\n",
        "test_data.info()"
      ],
      "metadata": {
        "colab": {
          "base_uri": "https://localhost:8080/"
        },
        "id": "-DS_SWusUpfp",
        "outputId": "3644ea57-03f4-4c7e-a3fe-ee780651cd62"
      },
      "execution_count": null,
      "outputs": [
        {
          "output_type": "stream",
          "name": "stdout",
          "text": [
            "Lista dos tipos de dados do dataset de teste:\n",
            "<class 'pandas.core.frame.DataFrame'>\n",
            "RangeIndex: 330 entries, 0 to 329\n",
            "Data columns (total 3 columns):\n",
            " #   Column  Non-Null Count  Dtype  \n",
            "---  ------  --------------  -----  \n",
            " 0   x1      330 non-null    float64\n",
            " 1   x2      330 non-null    float64\n",
            " 2   target  330 non-null    int64  \n",
            "dtypes: float64(2), int64(1)\n",
            "memory usage: 7.9 KB\n"
          ]
        }
      ]
    },
    {
      "cell_type": "code",
      "source": [
        "print(\"Gráfico de distribuição da variável alvo (target):\")\n",
        "sns.countplot(train_data['target'], label=\"Count\")"
      ],
      "metadata": {
        "colab": {
          "base_uri": "https://localhost:8080/",
          "height": 373
        },
        "id": "VTlOwtNX3Vmo",
        "outputId": "82c10783-edff-44e9-aa8c-077cec399cd8"
      },
      "execution_count": null,
      "outputs": [
        {
          "output_type": "stream",
          "name": "stdout",
          "text": [
            "Gráfico de distribuição da variável alvo (target):\n"
          ]
        },
        {
          "output_type": "stream",
          "name": "stderr",
          "text": [
            "/usr/local/lib/python3.8/dist-packages/seaborn/_decorators.py:36: FutureWarning: Pass the following variable as a keyword arg: x. From version 0.12, the only valid positional argument will be `data`, and passing other arguments without an explicit keyword will result in an error or misinterpretation.\n",
            "  warnings.warn(\n"
          ]
        },
        {
          "output_type": "execute_result",
          "data": {
            "text/plain": [
              "<matplotlib.axes._subplots.AxesSubplot at 0x7f2bddf9a790>"
            ]
          },
          "metadata": {},
          "execution_count": 7
        },
        {
          "output_type": "display_data",
          "data": {
            "text/plain": [
              "<Figure size 432x288 with 1 Axes>"
            ],
            "image/png": "[encoded data removed]"
          },
          "metadata": {
            "needs_background": "light"
          }
        }
      ]
    },
    {
      "cell_type": "code",
      "source": [
        "print(f\"A classe 0 representa {np.round((len(train_data[train_data.target == 0]) / train_data.shape[0])*100, 3)}% do dataset de treino\")\n",
        "print(f\"A classe 1 representa {np.round((len(train_data[train_data.target == 1]) / train_data.shape[0])*100, 3)}% do dataset de treino\")"
      ],
      "metadata": {
        "colab": {
          "base_uri": "https://localhost:8080/"
        },
        "id": "cG_6o38L77WF",
        "outputId": "55a8b34a-74fd-4fb5-be5c-39ff4f7e4169"
      },
      "execution_count": null,
      "outputs": [
        {
          "output_type": "stream",
          "name": "stdout",
          "text": [
            "A classe 0 representa 49.403% do dataset de treino\n",
            "A classe 1 representa 50.597% do dataset de treino\n"
          ]
        }
      ]
    },
    {
      "cell_type": "code",
      "source": [
        "# Plotando gráfico de dispersão dos dados\n",
        "sns.scatterplot(x=\"x1\", y=\"x2\", data=train_data, hue=\"target\").set_title(\"Gráfico de dispersão\")"
      ],
      "metadata": {
        "colab": {
          "base_uri": "https://localhost:8080/",
          "height": 313
        },
        "id": "WXq7hf-u2T6w",
        "outputId": "caa5ad00-19a0-4bd8-cd5c-93a1e7f1de37"
      },
      "execution_count": null,
      "outputs": [
        {
          "output_type": "execute_result",
          "data": {
            "text/plain": [
              "Text(0.5, 1.0, 'Gráfico de dispersão')"
            ]
          },
          "metadata": {},
          "execution_count": 9
        },
        {
          "output_type": "display_data",
          "data": {
            "text/plain": [
              "<Figure size 432x288 with 1 Axes>"
            ],
            "image/png": "[encoded data removed]"
          },
          "metadata": {
            "needs_background": "light"
          }
        }
      ]
    },
    {
      "cell_type": "markdown",
      "source": [
        "## 1.3 Tranformação e Limpeza dos dados de treinamento"
      ],
      "metadata": {
        "id": "76udCfMW_6bY"
      }
    },
    {
      "cell_type": "markdown",
      "source": [
        "### **1.3.1 Identificando dados duplicados**"
      ],
      "metadata": {
        "id": "J0kqQsZVBIte"
      }
    },
    {
      "cell_type": "code",
      "source": [
        "print(f\"Quantidade de dados duplicados no dataset de treino: {train_data.duplicated().sum()}\")"
      ],
      "metadata": {
        "colab": {
          "base_uri": "https://localhost:8080/"
        },
        "id": "ZGmnL1g7AYaG",
        "outputId": "0008a69e-d38e-4751-bfcc-39589a6feaf5"
      },
      "execution_count": null,
      "outputs": [
        {
          "output_type": "stream",
          "name": "stdout",
          "text": [
            "Quantidade de dados duplicados no dataset de treino: 0\n"
          ]
        }
      ]
    },
    {
      "cell_type": "markdown",
      "source": [
        "Obs.: Caso existissem dados duplicados no dataset, ele deveriam ser retirados para não comprometer a modelagem dos dados."
      ],
      "metadata": {
        "id": "qggS53FQCB08"
      }
    },
    {
      "cell_type": "markdown",
      "source": [
        "### **1.3.2 Identificando dados faltantes**"
      ],
      "metadata": {
        "id": "uFnhrOcXPA1z"
      }
    },
    {
      "cell_type": "code",
      "source": [
        "print(\"Quantidade de dados faltantes no dataset de treino:\")\n",
        "train_data.isna().sum()"
      ],
      "metadata": {
        "colab": {
          "base_uri": "https://localhost:8080/"
        },
        "id": "zeb8CJtQPHI_",
        "outputId": "d0f0d182-fd9d-42eb-cece-edf88250f50f"
      },
      "execution_count": null,
      "outputs": [
        {
          "output_type": "stream",
          "name": "stdout",
          "text": [
            "Quantidade de dados faltantes no dataset de treino:\n"
          ]
        },
        {
          "output_type": "execute_result",
          "data": {
            "text/plain": [
              "x1        0\n",
              "x2        0\n",
              "target    0\n",
              "dtype: int64"
            ]
          },
          "metadata": {},
          "execution_count": 11
        }
      ]
    },
    {
      "cell_type": "markdown",
      "source": [
        "Obs.: Caso existissem dados faltantes no dataset, seria necessário adotar alguma destas opções: (1) eliminar todos os registros com dados faltantes; (2) alterar os valores 'NaN' por valores substitutos. "
      ],
      "metadata": {
        "id": "3lxXeMKUFf0M"
      }
    },
    {
      "cell_type": "markdown",
      "source": [
        "### **1.3.3 Identificando valores únicos**"
      ],
      "metadata": {
        "id": "8bVothjBPAqF"
      }
    },
    {
      "cell_type": "code",
      "source": [
        "print(f\"Quantidade de valores únicos na coluna x1 do dataset de treino: {len(train_data.x1.unique())}\")\n",
        "print(f\"Quantidade de valores únicos na coluna x2 do dataset de treino: {len(train_data.x2.unique())}\")"
      ],
      "metadata": {
        "id": "oVCxkDXNPLJt",
        "colab": {
          "base_uri": "https://localhost:8080/"
        },
        "outputId": "f105cff2-d087-496a-ec78-598723bb6023"
      },
      "execution_count": null,
      "outputs": [
        {
          "output_type": "stream",
          "name": "stdout",
          "text": [
            "Quantidade de valores únicos na coluna x1 do dataset de treino: 670\n",
            "Quantidade de valores únicos na coluna x2 do dataset de treino: 670\n"
          ]
        }
      ]
    },
    {
      "cell_type": "markdown",
      "source": [
        "Obs.: Note que o dataset de treino apresenta apenas valores únicos em suas colunas, já que a quantidade de valores únicos por coluna é igual a quantidade total de linhas do dataset."
      ],
      "metadata": {
        "id": "pDzaNeskNwBh"
      }
    },
    {
      "cell_type": "markdown",
      "source": [
        "### **1.3.4 Identificando valores númericos**"
      ],
      "metadata": {
        "id": "Ejwaw5mGDLx7"
      }
    },
    {
      "cell_type": "code",
      "source": [
        "print(\"Tipos de dados do dataset de treino:\")\n",
        "train_data.dtypes"
      ],
      "metadata": {
        "colab": {
          "base_uri": "https://localhost:8080/"
        },
        "id": "gsAw14732zIl",
        "outputId": "ed0e8418-8081-408d-ec4a-f9443bd0f13e"
      },
      "execution_count": null,
      "outputs": [
        {
          "output_type": "stream",
          "name": "stdout",
          "text": [
            "Tipos de dados do dataset de treino:\n"
          ]
        },
        {
          "output_type": "execute_result",
          "data": {
            "text/plain": [
              "x1        float64\n",
              "x2        float64\n",
              "target      int64\n",
              "dtype: object"
            ]
          },
          "metadata": {},
          "execution_count": 13
        }
      ]
    },
    {
      "cell_type": "markdown",
      "source": [
        "Obs.: A implementação atual da biblioteca sklearn só oferece suporte a dados numéricos, por isso é muito importante verificar o tipo do dado presente no dataset. Caso existissem dados não numéricos, seria necessário utlizar alguma tecnica de codificação de variáveis categoricas como One-hot encoding e Ordinal encoding, por exemplo."
      ],
      "metadata": {
        "id": "wQHLJaskD8k6"
      }
    },
    {
      "cell_type": "markdown",
      "source": [
        "### **1.3.5 Identificando outliers**"
      ],
      "metadata": {
        "id": "k7hyEtY6PAXx"
      }
    },
    {
      "cell_type": "code",
      "source": [
        "print(\"Dados estatísticos básicos do dataset de treino:\")\n",
        "train_data.describe()"
      ],
      "metadata": {
        "colab": {
          "base_uri": "https://localhost:8080/",
          "height": 318
        },
        "id": "ORJQ5U8bPa0R",
        "outputId": "f445b932-c2dd-4068-947e-35f919a5fdc2"
      },
      "execution_count": null,
      "outputs": [
        {
          "output_type": "stream",
          "name": "stdout",
          "text": [
            "Dados estatísticos básicos do dataset de treino:\n"
          ]
        },
        {
          "output_type": "execute_result",
          "data": {
            "text/plain": [
              "               x1          x2      target\n",
              "count  670.000000  670.000000  670.000000\n",
              "mean     0.481824    0.262611    0.505970\n",
              "std      0.914772    0.615023    0.500338\n",
              "min     -1.939767   -1.313970    0.000000\n",
              "25%     -0.169615   -0.159189    0.000000\n",
              "50%      0.492489    0.275538    1.000000\n",
              "75%      1.159680    0.717589    1.000000\n",
              "max      2.590410    1.904169    1.000000"
            ],
            "text/html": [
              "\n",
              "  <div id=\"df-03f57767-b124-4379-9adf-3da5a0c19529\">\n",
              "    <div class=\"colab-df-container\">\n",
              "      <div>\n",
              "<style scoped>\n",
              "    .dataframe tbody tr th:only-of-type {\n",
              "        vertical-align: middle;\n",
              "    }\n",
              "\n",
              "    .dataframe tbody tr th {\n",
              "        vertical-align: top;\n",
              "    }\n",
              "\n",
              "    .dataframe thead th {\n",
              "        text-align: right;\n",
              "    }\n",
              "</style>\n",
              "<table border=\"1\" class=\"dataframe\">\n",
              "  <thead>\n",
              "    <tr style=\"text-align: right;\">\n",
              "      <th></th>\n",
              "      <th>x1</th>\n",
              "      <th>x2</th>\n",
              "      <th>target</th>\n",
              "    </tr>\n",
              "  </thead>\n",
              "  <tbody>\n",
              "    <tr>\n",
              "      <th>count</th>\n",
              "      <td>670.000000</td>\n",
              "      <td>670.000000</td>\n",
              "      <td>670.000000</td>\n",
              "    </tr>\n",
              "    <tr>\n",
              "      <th>mean</th>\n",
              "      <td>0.481824</td>\n",
              "      <td>0.262611</td>\n",
              "      <td>0.505970</td>\n",
              "    </tr>\n",
              "    <tr>\n",
              "      <th>std</th>\n",
              "      <td>0.914772</td>\n",
              "      <td>0.615023</td>\n",
              "      <td>0.500338</td>\n",
              "    </tr>\n",
              "    <tr>\n",
              "      <th>min</th>\n",
              "      <td>-1.939767</td>\n",
              "      <td>-1.313970</td>\n",
              "      <td>0.000000</td>\n",
              "    </tr>\n",
              "    <tr>\n",
              "      <th>25%</th>\n",
              "      <td>-0.169615</td>\n",
              "      <td>-0.159189</td>\n",
              "      <td>0.000000</td>\n",
              "    </tr>\n",
              "    <tr>\n",
              "      <th>50%</th>\n",
              "      <td>0.492489</td>\n",
              "      <td>0.275538</td>\n",
              "      <td>1.000000</td>\n",
              "    </tr>\n",
              "    <tr>\n",
              "      <th>75%</th>\n",
              "      <td>1.159680</td>\n",
              "      <td>0.717589</td>\n",
              "      <td>1.000000</td>\n",
              "    </tr>\n",
              "    <tr>\n",
              "      <th>max</th>\n",
              "      <td>2.590410</td>\n",
              "      <td>1.904169</td>\n",
              "      <td>1.000000</td>\n",
              "    </tr>\n",
              "  </tbody>\n",
              "</table>\n",
              "</div>\n",
              "      <button class=\"colab-df-convert\" onclick=\"convertToInteractive('df-03f57767-b124-4379-9adf-3da5a0c19529')\"\n",
              "              title=\"Convert this dataframe to an interactive table.\"\n",
              "              style=\"display:none;\">\n",
              "        \n",
              "  <svg xmlns=\"http://www.w3.org/2000/svg\" height=\"24px\"viewBox=\"0 0 24 24\"\n",
              "       width=\"24px\">\n",
              "    <path d=\"M0 0h24v24H0V0z\" fill=\"none\"/>\n",
              "    <path d=\"M18.56 5.44l.94 2.06.94-2.06 2.06-.94-2.06-.94-.94-2.06-.94 2.06-2.06.94zm-11 1L8.5 8.5l.94-2.06 2.06-.94-2.06-.94L8.5 2.5l-.94 2.06-2.06.94zm10 10l.94 2.06.94-2.06 2.06-.94-2.06-.94-.94-2.06-.94 2.06-2.06.94z\"/><path d=\"M17.41 7.96l-1.37-1.37c-.4-.4-.92-.59-1.43-.59-.52 0-1.04.2-1.43.59L10.3 9.45l-7.72 7.72c-.78.78-.78 2.05 0 2.83L4 21.41c.39.39.9.59 1.41.59.51 0 1.02-.2 1.41-.59l7.78-7.78 2.81-2.81c.8-.78.8-2.07 0-2.86zM5.41 20L4 18.59l7.72-7.72 1.47 1.35L5.41 20z\"/>\n",
              "  </svg>\n",
              "      </button>\n",
              "      \n",
              "  <style>\n",
              "    .colab-df-container {\n",
              "      display:flex;\n",
              "      flex-wrap:wrap;\n",
              "      gap: 12px;\n",
              "    }\n",
              "\n",
              "    .colab-df-convert {\n",
              "      background-color: #E8F0FE;\n",
              "      border: none;\n",
              "      border-radius: 50%;\n",
              "      cursor: pointer;\n",
              "      display: none;\n",
              "      fill: #1967D2;\n",
              "      height: 32px;\n",
              "      padding: 0 0 0 0;\n",
              "      width: 32px;\n",
              "    }\n",
              "\n",
              "    .colab-df-convert:hover {\n",
              "      background-color: #E2EBFA;\n",
              "      box-shadow: 0px 1px 2px rgba(60, 64, 67, 0.3), 0px 1px 3px 1px rgba(60, 64, 67, 0.15);\n",
              "      fill: #174EA6;\n",
              "    }\n",
              "\n",
              "    [theme=dark] .colab-df-convert {\n",
              "      background-color: #3B4455;\n",
              "      fill: #D2E3FC;\n",
              "    }\n",
              "\n",
              "    [theme=dark] .colab-df-convert:hover {\n",
              "      background-color: #434B5C;\n",
              "      box-shadow: 0px 1px 3px 1px rgba(0, 0, 0, 0.15);\n",
              "      filter: drop-shadow(0px 1px 2px rgba(0, 0, 0, 0.3));\n",
              "      fill: #FFFFFF;\n",
              "    }\n",
              "  </style>\n",
              "\n",
              "      <script>\n",
              "        const buttonEl =\n",
              "          document.querySelector('#df-03f57767-b124-4379-9adf-3da5a0c19529 button.colab-df-convert');\n",
              "        buttonEl.style.display =\n",
              "          google.colab.kernel.accessAllowed ? 'block' : 'none';\n",
              "\n",
              "        async function convertToInteractive(key) {\n",
              "          const element = document.querySelector('#df-03f57767-b124-4379-9adf-3da5a0c19529');\n",
              "          const dataTable =\n",
              "            await google.colab.kernel.invokeFunction('convertToInteractive',\n",
              "                                                     [key], {});\n",
              "          if (!dataTable) return;\n",
              "\n",
              "          const docLinkHtml = 'Like what you see? Visit the ' +\n",
              "            '<a target=\"_blank\" href=https://colab.research.google.com/notebooks/data_table.ipynb>data table notebook</a>'\n",
              "            + ' to learn more about interactive tables.';\n",
              "          element.innerHTML = '';\n",
              "          dataTable['output_type'] = 'display_data';\n",
              "          await google.colab.output.renderOutput(dataTable, element);\n",
              "          const docLink = document.createElement('div');\n",
              "          docLink.innerHTML = docLinkHtml;\n",
              "          element.appendChild(docLink);\n",
              "        }\n",
              "      </script>\n",
              "    </div>\n",
              "  </div>\n",
              "  "
            ]
          },
          "metadata": {},
          "execution_count": 14
        }
      ]
    },
    {
      "cell_type": "code",
      "source": [
        "# Plotando boxplot para observar a distribuição dos dados\n",
        "train_data.boxplot(figsize=(12,8), grid=False, vert=False)"
      ],
      "metadata": {
        "colab": {
          "base_uri": "https://localhost:8080/",
          "height": 501
        },
        "id": "g2Ns78LCTS2u",
        "outputId": "3480bb83-75ea-44e2-81c9-92738571f18a"
      },
      "execution_count": null,
      "outputs": [
        {
          "output_type": "execute_result",
          "data": {
            "text/plain": [
              "<matplotlib.axes._subplots.AxesSubplot at 0x7f2bdc1926a0>"
            ]
          },
          "metadata": {},
          "execution_count": 15
        },
        {
          "output_type": "display_data",
          "data": {
            "text/plain": [
              "<Figure size 864x576 with 1 Axes>"
            ],
            "image/png": "[encoded data removed]"
          },
          "metadata": {
            "needs_background": "light"
          }
        }
      ]
    },
    {
      "cell_type": "code",
      "source": [
        "# Plotando histograma para observar a distribuição dos dados\n",
        "train_data.hist(figsize=(12,8), bins=20, grid=False)"
      ],
      "metadata": {
        "colab": {
          "base_uri": "https://localhost:8080/",
          "height": 590
        },
        "id": "Uvz-Hsh5PkDB",
        "outputId": "a9931674-4b29-45c2-d210-e99be8f268f4"
      },
      "execution_count": null,
      "outputs": [
        {
          "output_type": "execute_result",
          "data": {
            "text/plain": [
              "array([[<matplotlib.axes._subplots.AxesSubplot object at 0x7f2bdd9a1a90>,\n",
              "        <matplotlib.axes._subplots.AxesSubplot object at 0x7f2bdc0c39a0>],\n",
              "       [<matplotlib.axes._subplots.AxesSubplot object at 0x7f2bdc072df0>,\n",
              "        <matplotlib.axes._subplots.AxesSubplot object at 0x7f2bdc02b250>]],\n",
              "      dtype=object)"
            ]
          },
          "metadata": {},
          "execution_count": 16
        },
        {
          "output_type": "display_data",
          "data": {
            "text/plain": [
              "<Figure size 864x576 with 4 Axes>"
            ],
            "image/png": "[encoded data removed]"
          },
          "metadata": {
            "needs_background": "light"
          }
        }
      ]
    },
    {
      "cell_type": "markdown",
      "source": [
        "Método Amplitude interquartil"
      ],
      "metadata": {
        "id": "XCAceiBUSWDO"
      }
    },
    {
      "cell_type": "markdown",
      "source": [
        "Feature x1"
      ],
      "metadata": {
        "id": "VwjVqdGE_E74"
      }
    },
    {
      "cell_type": "code",
      "source": [
        "# Analisando a amplitude interquartil para a feature x1\n",
        "q1_x1, q3_x1 = np.percentile(train_data.x1, [25 , 75])\n",
        "Amp_interquartil_x1 = q3_x1 - q1_x1\n",
        "\n",
        "print(\"Primeiro Quartil da feature x1:\", q1_x1)\n",
        "print(\"Terciro Quartil da feature x1:\", q3_x1)\n",
        "print(\"Amplitude interquatil para a feature x1:\", Amp_interquartil_x1, \"\\n\")\n",
        "\n",
        "# Determinando o limite inferior e superior para a feature x1\n",
        "limite_inferior_x1 = q1_x1 - (1.5 * Amp_interquartil_x1)\n",
        "limite_superior_x1 = q3_x1 + (1.5 * Amp_interquartil_x1)\n",
        "\n",
        "print(\"Limite Inferior da feature x1: \", limite_inferior_x1)\n",
        "print(\"Limite Superior da feature x1: \", limite_superior_x1)"
      ],
      "metadata": {
        "colab": {
          "base_uri": "https://localhost:8080/"
        },
        "id": "HuYqeC5Aekhi",
        "outputId": "f2d17eb4-3659-4c81-cf3e-ec521f9941d5"
      },
      "execution_count": null,
      "outputs": [
        {
          "output_type": "stream",
          "name": "stdout",
          "text": [
            "Primeiro Quartil da feature x1: -0.16961503148156787\n",
            "Terciro Quartil da feature x1: 1.159680083074392\n",
            "Amplitude interquatil para a feature x1: 1.32929511455596 \n",
            "\n",
            "Limite Inferior da feature x1:  -2.163557703315508\n",
            "Limite Superior da feature x1:  3.1536227549083318\n"
          ]
        }
      ]
    },
    {
      "cell_type": "code",
      "source": [
        "# Verificando se existem dados fora dos limites encontrados da feature x1\n",
        "outliers = len(train_data[(train_data.x1 < limite_inferior_x1) | (train_data.x1 > limite_superior_x1)])\n",
        "print(f\"Número de outliers da feature x1: {outliers}\")"
      ],
      "metadata": {
        "colab": {
          "base_uri": "https://localhost:8080/"
        },
        "id": "-B9jMP7-GS9Z",
        "outputId": "776dbfab-8b33-4d04-bbd3-b170e07f459b"
      },
      "execution_count": null,
      "outputs": [
        {
          "output_type": "stream",
          "name": "stdout",
          "text": [
            "Número de outliers da feature x1: 0\n"
          ]
        }
      ]
    },
    {
      "cell_type": "markdown",
      "source": [
        "Feature x2"
      ],
      "metadata": {
        "id": "mmrx5KBH_J62"
      }
    },
    {
      "cell_type": "code",
      "source": [
        "# Analisando a amplitude interquartil para a feature x2\n",
        "q1_x2, q3_x2 = np.percentile(train_data.x2, [25 , 75])\n",
        "Amp_interquartil_x2 = q3_x2 - q1_x2\n",
        "\n",
        "print(\"Primeiro Quartil da feature x2:\", q1_x2)\n",
        "print(\"Terciro Quartil da feature x2:\", q3_x2)\n",
        "print(\"Amplitude interquatil para a feature x2:\", Amp_interquartil_x2, \"\\n\")\n",
        "\n",
        "# Determinando o limite inferior e superior para a feature x2\n",
        "limite_inferior_x2 = q1_x2 - (1.5 * Amp_interquartil_x2)\n",
        "limite_superior_x2 = q3_x2 + (1.5 * Amp_interquartil_x2)\n",
        "\n",
        "print(\"Limite Inferior da feature x2:\", limite_inferior_x2)\n",
        "print(\"Limite Superior da feature x2:\", limite_superior_x2)"
      ],
      "metadata": {
        "colab": {
          "base_uri": "https://localhost:8080/"
        },
        "id": "EIIG8ypAHmTt",
        "outputId": "5291910f-b709-4b85-82c9-32cd62715573"
      },
      "execution_count": null,
      "outputs": [
        {
          "output_type": "stream",
          "name": "stdout",
          "text": [
            "Primeiro Quartil da feature x2: -0.15918907454552478\n",
            "Terciro Quartil da feature x2: 0.7175894685716113\n",
            "Amplitude interquatil para a feature x2: 0.8767785431171361 \n",
            "\n",
            "Limite Inferior da feature x2: -1.4743568892212289\n",
            "Limite Superior da feature x2: 2.0327572832473155\n"
          ]
        }
      ]
    },
    {
      "cell_type": "code",
      "source": [
        "# Verificando se existem dados fora dos limites encontrados da feature x2\n",
        "outliers = len(train_data[(train_data.x2 < limite_inferior_x2) | (train_data.x2 > limite_superior_x2)])\n",
        "print(f\"Número de outliers da feature x2: {outliers}\")"
      ],
      "metadata": {
        "colab": {
          "base_uri": "https://localhost:8080/"
        },
        "id": "kfgYt3FfIe9x",
        "outputId": "cce6f109-0170-4916-8b71-f6c103cec1e7"
      },
      "execution_count": null,
      "outputs": [
        {
          "output_type": "stream",
          "name": "stdout",
          "text": [
            "Número de outliers da feature x2: 0\n"
          ]
        }
      ]
    },
    {
      "cell_type": "markdown",
      "source": [
        "<font color='green'>**CONCLUSÕES IMPORTANTES:**</font>\n",
        "\n",
        "*   Os dados das variáveis x1 e x2 do dataset de treino seguem uma distribuição semelhante a ditribuição gaussiana;\n",
        "*   Foi comprovado pelo método amplitude interquartil e pela plotagem do boxplot que que não existem outliers no dataset de treino;\n",
        "* O gráfico de distribução da variavel alvo (target) evidencia que há uma distribução equilibrada entre os dados do dataset de treino;\n",
        "\n"
      ],
      "metadata": {
        "id": "_E9l5H_cFHAO"
      }
    },
    {
      "cell_type": "markdown",
      "source": [
        "## 2. Modelo de Machine Learning"
      ],
      "metadata": {
        "id": "kFBLkpx6FUNh"
      }
    },
    {
      "cell_type": "markdown",
      "source": [
        "### 2.1 Escolha do algoritmo\n",
        "Para a etapa de modelagem foi escolhido o algoritmo Decision Trees (Arvore de Recisão), já que ele apresenta uma estrutura visual similar a de um fluxograma, com etapas muito faceis de visualizar e entender.\n",
        "\n",
        "Além disso, comparado com outros algorismos de classificação, ele exige um esforço menor de preparação dos dados durante o pré processamento, sem precisar fazer normalização, criação de variáveis fictícias e remoção de valores em branco.\n",
        "\n",
        "\n",
        "\n",
        "\n"
      ],
      "metadata": {
        "id": "cuma-LLmO23I"
      }
    },
    {
      "cell_type": "markdown",
      "source": [
        "### 2.2 Divisão da base de dados"
      ],
      "metadata": {
        "id": "F9gTIOW5jXFx"
      }
    },
    {
      "cell_type": "code",
      "source": [
        "# Importando biblioteca para o modelo\n",
        "from sklearn.model_selection import train_test_split\n",
        "\n",
        "from sklearn.metrics import classification_report\n",
        "from sklearn.metrics import confusion_matrix, ConfusionMatrixDisplay, roc_auc_score, RocCurveDisplay\n",
        "import sklearn.metrics as metrics\n",
        "\n",
        "from sklearn.tree import DecisionTreeClassifier"
      ],
      "metadata": {
        "id": "_lywr_CVOfpk"
      },
      "execution_count": null,
      "outputs": []
    },
    {
      "cell_type": "code",
      "source": [
        "# Separando atributos e target\n",
        "y = train_data['target']\n",
        "X = train_data.drop(columns=['target'])\n",
        "\n",
        "# Definindo o percentual do conjunto de validação\n",
        "tamanho_val = 0.3\n",
        "\n",
        "# Divisão do conjunto de treino e valiadação\n",
        "X_train, X_val, y_train, y_val = train_test_split(X,y, test_size=tamanho_val, shuffle=True, random_state=0)"
      ],
      "metadata": {
        "id": "3EQ6PVCbXSP8"
      },
      "execution_count": null,
      "outputs": []
    },
    {
      "cell_type": "markdown",
      "source": [
        "### 2.3 Treinamento do modelo"
      ],
      "metadata": {
        "id": "F9EVaznBi4LT"
      }
    },
    {
      "cell_type": "code",
      "source": [
        "decision_tree = DecisionTreeClassifier(random_state=0, max_depth=2)\n",
        "decision_tree.fit(X_train, y_train)\n",
        "\n",
        "y_predict_val = decision_tree.predict(X_val)"
      ],
      "metadata": {
        "id": "j-Bi4jYAeJ0a"
      },
      "execution_count": null,
      "outputs": []
    },
    {
      "cell_type": "code",
      "source": [
        "# Identificando as features mais importantes para o modelo em questão\n",
        "for importancia in zip(X.columns, decision_tree.feature_importances_):\n",
        "  print(importancia)"
      ],
      "metadata": {
        "id": "nGqa3ODp9zJZ",
        "colab": {
          "base_uri": "https://localhost:8080/"
        },
        "outputId": "17f9f3e3-52b4-460c-b554-dfcf32077bc4"
      },
      "execution_count": null,
      "outputs": [
        {
          "output_type": "stream",
          "name": "stdout",
          "text": [
            "('x1', 0.3557399002217117)\n",
            "('x2', 0.6442600997782882)\n"
          ]
        }
      ]
    },
    {
      "cell_type": "markdown",
      "source": [
        "Obs.: A feature mais importante para o modelo é 'x2'."
      ],
      "metadata": {
        "id": "fG-bvoC1-IKm"
      }
    },
    {
      "cell_type": "code",
      "source": [
        "# Plotando Gráfico da árvore de decisão\n",
        "from sklearn.tree import plot_tree\n",
        "%pylab inline\n",
        "\n",
        "fig,ax = pylab.subplots(1,1, figsize = (10,10))\n",
        "plot_tree(decision_tree, ax = ax, feature_names = X_train.columns);"
      ],
      "metadata": {
        "colab": {
          "base_uri": "https://localhost:8080/",
          "height": 593
        },
        "id": "Hb2wR4n6DvLq",
        "outputId": "735de777-f845-4fa0-f8c6-e90a82a8f8f2"
      },
      "execution_count": null,
      "outputs": [
        {
          "output_type": "stream",
          "name": "stdout",
          "text": [
            "Populating the interactive namespace from numpy and matplotlib\n"
          ]
        },
        {
          "output_type": "display_data",
          "data": {
            "text/plain": [
              "<Figure size 720x720 with 1 Axes>"
            ],
            "image/png": "[encoded data removed]"
          },
          "metadata": {
            "needs_background": "light"
          }
        }
      ]
    },
    {
      "cell_type": "markdown",
      "source": [
        "Obs.: A profundidade da árvore foi definida através do parametro max_depth=2, durante o treinamento do modelo. Note que a árvore de decisão não é muito profunda, o que significa que o modelo não é complexo. Cabe destacar que é importante evitar a construção de arvores de decisão muito profundas para prevenir a ocorrencia de overfitting.  "
      ],
      "metadata": {
        "id": "sR3RID83FxqN"
      }
    },
    {
      "cell_type": "markdown",
      "source": [
        "### 2.4 Métricas de avaliação do modelo\n",
        "\n",
        "*   **Acuracia**: Indica uma performance geral do modelo. Dentre todas as classificações, quantas o modelo classificou corretamente;\n",
        "*   **Precisão**: Dentre todas as classificações de classe Positivo que o modelo fez, quantas estão corretas;\n",
        "*   **Revocação**: Dentre todas as situações de classe Positivo como valor esperado, quantas estão corretas;\n",
        "*   **F1-Score**: Média harmônica entre precisão e recall;\n",
        "*   **roc_auc_score** : Informa o quanto o modelo está conseguindo distinguir as classes, ou seja, classificar 0 como 0 e 1 como 1.\n",
        "\n"
      ],
      "metadata": {
        "id": "e9xvPzWaj9ai"
      }
    },
    {
      "cell_type": "markdown",
      "source": [
        "Matriz de confusão"
      ],
      "metadata": {
        "id": "wXT1tz5W56Em"
      }
    },
    {
      "cell_type": "code",
      "source": [
        "matriz_confusao = confusion_matrix(y_val, y_predict_val)\n",
        "matriz_confusao"
      ],
      "metadata": {
        "colab": {
          "base_uri": "https://localhost:8080/"
        },
        "id": "ViRDpKnC7QT_",
        "outputId": "7f21566a-6cb2-4b31-d771-e565e85d8730"
      },
      "execution_count": null,
      "outputs": [
        {
          "output_type": "execute_result",
          "data": {
            "text/plain": [
              "array([[ 70,  22],\n",
              "       [  7, 102]])"
            ]
          },
          "metadata": {},
          "execution_count": 26
        }
      ]
    },
    {
      "cell_type": "code",
      "source": [
        "mc = ConfusionMatrixDisplay(matriz_confusao)\n",
        "mc.plot(cmap=\"Blues\")\n",
        "plt.show()"
      ],
      "metadata": {
        "colab": {
          "base_uri": "https://localhost:8080/",
          "height": 279
        },
        "id": "OsAvZhLubVgy",
        "outputId": "3fdafcbc-7f8e-4cbb-8766-8bc2dcc64cf7"
      },
      "execution_count": null,
      "outputs": [
        {
          "output_type": "display_data",
          "data": {
            "text/plain": [
              "<Figure size 432x288 with 2 Axes>"
            ],
            "image/png": "[encoded data removed]"
          },
          "metadata": {
            "needs_background": "light"
          }
        }
      ]
    },
    {
      "cell_type": "code",
      "source": [
        "vn, fp, fn, vp = matriz_confusao[0][0], matriz_confusao[0][1], matriz_confusao[1][0], matriz_confusao[1][1]"
      ],
      "metadata": {
        "id": "rxdvi9LN89tK"
      },
      "execution_count": null,
      "outputs": []
    },
    {
      "cell_type": "markdown",
      "source": [
        "2.4.1 Acurácia"
      ],
      "metadata": {
        "id": "EnOl4GY45aKv"
      }
    },
    {
      "cell_type": "code",
      "source": [
        "# Utilizando a formula\n",
        "acuracia = (vp + vn) / (vp + vn + fp + fn)\n",
        "acuracia\n",
        "\n",
        "# Utilizando a biblioteca\n",
        "acuracia_ = metrics.accuracy_score(y_val, y_predict_val)\n",
        "acuracia_\n",
        "\n",
        "print(f\"Acuracia do modelo: {acuracia}\")\n",
        "print(f\"Acuracia do modelo: {acuracia_}\")"
      ],
      "metadata": {
        "colab": {
          "base_uri": "https://localhost:8080/"
        },
        "id": "PvAGtxGmMVt-",
        "outputId": "c8c0c3ac-40d3-40c7-e6e4-66d3b3678113"
      },
      "execution_count": null,
      "outputs": [
        {
          "output_type": "stream",
          "name": "stdout",
          "text": [
            "Acuracia do modelo: 0.8557213930348259\n",
            "Acuracia do modelo: 0.8557213930348259\n"
          ]
        }
      ]
    },
    {
      "cell_type": "markdown",
      "source": [
        "2.4.2 Precisão"
      ],
      "metadata": {
        "id": "Ah0qs0FPubOz"
      }
    },
    {
      "cell_type": "code",
      "source": [
        "# Utilizando a formula\n",
        "precisao = vp/(vp + fp)\n",
        "precisao\n",
        "\n",
        "# Utilizando a biblioteca\n",
        "precisao_ = metrics.precision_score(y_val, y_predict_val)\n",
        "precisao_\n",
        "\n",
        "print(f\"Precisão do modelo: {precisao}\")\n",
        "print(f\"Precisão do modelo: {precisao_}\")"
      ],
      "metadata": {
        "colab": {
          "base_uri": "https://localhost:8080/"
        },
        "id": "6ZTAxZfGt2tH",
        "outputId": "e1ec0952-e5ad-4362-e6b0-9b487478267c"
      },
      "execution_count": null,
      "outputs": [
        {
          "output_type": "stream",
          "name": "stdout",
          "text": [
            "Precisão do modelo: 0.8225806451612904\n",
            "Precisão do modelo: 0.8225806451612904\n"
          ]
        }
      ]
    },
    {
      "cell_type": "markdown",
      "source": [
        "2.4.3 Revocação"
      ],
      "metadata": {
        "id": "7JCDBDr4u9qQ"
      }
    },
    {
      "cell_type": "code",
      "source": [
        "# Utilizando a formula\n",
        "recall = vp / (vp + fn)\n",
        "recall\n",
        "\n",
        "# Utilizando a biblioteca\n",
        "recall_ = metrics.recall_score(y_val, y_predict_val)\n",
        "recall\n",
        "\n",
        "print(f\"Revocação do modelo: {recall}\")\n",
        "print(f\"Revocação do modelo: {recall_}\")"
      ],
      "metadata": {
        "colab": {
          "base_uri": "https://localhost:8080/"
        },
        "id": "m94XvZBXt2mV",
        "outputId": "2ebe90c3-3be2-4586-c384-7da26fce9057"
      },
      "execution_count": null,
      "outputs": [
        {
          "output_type": "stream",
          "name": "stdout",
          "text": [
            "Revocação do modelo: 0.9357798165137615\n",
            "Revocação do modelo: 0.9357798165137615\n"
          ]
        }
      ]
    },
    {
      "cell_type": "markdown",
      "source": [
        "2.4.4 F1-Score"
      ],
      "metadata": {
        "id": "SITY6e0ewT_E"
      }
    },
    {
      "cell_type": "code",
      "source": [
        "# Utilizando a formula\n",
        "f1_score = 2*(precisao*recall / (precisao+recall))\n",
        "\n",
        "print(f\"F1 Score do modelo: {f1_score}\")"
      ],
      "metadata": {
        "colab": {
          "base_uri": "https://localhost:8080/"
        },
        "id": "VXzRwvNmwTpp",
        "outputId": "79234aa5-502f-416e-9597-f215d2d54d5e"
      },
      "execution_count": null,
      "outputs": [
        {
          "output_type": "stream",
          "name": "stdout",
          "text": [
            "F1 Score do modelo: 0.8755364806866953\n"
          ]
        }
      ]
    },
    {
      "cell_type": "code",
      "source": [
        "# Plotagem conjunta das métricas\n",
        "print(classification_report(y_val, y_predict_val))"
      ],
      "metadata": {
        "colab": {
          "base_uri": "https://localhost:8080/"
        },
        "id": "Iu8V_pZztqdB",
        "outputId": "a1f132e6-e9f7-4152-e398-33b6c27f56bd"
      },
      "execution_count": null,
      "outputs": [
        {
          "output_type": "stream",
          "name": "stdout",
          "text": [
            "              precision    recall  f1-score   support\n",
            "\n",
            "           0       0.91      0.76      0.83        92\n",
            "           1       0.82      0.94      0.88       109\n",
            "\n",
            "    accuracy                           0.86       201\n",
            "   macro avg       0.87      0.85      0.85       201\n",
            "weighted avg       0.86      0.86      0.85       201\n",
            "\n"
          ]
        }
      ]
    },
    {
      "cell_type": "markdown",
      "source": [
        "2.4.5 Curva ROC"
      ],
      "metadata": {
        "id": "jCHfSRRkCDv1"
      }
    },
    {
      "cell_type": "code",
      "source": [
        "# Curva ROC\n",
        "np.round(roc_auc_score(y_val, y_predict_val),4)"
      ],
      "metadata": {
        "id": "xtYhg1Z0ChbV",
        "colab": {
          "base_uri": "https://localhost:8080/"
        },
        "outputId": "a19e8574-eb78-47e9-f356-e73c1dc7d0a3"
      },
      "execution_count": null,
      "outputs": [
        {
          "output_type": "execute_result",
          "data": {
            "text/plain": [
              "0.8483"
            ]
          },
          "metadata": {},
          "execution_count": 34
        }
      ]
    },
    {
      "cell_type": "code",
      "source": [
        "# Plotando Gráfico de Curva ROC\n",
        "RocCurveDisplay.from_predictions(y_val, y_predict_val)"
      ],
      "metadata": {
        "colab": {
          "base_uri": "https://localhost:8080/",
          "height": 297
        },
        "id": "V1tuzwlXZxK7",
        "outputId": "e6c4e878-4641-4e39-a763-63bbe9aeb53c"
      },
      "execution_count": null,
      "outputs": [
        {
          "output_type": "execute_result",
          "data": {
            "text/plain": [
              "<sklearn.metrics._plot.roc_curve.RocCurveDisplay at 0x7f2bd6d10d00>"
            ]
          },
          "metadata": {},
          "execution_count": 35
        },
        {
          "output_type": "display_data",
          "data": {
            "text/plain": [
              "<Figure size 432x288 with 1 Axes>"
            ],
            "image/png": "[encoded data removed]"
          },
          "metadata": {
            "needs_background": "light"
          }
        }
      ]
    }
  ]
}