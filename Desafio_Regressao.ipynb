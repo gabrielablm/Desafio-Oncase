{
  "nbformat": 4,
  "nbformat_minor": 0,
  "metadata": {
    "colab": {
      "provenance": [],
      "collapsed_sections": [
        "YztmbczD2B6Y",
        "urT_MWqf61t8",
        "J0kqQsZVBIte",
        "uFnhrOcXPA1z",
        "Ejwaw5mGDLx7",
        "k7hyEtY6PAXx",
        "DgHH69dJbvd9",
        "kFBLkpx6FUNh",
        "F9gTIOW5jXFx",
        "jng3OCDg0dh1",
        "d8qcR50Z0lPc"
      ],
      "authorship_tag": "ABX9TyMaEC8jwaVYORj9wCkzNaws"
    },
    "kernelspec": {
      "name": "python3",
      "display_name": "Python 3"
    },
    "language_info": {
      "name": "python"
    }
  },
  "cells": [
    {
      "cell_type": "markdown",
      "source": [
        "# <font color='green'>Processo Seletivo Oncase </font>\n",
        "\n",
        "Gabriela Leal | Fevereiro de 2023"
      ],
      "metadata": {
        "id": "EZFen_Cd0ymQ"
      }
    },
    {
      "cell_type": "markdown",
      "source": [
        "## **Macro Tarefa 02: Teste técnico de modelagem - Regressor**\n",
        "Nessa parte, será necessário implementar um algoritmo de acordo com o paradigma do problema. Cada problema tem um conjunto de métricas que são requeridas. A variável alvo sempre será a coluna de nome “target”, exceto para os problemas não-supervisionados.\n",
        "\n",
        "3. Construa um regressor e identifique quais variáveis exercem maior impacto sobre o “target” e informe o porquê interpretando os resultados obtidos. \n",
        "\n",
        "  a) métricas: RMSE, R2 e cor(target_observado, target_predito);\n",
        "\n",
        "  b) dados: regression_data.zip"
      ],
      "metadata": {
        "id": "Tu8nKWkV03w5"
      }
    },
    {
      "cell_type": "markdown",
      "source": [
        "## 1.1 Leitura e processamento dos arquivos\n",
        "\n",
        "IMPORTANTE: Precisa carregar os arquivos 'regression_train.csv' e 'regression_test.csv' na raiz do projeto"
      ],
      "metadata": {
        "id": "YztmbczD2B6Y"
      }
    },
    {
      "cell_type": "code",
      "execution_count": null,
      "metadata": {
        "id": "pVZ74cxU0ouG"
      },
      "outputs": [],
      "source": [
        "# Importando bibliotecas necessárias\n",
        "import pandas as pd\n",
        "import numpy as np\n",
        "\n",
        "import matplotlib.pyplot as plt\n",
        "import seaborn as sns\n",
        "\n",
        "# Inserindo os arquivos csv de treino e teste para leitura e salvando em variáveis\n",
        "train_data = pd.read_csv('regression_train.csv')\n",
        "test_data = pd.read_csv('regression_test.csv')"
      ]
    },
    {
      "cell_type": "code",
      "source": [
        "# Verificando se o arquivo treino foi inserido corretamente\n",
        "train_data.head()"
      ],
      "metadata": {
        "colab": {
          "base_uri": "https://localhost:8080/"
        },
        "id": "eh2b62g462Be",
        "outputId": "03e5322c-fe6f-49a5-c7e3-1a3eb346af00"
      },
      "execution_count": null,
      "outputs": [
        {
          "output_type": "execute_result",
          "data": {
            "text/plain": [
              "        target        X1         X2         X3        X4         X5  X6  \\\n",
              "0          NaN -0.546168        NaN  47.063305  1.611370 -65.882137   0   \n",
              "1    47.735389  3.074317  -2.836000  49.396649  0.261998 -66.570716   0   \n",
              "2          NaN -1.485531 -13.102537  42.367991  3.991558 -67.108014   8   \n",
              "3   908.202209  6.907396  -0.308967  57.228787  0.256771 -66.181266   5   \n",
              "4  1640.461863  1.916788   3.460290  51.703375  2.463790 -65.143663   5   \n",
              "\n",
              "          X7  \n",
              "0 -16.672865  \n",
              "1  -6.664599  \n",
              "2 -30.790962  \n",
              "3  -0.726072  \n",
              "4   8.131680  "
            ],
            "text/html": [
              "\n",
              "  <div id=\"df-568c93f0-ee8c-4632-bfb9-c8874a21f0c2\">\n",
              "    <div class=\"colab-df-container\">\n",
              "      <div>\n",
              "<style scoped>\n",
              "    .dataframe tbody tr th:only-of-type {\n",
              "        vertical-align: middle;\n",
              "    }\n",
              "\n",
              "    .dataframe tbody tr th {\n",
              "        vertical-align: top;\n",
              "    }\n",
              "\n",
              "    .dataframe thead th {\n",
              "        text-align: right;\n",
              "    }\n",
              "</style>\n",
              "<table border=\"1\" class=\"dataframe\">\n",
              "  <thead>\n",
              "    <tr style=\"text-align: right;\">\n",
              "      <th></th>\n",
              "      <th>target</th>\n",
              "      <th>X1</th>\n",
              "      <th>X2</th>\n",
              "      <th>X3</th>\n",
              "      <th>X4</th>\n",
              "      <th>X5</th>\n",
              "      <th>X6</th>\n",
              "      <th>X7</th>\n",
              "    </tr>\n",
              "  </thead>\n",
              "  <tbody>\n",
              "    <tr>\n",
              "      <th>0</th>\n",
              "      <td>NaN</td>\n",
              "      <td>-0.546168</td>\n",
              "      <td>NaN</td>\n",
              "      <td>47.063305</td>\n",
              "      <td>1.611370</td>\n",
              "      <td>-65.882137</td>\n",
              "      <td>0</td>\n",
              "      <td>-16.672865</td>\n",
              "    </tr>\n",
              "    <tr>\n",
              "      <th>1</th>\n",
              "      <td>47.735389</td>\n",
              "      <td>3.074317</td>\n",
              "      <td>-2.836000</td>\n",
              "      <td>49.396649</td>\n",
              "      <td>0.261998</td>\n",
              "      <td>-66.570716</td>\n",
              "      <td>0</td>\n",
              "      <td>-6.664599</td>\n",
              "    </tr>\n",
              "    <tr>\n",
              "      <th>2</th>\n",
              "      <td>NaN</td>\n",
              "      <td>-1.485531</td>\n",
              "      <td>-13.102537</td>\n",
              "      <td>42.367991</td>\n",
              "      <td>3.991558</td>\n",
              "      <td>-67.108014</td>\n",
              "      <td>8</td>\n",
              "      <td>-30.790962</td>\n",
              "    </tr>\n",
              "    <tr>\n",
              "      <th>3</th>\n",
              "      <td>908.202209</td>\n",
              "      <td>6.907396</td>\n",
              "      <td>-0.308967</td>\n",
              "      <td>57.228787</td>\n",
              "      <td>0.256771</td>\n",
              "      <td>-66.181266</td>\n",
              "      <td>5</td>\n",
              "      <td>-0.726072</td>\n",
              "    </tr>\n",
              "    <tr>\n",
              "      <th>4</th>\n",
              "      <td>1640.461863</td>\n",
              "      <td>1.916788</td>\n",
              "      <td>3.460290</td>\n",
              "      <td>51.703375</td>\n",
              "      <td>2.463790</td>\n",
              "      <td>-65.143663</td>\n",
              "      <td>5</td>\n",
              "      <td>8.131680</td>\n",
              "    </tr>\n",
              "  </tbody>\n",
              "</table>\n",
              "</div>\n",
              "      <button class=\"colab-df-convert\" onclick=\"convertToInteractive('df-568c93f0-ee8c-4632-bfb9-c8874a21f0c2')\"\n",
              "              title=\"Convert this dataframe to an interactive table.\"\n",
              "              style=\"display:none;\">\n",
              "        \n",
              "  <svg xmlns=\"http://www.w3.org/2000/svg\" height=\"24px\"viewBox=\"0 0 24 24\"\n",
              "       width=\"24px\">\n",
              "    <path d=\"M0 0h24v24H0V0z\" fill=\"none\"/>\n",
              "    <path d=\"M18.56 5.44l.94 2.06.94-2.06 2.06-.94-2.06-.94-.94-2.06-.94 2.06-2.06.94zm-11 1L8.5 8.5l.94-2.06 2.06-.94-2.06-.94L8.5 2.5l-.94 2.06-2.06.94zm10 10l.94 2.06.94-2.06 2.06-.94-2.06-.94-.94-2.06-.94 2.06-2.06.94z\"/><path d=\"M17.41 7.96l-1.37-1.37c-.4-.4-.92-.59-1.43-.59-.52 0-1.04.2-1.43.59L10.3 9.45l-7.72 7.72c-.78.78-.78 2.05 0 2.83L4 21.41c.39.39.9.59 1.41.59.51 0 1.02-.2 1.41-.59l7.78-7.78 2.81-2.81c.8-.78.8-2.07 0-2.86zM5.41 20L4 18.59l7.72-7.72 1.47 1.35L5.41 20z\"/>\n",
              "  </svg>\n",
              "      </button>\n",
              "      \n",
              "  <style>\n",
              "    .colab-df-container {\n",
              "      display:flex;\n",
              "      flex-wrap:wrap;\n",
              "      gap: 12px;\n",
              "    }\n",
              "\n",
              "    .colab-df-convert {\n",
              "      background-color: #E8F0FE;\n",
              "      border: none;\n",
              "      border-radius: 50%;\n",
              "      cursor: pointer;\n",
              "      display: none;\n",
              "      fill: #1967D2;\n",
              "      height: 32px;\n",
              "      padding: 0 0 0 0;\n",
              "      width: 32px;\n",
              "    }\n",
              "\n",
              "    .colab-df-convert:hover {\n",
              "      background-color: #E2EBFA;\n",
              "      box-shadow: 0px 1px 2px rgba(60, 64, 67, 0.3), 0px 1px 3px 1px rgba(60, 64, 67, 0.15);\n",
              "      fill: #174EA6;\n",
              "    }\n",
              "\n",
              "    [theme=dark] .colab-df-convert {\n",
              "      background-color: #3B4455;\n",
              "      fill: #D2E3FC;\n",
              "    }\n",
              "\n",
              "    [theme=dark] .colab-df-convert:hover {\n",
              "      background-color: #434B5C;\n",
              "      box-shadow: 0px 1px 3px 1px rgba(0, 0, 0, 0.15);\n",
              "      filter: drop-shadow(0px 1px 2px rgba(0, 0, 0, 0.3));\n",
              "      fill: #FFFFFF;\n",
              "    }\n",
              "  </style>\n",
              "\n",
              "      <script>\n",
              "        const buttonEl =\n",
              "          document.querySelector('#df-568c93f0-ee8c-4632-bfb9-c8874a21f0c2 button.colab-df-convert');\n",
              "        buttonEl.style.display =\n",
              "          google.colab.kernel.accessAllowed ? 'block' : 'none';\n",
              "\n",
              "        async function convertToInteractive(key) {\n",
              "          const element = document.querySelector('#df-568c93f0-ee8c-4632-bfb9-c8874a21f0c2');\n",
              "          const dataTable =\n",
              "            await google.colab.kernel.invokeFunction('convertToInteractive',\n",
              "                                                     [key], {});\n",
              "          if (!dataTable) return;\n",
              "\n",
              "          const docLinkHtml = 'Like what you see? Visit the ' +\n",
              "            '<a target=\"_blank\" href=https://colab.research.google.com/notebooks/data_table.ipynb>data table notebook</a>'\n",
              "            + ' to learn more about interactive tables.';\n",
              "          element.innerHTML = '';\n",
              "          dataTable['output_type'] = 'display_data';\n",
              "          await google.colab.output.renderOutput(dataTable, element);\n",
              "          const docLink = document.createElement('div');\n",
              "          docLink.innerHTML = docLinkHtml;\n",
              "          element.appendChild(docLink);\n",
              "        }\n",
              "      </script>\n",
              "    </div>\n",
              "  </div>\n",
              "  "
            ]
          },
          "metadata": {},
          "execution_count": 2
        }
      ]
    },
    {
      "cell_type": "code",
      "source": [
        "# Verificando se o arquivo teste foi inserido corretamente\n",
        "test_data.head()"
      ],
      "metadata": {
        "colab": {
          "base_uri": "https://localhost:8080/"
        },
        "id": "Z_yZiKCg7Lst",
        "outputId": "d9478add-92f3-421f-d3fb-9f4ea8b485f5"
      },
      "execution_count": null,
      "outputs": [
        {
          "output_type": "execute_result",
          "data": {
            "text/plain": [
              "        target        X1        X2         X3        X4         X5  X6  \\\n",
              "0     3.436244  0.210854 -2.451307  51.239996  4.641751 -67.874319   5   \n",
              "1  1525.839412  2.157483  4.337776  43.828794  8.070219 -68.405526   8   \n",
              "2   455.600191  5.166359 -0.452615  43.931305  1.349625 -66.240021   0   \n",
              "3     0.619759  3.276641 -3.607201  50.631046  2.473542 -69.971690   8   \n",
              "4    10.996472 -1.867485 -2.408863  58.660224  2.826219 -53.647149   5   \n",
              "\n",
              "          X7  \n",
              "0  -5.760571  \n",
              "1  10.193773  \n",
              "2  -1.063645  \n",
              "3  -8.476921  \n",
              "4  -5.660827  "
            ],
            "text/html": [
              "\n",
              "  <div id=\"df-ac88ed27-5e7b-4a5b-b94f-fe0b68a0ec0d\">\n",
              "    <div class=\"colab-df-container\">\n",
              "      <div>\n",
              "<style scoped>\n",
              "    .dataframe tbody tr th:only-of-type {\n",
              "        vertical-align: middle;\n",
              "    }\n",
              "\n",
              "    .dataframe tbody tr th {\n",
              "        vertical-align: top;\n",
              "    }\n",
              "\n",
              "    .dataframe thead th {\n",
              "        text-align: right;\n",
              "    }\n",
              "</style>\n",
              "<table border=\"1\" class=\"dataframe\">\n",
              "  <thead>\n",
              "    <tr style=\"text-align: right;\">\n",
              "      <th></th>\n",
              "      <th>target</th>\n",
              "      <th>X1</th>\n",
              "      <th>X2</th>\n",
              "      <th>X3</th>\n",
              "      <th>X4</th>\n",
              "      <th>X5</th>\n",
              "      <th>X6</th>\n",
              "      <th>X7</th>\n",
              "    </tr>\n",
              "  </thead>\n",
              "  <tbody>\n",
              "    <tr>\n",
              "      <th>0</th>\n",
              "      <td>3.436244</td>\n",
              "      <td>0.210854</td>\n",
              "      <td>-2.451307</td>\n",
              "      <td>51.239996</td>\n",
              "      <td>4.641751</td>\n",
              "      <td>-67.874319</td>\n",
              "      <td>5</td>\n",
              "      <td>-5.760571</td>\n",
              "    </tr>\n",
              "    <tr>\n",
              "      <th>1</th>\n",
              "      <td>1525.839412</td>\n",
              "      <td>2.157483</td>\n",
              "      <td>4.337776</td>\n",
              "      <td>43.828794</td>\n",
              "      <td>8.070219</td>\n",
              "      <td>-68.405526</td>\n",
              "      <td>8</td>\n",
              "      <td>10.193773</td>\n",
              "    </tr>\n",
              "    <tr>\n",
              "      <th>2</th>\n",
              "      <td>455.600191</td>\n",
              "      <td>5.166359</td>\n",
              "      <td>-0.452615</td>\n",
              "      <td>43.931305</td>\n",
              "      <td>1.349625</td>\n",
              "      <td>-66.240021</td>\n",
              "      <td>0</td>\n",
              "      <td>-1.063645</td>\n",
              "    </tr>\n",
              "    <tr>\n",
              "      <th>3</th>\n",
              "      <td>0.619759</td>\n",
              "      <td>3.276641</td>\n",
              "      <td>-3.607201</td>\n",
              "      <td>50.631046</td>\n",
              "      <td>2.473542</td>\n",
              "      <td>-69.971690</td>\n",
              "      <td>8</td>\n",
              "      <td>-8.476921</td>\n",
              "    </tr>\n",
              "    <tr>\n",
              "      <th>4</th>\n",
              "      <td>10.996472</td>\n",
              "      <td>-1.867485</td>\n",
              "      <td>-2.408863</td>\n",
              "      <td>58.660224</td>\n",
              "      <td>2.826219</td>\n",
              "      <td>-53.647149</td>\n",
              "      <td>5</td>\n",
              "      <td>-5.660827</td>\n",
              "    </tr>\n",
              "  </tbody>\n",
              "</table>\n",
              "</div>\n",
              "      <button class=\"colab-df-convert\" onclick=\"convertToInteractive('df-ac88ed27-5e7b-4a5b-b94f-fe0b68a0ec0d')\"\n",
              "              title=\"Convert this dataframe to an interactive table.\"\n",
              "              style=\"display:none;\">\n",
              "        \n",
              "  <svg xmlns=\"http://www.w3.org/2000/svg\" height=\"24px\"viewBox=\"0 0 24 24\"\n",
              "       width=\"24px\">\n",
              "    <path d=\"M0 0h24v24H0V0z\" fill=\"none\"/>\n",
              "    <path d=\"M18.56 5.44l.94 2.06.94-2.06 2.06-.94-2.06-.94-.94-2.06-.94 2.06-2.06.94zm-11 1L8.5 8.5l.94-2.06 2.06-.94-2.06-.94L8.5 2.5l-.94 2.06-2.06.94zm10 10l.94 2.06.94-2.06 2.06-.94-2.06-.94-.94-2.06-.94 2.06-2.06.94z\"/><path d=\"M17.41 7.96l-1.37-1.37c-.4-.4-.92-.59-1.43-.59-.52 0-1.04.2-1.43.59L10.3 9.45l-7.72 7.72c-.78.78-.78 2.05 0 2.83L4 21.41c.39.39.9.59 1.41.59.51 0 1.02-.2 1.41-.59l7.78-7.78 2.81-2.81c.8-.78.8-2.07 0-2.86zM5.41 20L4 18.59l7.72-7.72 1.47 1.35L5.41 20z\"/>\n",
              "  </svg>\n",
              "      </button>\n",
              "      \n",
              "  <style>\n",
              "    .colab-df-container {\n",
              "      display:flex;\n",
              "      flex-wrap:wrap;\n",
              "      gap: 12px;\n",
              "    }\n",
              "\n",
              "    .colab-df-convert {\n",
              "      background-color: #E8F0FE;\n",
              "      border: none;\n",
              "      border-radius: 50%;\n",
              "      cursor: pointer;\n",
              "      display: none;\n",
              "      fill: #1967D2;\n",
              "      height: 32px;\n",
              "      padding: 0 0 0 0;\n",
              "      width: 32px;\n",
              "    }\n",
              "\n",
              "    .colab-df-convert:hover {\n",
              "      background-color: #E2EBFA;\n",
              "      box-shadow: 0px 1px 2px rgba(60, 64, 67, 0.3), 0px 1px 3px 1px rgba(60, 64, 67, 0.15);\n",
              "      fill: #174EA6;\n",
              "    }\n",
              "\n",
              "    [theme=dark] .colab-df-convert {\n",
              "      background-color: #3B4455;\n",
              "      fill: #D2E3FC;\n",
              "    }\n",
              "\n",
              "    [theme=dark] .colab-df-convert:hover {\n",
              "      background-color: #434B5C;\n",
              "      box-shadow: 0px 1px 3px 1px rgba(0, 0, 0, 0.15);\n",
              "      filter: drop-shadow(0px 1px 2px rgba(0, 0, 0, 0.3));\n",
              "      fill: #FFFFFF;\n",
              "    }\n",
              "  </style>\n",
              "\n",
              "      <script>\n",
              "        const buttonEl =\n",
              "          document.querySelector('#df-ac88ed27-5e7b-4a5b-b94f-fe0b68a0ec0d button.colab-df-convert');\n",
              "        buttonEl.style.display =\n",
              "          google.colab.kernel.accessAllowed ? 'block' : 'none';\n",
              "\n",
              "        async function convertToInteractive(key) {\n",
              "          const element = document.querySelector('#df-ac88ed27-5e7b-4a5b-b94f-fe0b68a0ec0d');\n",
              "          const dataTable =\n",
              "            await google.colab.kernel.invokeFunction('convertToInteractive',\n",
              "                                                     [key], {});\n",
              "          if (!dataTable) return;\n",
              "\n",
              "          const docLinkHtml = 'Like what you see? Visit the ' +\n",
              "            '<a target=\"_blank\" href=https://colab.research.google.com/notebooks/data_table.ipynb>data table notebook</a>'\n",
              "            + ' to learn more about interactive tables.';\n",
              "          element.innerHTML = '';\n",
              "          dataTable['output_type'] = 'display_data';\n",
              "          await google.colab.output.renderOutput(dataTable, element);\n",
              "          const docLink = document.createElement('div');\n",
              "          docLink.innerHTML = docLinkHtml;\n",
              "          element.appendChild(docLink);\n",
              "        }\n",
              "      </script>\n",
              "    </div>\n",
              "  </div>\n",
              "  "
            ]
          },
          "metadata": {},
          "execution_count": 3
        }
      ]
    },
    {
      "cell_type": "markdown",
      "source": [
        "## 1.2 Exibindo informações iniciais dos dados"
      ],
      "metadata": {
        "id": "urT_MWqf61t8"
      }
    },
    {
      "cell_type": "code",
      "source": [
        "print(f\"O dataset de treino tem {train_data.shape[0]} linhas e {train_data.shape[1]} colunas\")\n",
        "print(f\"O dataset de teste tem {test_data.shape[0]} linhas e {test_data.shape[1]} colunas\")"
      ],
      "metadata": {
        "colab": {
          "base_uri": "https://localhost:8080/"
        },
        "id": "x7GL3qVX-oeM",
        "outputId": "6b60f5f9-1f09-407d-984b-a74ecb9e3c9f"
      },
      "execution_count": null,
      "outputs": [
        {
          "output_type": "stream",
          "name": "stdout",
          "text": [
            "O dataset de treino tem 1042 linhas e 8 colunas\n",
            "O dataset de teste tem 261 linhas e 8 colunas\n"
          ]
        }
      ]
    },
    {
      "cell_type": "code",
      "source": [
        "print(\"Lista dos tipos de dados do dataset de treino:\")\n",
        "train_data.info()"
      ],
      "metadata": {
        "colab": {
          "base_uri": "https://localhost:8080/"
        },
        "id": "zlJ2U3YiUSPh",
        "outputId": "8d422e59-f2b0-4311-ba91-77349aa1a803"
      },
      "execution_count": null,
      "outputs": [
        {
          "output_type": "stream",
          "name": "stdout",
          "text": [
            "Lista dos tipos de dados do dataset de treino:\n",
            "<class 'pandas.core.frame.DataFrame'>\n",
            "RangeIndex: 1042 entries, 0 to 1041\n",
            "Data columns (total 8 columns):\n",
            " #   Column  Non-Null Count  Dtype  \n",
            "---  ------  --------------  -----  \n",
            " 0   target  715 non-null    float64\n",
            " 1   X1      1042 non-null   float64\n",
            " 2   X2      1031 non-null   float64\n",
            " 3   X3      1042 non-null   float64\n",
            " 4   X4      1042 non-null   float64\n",
            " 5   X5      1042 non-null   float64\n",
            " 6   X6      1042 non-null   int64  \n",
            " 7   X7      1042 non-null   float64\n",
            "dtypes: float64(7), int64(1)\n",
            "memory usage: 65.2 KB\n"
          ]
        }
      ]
    },
    {
      "cell_type": "code",
      "source": [
        "print(\"Lista dos tipos de dados do dataset de teste:\")\n",
        "test_data.info()"
      ],
      "metadata": {
        "colab": {
          "base_uri": "https://localhost:8080/"
        },
        "id": "-DS_SWusUpfp",
        "outputId": "28b77191-a9fc-47d1-a7cd-cf001db55787"
      },
      "execution_count": null,
      "outputs": [
        {
          "output_type": "stream",
          "name": "stdout",
          "text": [
            "Lista dos tipos de dados do dataset de teste:\n",
            "<class 'pandas.core.frame.DataFrame'>\n",
            "RangeIndex: 261 entries, 0 to 260\n",
            "Data columns (total 8 columns):\n",
            " #   Column  Non-Null Count  Dtype  \n",
            "---  ------  --------------  -----  \n",
            " 0   target  180 non-null    float64\n",
            " 1   X1      261 non-null    float64\n",
            " 2   X2      261 non-null    float64\n",
            " 3   X3      261 non-null    float64\n",
            " 4   X4      261 non-null    float64\n",
            " 5   X5      261 non-null    float64\n",
            " 6   X6      261 non-null    int64  \n",
            " 7   X7      261 non-null    float64\n",
            "dtypes: float64(7), int64(1)\n",
            "memory usage: 16.4 KB\n"
          ]
        }
      ]
    },
    {
      "cell_type": "markdown",
      "source": [
        "## 1.3 Tranformação e Limpeza dos dados de treinamento"
      ],
      "metadata": {
        "id": "76udCfMW_6bY"
      }
    },
    {
      "cell_type": "markdown",
      "source": [
        "### **1.3.1 Identificando dados duplicados**"
      ],
      "metadata": {
        "id": "J0kqQsZVBIte"
      }
    },
    {
      "cell_type": "code",
      "source": [
        "print(f\"Quantidade de dados duplicados no dataset de treino: {train_data.duplicated().sum()}\")"
      ],
      "metadata": {
        "colab": {
          "base_uri": "https://localhost:8080/"
        },
        "id": "ZGmnL1g7AYaG",
        "outputId": "1d0caa14-95ae-4e4a-ccdc-795f8648c4dd"
      },
      "execution_count": null,
      "outputs": [
        {
          "output_type": "stream",
          "name": "stdout",
          "text": [
            "Quantidade de dados duplicados no dataset de treino: 0\n"
          ]
        }
      ]
    },
    {
      "cell_type": "markdown",
      "source": [
        "Obs.: Caso existissem dados duplicados no dataset, ele deveriam ser retirados para não comprometer a modelagem."
      ],
      "metadata": {
        "id": "qggS53FQCB08"
      }
    },
    {
      "cell_type": "markdown",
      "source": [
        "### **1.3.2 Identificando dados faltantes**"
      ],
      "metadata": {
        "id": "uFnhrOcXPA1z"
      }
    },
    {
      "cell_type": "code",
      "source": [
        "print(\"Quantidade de dados faltantes no dataset de treino:\")\n",
        "train_data.isna().sum()"
      ],
      "metadata": {
        "colab": {
          "base_uri": "https://localhost:8080/"
        },
        "id": "zeb8CJtQPHI_",
        "outputId": "9867eda4-a441-4872-f490-4ee1017c0694"
      },
      "execution_count": null,
      "outputs": [
        {
          "output_type": "stream",
          "name": "stdout",
          "text": [
            "Quantidade de dados faltantes no dataset de treino:\n"
          ]
        },
        {
          "output_type": "execute_result",
          "data": {
            "text/plain": [
              "target    327\n",
              "X1          0\n",
              "X2         11\n",
              "X3          0\n",
              "X4          0\n",
              "X5          0\n",
              "X6          0\n",
              "X7          0\n",
              "dtype: int64"
            ]
          },
          "metadata": {},
          "execution_count": 8
        }
      ]
    },
    {
      "cell_type": "markdown",
      "source": [
        "Obs.: Como existem dados faltantes no dataset, faz-se necessário adotar alguma destas opções: (1) eliminar todos os registros com dados faltantes; (2) alterar os valores 'NaN' por valores substitutos. \n",
        "\n",
        "Nessa caso, optou-se por substituir os dados faltantes de X2 pela mediana desta coluna. Também optou-se pela eliminação dos dados da coluna target, já que eles correspondem a uma quantidade significativa da base de treino e a sua substituição poderia levar a um enviesamento do modelo."
      ],
      "metadata": {
        "id": "3lxXeMKUFf0M"
      }
    },
    {
      "cell_type": "code",
      "source": [
        "# Verificando quais registros apresentam valores nulos na coluna X2\n",
        "train_data[train_data.X2.isnull()]"
      ],
      "metadata": {
        "colab": {
          "base_uri": "https://localhost:8080/"
        },
        "id": "6f7rj6EqlyRD",
        "outputId": "806af0ad-0add-49da-dc82-692c184a32e2"
      },
      "execution_count": null,
      "outputs": [
        {
          "output_type": "execute_result",
          "data": {
            "text/plain": [
              "     target        X1  X2          X3        X4         X5  X6         X7\n",
              "0       NaN -0.546168 NaN   47.063305  1.611370 -65.882137   0 -16.672865\n",
              "172     NaN  4.571493 NaN   45.449257  0.608466 -66.865018   0   2.281620\n",
              "194     NaN  3.575587 NaN  500.000000  1.861361 -67.123039   0   4.654074\n",
              "219     NaN  5.868238 NaN   49.194034  8.548749 -61.403013   0  -8.775597\n",
              "365     NaN  7.590128 NaN   52.673362  1.392632 -66.018883   0   4.254769\n",
              "384     NaN  7.793605 NaN   49.973915  3.139262 -63.849365   0  14.839001\n",
              "568     NaN  5.278143 NaN  500.000000  5.705859 -67.186904   0  -5.690331\n",
              "593     NaN  0.119675 NaN  500.000000  1.479757 -63.551007   0   9.916662\n",
              "830     NaN  4.278546 NaN   52.395178  7.874239 -62.721191   0   9.959998\n",
              "956     NaN  4.541186 NaN  500.000000  0.726459 -64.684597   0   4.143541\n",
              "995     NaN  4.482815 NaN  500.000000  3.071338 -68.171286   0  11.528893"
            ],
            "text/html": [
              "\n",
              "  <div id=\"df-45d38c7a-2820-46a2-809b-4f9ce117445d\">\n",
              "    <div class=\"colab-df-container\">\n",
              "      <div>\n",
              "<style scoped>\n",
              "    .dataframe tbody tr th:only-of-type {\n",
              "        vertical-align: middle;\n",
              "    }\n",
              "\n",
              "    .dataframe tbody tr th {\n",
              "        vertical-align: top;\n",
              "    }\n",
              "\n",
              "    .dataframe thead th {\n",
              "        text-align: right;\n",
              "    }\n",
              "</style>\n",
              "<table border=\"1\" class=\"dataframe\">\n",
              "  <thead>\n",
              "    <tr style=\"text-align: right;\">\n",
              "      <th></th>\n",
              "      <th>target</th>\n",
              "      <th>X1</th>\n",
              "      <th>X2</th>\n",
              "      <th>X3</th>\n",
              "      <th>X4</th>\n",
              "      <th>X5</th>\n",
              "      <th>X6</th>\n",
              "      <th>X7</th>\n",
              "    </tr>\n",
              "  </thead>\n",
              "  <tbody>\n",
              "    <tr>\n",
              "      <th>0</th>\n",
              "      <td>NaN</td>\n",
              "      <td>-0.546168</td>\n",
              "      <td>NaN</td>\n",
              "      <td>47.063305</td>\n",
              "      <td>1.611370</td>\n",
              "      <td>-65.882137</td>\n",
              "      <td>0</td>\n",
              "      <td>-16.672865</td>\n",
              "    </tr>\n",
              "    <tr>\n",
              "      <th>172</th>\n",
              "      <td>NaN</td>\n",
              "      <td>4.571493</td>\n",
              "      <td>NaN</td>\n",
              "      <td>45.449257</td>\n",
              "      <td>0.608466</td>\n",
              "      <td>-66.865018</td>\n",
              "      <td>0</td>\n",
              "      <td>2.281620</td>\n",
              "    </tr>\n",
              "    <tr>\n",
              "      <th>194</th>\n",
              "      <td>NaN</td>\n",
              "      <td>3.575587</td>\n",
              "      <td>NaN</td>\n",
              "      <td>500.000000</td>\n",
              "      <td>1.861361</td>\n",
              "      <td>-67.123039</td>\n",
              "      <td>0</td>\n",
              "      <td>4.654074</td>\n",
              "    </tr>\n",
              "    <tr>\n",
              "      <th>219</th>\n",
              "      <td>NaN</td>\n",
              "      <td>5.868238</td>\n",
              "      <td>NaN</td>\n",
              "      <td>49.194034</td>\n",
              "      <td>8.548749</td>\n",
              "      <td>-61.403013</td>\n",
              "      <td>0</td>\n",
              "      <td>-8.775597</td>\n",
              "    </tr>\n",
              "    <tr>\n",
              "      <th>365</th>\n",
              "      <td>NaN</td>\n",
              "      <td>7.590128</td>\n",
              "      <td>NaN</td>\n",
              "      <td>52.673362</td>\n",
              "      <td>1.392632</td>\n",
              "      <td>-66.018883</td>\n",
              "      <td>0</td>\n",
              "      <td>4.254769</td>\n",
              "    </tr>\n",
              "    <tr>\n",
              "      <th>384</th>\n",
              "      <td>NaN</td>\n",
              "      <td>7.793605</td>\n",
              "      <td>NaN</td>\n",
              "      <td>49.973915</td>\n",
              "      <td>3.139262</td>\n",
              "      <td>-63.849365</td>\n",
              "      <td>0</td>\n",
              "      <td>14.839001</td>\n",
              "    </tr>\n",
              "    <tr>\n",
              "      <th>568</th>\n",
              "      <td>NaN</td>\n",
              "      <td>5.278143</td>\n",
              "      <td>NaN</td>\n",
              "      <td>500.000000</td>\n",
              "      <td>5.705859</td>\n",
              "      <td>-67.186904</td>\n",
              "      <td>0</td>\n",
              "      <td>-5.690331</td>\n",
              "    </tr>\n",
              "    <tr>\n",
              "      <th>593</th>\n",
              "      <td>NaN</td>\n",
              "      <td>0.119675</td>\n",
              "      <td>NaN</td>\n",
              "      <td>500.000000</td>\n",
              "      <td>1.479757</td>\n",
              "      <td>-63.551007</td>\n",
              "      <td>0</td>\n",
              "      <td>9.916662</td>\n",
              "    </tr>\n",
              "    <tr>\n",
              "      <th>830</th>\n",
              "      <td>NaN</td>\n",
              "      <td>4.278546</td>\n",
              "      <td>NaN</td>\n",
              "      <td>52.395178</td>\n",
              "      <td>7.874239</td>\n",
              "      <td>-62.721191</td>\n",
              "      <td>0</td>\n",
              "      <td>9.959998</td>\n",
              "    </tr>\n",
              "    <tr>\n",
              "      <th>956</th>\n",
              "      <td>NaN</td>\n",
              "      <td>4.541186</td>\n",
              "      <td>NaN</td>\n",
              "      <td>500.000000</td>\n",
              "      <td>0.726459</td>\n",
              "      <td>-64.684597</td>\n",
              "      <td>0</td>\n",
              "      <td>4.143541</td>\n",
              "    </tr>\n",
              "    <tr>\n",
              "      <th>995</th>\n",
              "      <td>NaN</td>\n",
              "      <td>4.482815</td>\n",
              "      <td>NaN</td>\n",
              "      <td>500.000000</td>\n",
              "      <td>3.071338</td>\n",
              "      <td>-68.171286</td>\n",
              "      <td>0</td>\n",
              "      <td>11.528893</td>\n",
              "    </tr>\n",
              "  </tbody>\n",
              "</table>\n",
              "</div>\n",
              "      <button class=\"colab-df-convert\" onclick=\"convertToInteractive('df-45d38c7a-2820-46a2-809b-4f9ce117445d')\"\n",
              "              title=\"Convert this dataframe to an interactive table.\"\n",
              "              style=\"display:none;\">\n",
              "        \n",
              "  <svg xmlns=\"http://www.w3.org/2000/svg\" height=\"24px\"viewBox=\"0 0 24 24\"\n",
              "       width=\"24px\">\n",
              "    <path d=\"M0 0h24v24H0V0z\" fill=\"none\"/>\n",
              "    <path d=\"M18.56 5.44l.94 2.06.94-2.06 2.06-.94-2.06-.94-.94-2.06-.94 2.06-2.06.94zm-11 1L8.5 8.5l.94-2.06 2.06-.94-2.06-.94L8.5 2.5l-.94 2.06-2.06.94zm10 10l.94 2.06.94-2.06 2.06-.94-2.06-.94-.94-2.06-.94 2.06-2.06.94z\"/><path d=\"M17.41 7.96l-1.37-1.37c-.4-.4-.92-.59-1.43-.59-.52 0-1.04.2-1.43.59L10.3 9.45l-7.72 7.72c-.78.78-.78 2.05 0 2.83L4 21.41c.39.39.9.59 1.41.59.51 0 1.02-.2 1.41-.59l7.78-7.78 2.81-2.81c.8-.78.8-2.07 0-2.86zM5.41 20L4 18.59l7.72-7.72 1.47 1.35L5.41 20z\"/>\n",
              "  </svg>\n",
              "      </button>\n",
              "      \n",
              "  <style>\n",
              "    .colab-df-container {\n",
              "      display:flex;\n",
              "      flex-wrap:wrap;\n",
              "      gap: 12px;\n",
              "    }\n",
              "\n",
              "    .colab-df-convert {\n",
              "      background-color: #E8F0FE;\n",
              "      border: none;\n",
              "      border-radius: 50%;\n",
              "      cursor: pointer;\n",
              "      display: none;\n",
              "      fill: #1967D2;\n",
              "      height: 32px;\n",
              "      padding: 0 0 0 0;\n",
              "      width: 32px;\n",
              "    }\n",
              "\n",
              "    .colab-df-convert:hover {\n",
              "      background-color: #E2EBFA;\n",
              "      box-shadow: 0px 1px 2px rgba(60, 64, 67, 0.3), 0px 1px 3px 1px rgba(60, 64, 67, 0.15);\n",
              "      fill: #174EA6;\n",
              "    }\n",
              "\n",
              "    [theme=dark] .colab-df-convert {\n",
              "      background-color: #3B4455;\n",
              "      fill: #D2E3FC;\n",
              "    }\n",
              "\n",
              "    [theme=dark] .colab-df-convert:hover {\n",
              "      background-color: #434B5C;\n",
              "      box-shadow: 0px 1px 3px 1px rgba(0, 0, 0, 0.15);\n",
              "      filter: drop-shadow(0px 1px 2px rgba(0, 0, 0, 0.3));\n",
              "      fill: #FFFFFF;\n",
              "    }\n",
              "  </style>\n",
              "\n",
              "      <script>\n",
              "        const buttonEl =\n",
              "          document.querySelector('#df-45d38c7a-2820-46a2-809b-4f9ce117445d button.colab-df-convert');\n",
              "        buttonEl.style.display =\n",
              "          google.colab.kernel.accessAllowed ? 'block' : 'none';\n",
              "\n",
              "        async function convertToInteractive(key) {\n",
              "          const element = document.querySelector('#df-45d38c7a-2820-46a2-809b-4f9ce117445d');\n",
              "          const dataTable =\n",
              "            await google.colab.kernel.invokeFunction('convertToInteractive',\n",
              "                                                     [key], {});\n",
              "          if (!dataTable) return;\n",
              "\n",
              "          const docLinkHtml = 'Like what you see? Visit the ' +\n",
              "            '<a target=\"_blank\" href=https://colab.research.google.com/notebooks/data_table.ipynb>data table notebook</a>'\n",
              "            + ' to learn more about interactive tables.';\n",
              "          element.innerHTML = '';\n",
              "          dataTable['output_type'] = 'display_data';\n",
              "          await google.colab.output.renderOutput(dataTable, element);\n",
              "          const docLink = document.createElement('div');\n",
              "          docLink.innerHTML = docLinkHtml;\n",
              "          element.appendChild(docLink);\n",
              "        }\n",
              "      </script>\n",
              "    </div>\n",
              "  </div>\n",
              "  "
            ]
          },
          "metadata": {},
          "execution_count": 9
        }
      ]
    },
    {
      "cell_type": "markdown",
      "source": [
        "Obs.: Como todas as linhas que apresentam 'NaN' na coluna X2 apresentam também 'NaN' na coluna target, foi feita a eliminação destes registros uma única vez, usando o comando drop() para a coluna target."
      ],
      "metadata": {
        "id": "sc_FQUCWq8kD"
      }
    },
    {
      "cell_type": "code",
      "source": [
        "# Eliminando dados faltantes\n",
        "train_data.drop(train_data.loc[train_data.target.isnull()].index, axis=0, inplace=True)"
      ],
      "metadata": {
        "id": "lg0LQZj_sUCu"
      },
      "execution_count": null,
      "outputs": []
    },
    {
      "cell_type": "code",
      "source": [
        "# Verificando o tamanho do dataset de treino após remoção dos dados faltantes\n",
        "train_data.shape"
      ],
      "metadata": {
        "colab": {
          "base_uri": "https://localhost:8080/"
        },
        "id": "jlHT1CnXxnzK",
        "outputId": "fa517fd2-e461-49c9-90f1-81db8836066d"
      },
      "execution_count": null,
      "outputs": [
        {
          "output_type": "execute_result",
          "data": {
            "text/plain": [
              "(715, 8)"
            ]
          },
          "metadata": {},
          "execution_count": 11
        }
      ]
    },
    {
      "cell_type": "markdown",
      "source": [
        "### **1.3.3 Identificando valores númericos**"
      ],
      "metadata": {
        "id": "Ejwaw5mGDLx7"
      }
    },
    {
      "cell_type": "code",
      "source": [
        "print(\"Tipos de dados do dataset de treino:\")\n",
        "train_data.dtypes"
      ],
      "metadata": {
        "colab": {
          "base_uri": "https://localhost:8080/"
        },
        "id": "gsAw14732zIl",
        "outputId": "828106a2-5edf-4a81-bfa9-ee2a2f2c6783"
      },
      "execution_count": null,
      "outputs": [
        {
          "output_type": "stream",
          "name": "stdout",
          "text": [
            "Tipos de dados do dataset de treino:\n"
          ]
        },
        {
          "output_type": "execute_result",
          "data": {
            "text/plain": [
              "target    float64\n",
              "X1        float64\n",
              "X2        float64\n",
              "X3        float64\n",
              "X4        float64\n",
              "X5        float64\n",
              "X6          int64\n",
              "X7        float64\n",
              "dtype: object"
            ]
          },
          "metadata": {},
          "execution_count": 12
        }
      ]
    },
    {
      "cell_type": "markdown",
      "source": [
        "Obs.: A implementação atual da biblioteca sklearn só oferece suporte a dados numéricos, por isso é muito importante verificar o tipo do dado presente no dataset. Caso existissem dados não numéricos, seria necessário utlizar alguma tecnica de codificação de variáveis categoricas como One-hot encoding e Ordinal encoding, por exemplo."
      ],
      "metadata": {
        "id": "wQHLJaskD8k6"
      }
    },
    {
      "cell_type": "markdown",
      "source": [
        "### **1.3.4 Identificando outliers**"
      ],
      "metadata": {
        "id": "k7hyEtY6PAXx"
      }
    },
    {
      "cell_type": "code",
      "source": [
        "print(\"Dados estatísticos básicos do dataset de treino:\")\n",
        "train_data.describe()"
      ],
      "metadata": {
        "colab": {
          "base_uri": "https://localhost:8080/"
        },
        "id": "ORJQ5U8bPa0R",
        "outputId": "344eb437-3157-4c6e-9ed8-5f4c3280bcff"
      },
      "execution_count": null,
      "outputs": [
        {
          "output_type": "stream",
          "name": "stdout",
          "text": [
            "Dados estatísticos básicos do dataset de treino:\n"
          ]
        },
        {
          "output_type": "execute_result",
          "data": {
            "text/plain": [
              "             target          X1          X2          X3          X4  \\\n",
              "count    715.000000  715.000000  715.000000  715.000000  715.000000   \n",
              "mean    1349.940229    3.367040    1.541895   50.089566    2.330196   \n",
              "std     1593.201095    2.830287    3.236113    4.067153    2.498788   \n",
              "min        0.062551   -4.079909   -3.786653   38.035456    0.009815   \n",
              "25%      230.632308    1.510589   -0.973832   47.423904    0.597640   \n",
              "50%      808.374368    3.354627    1.056399   50.137764    1.526100   \n",
              "75%     1849.754221    5.127394    3.448100   52.871490    3.143906   \n",
              "max    10382.469480   12.380693   12.926106   62.972372   18.813009   \n",
              "\n",
              "               X5          X6          X7  \n",
              "count  715.000000  715.000000  715.000000  \n",
              "mean   -64.986930    4.576224    3.623453  \n",
              "std      9.524299    3.237256    7.604867  \n",
              "min   -121.450423    0.000000   -8.898633  \n",
              "25%    -69.085396    0.000000   -2.288504  \n",
              "50%    -65.078252    5.000000    2.482539  \n",
              "75%    -61.117380    8.000000    8.103036  \n",
              "max     53.919202    8.000000   30.376348  "
            ],
            "text/html": [
              "\n",
              "  <div id=\"df-a0e7a095-4cce-41c0-9b39-8a9cd71d8839\">\n",
              "    <div class=\"colab-df-container\">\n",
              "      <div>\n",
              "<style scoped>\n",
              "    .dataframe tbody tr th:only-of-type {\n",
              "        vertical-align: middle;\n",
              "    }\n",
              "\n",
              "    .dataframe tbody tr th {\n",
              "        vertical-align: top;\n",
              "    }\n",
              "\n",
              "    .dataframe thead th {\n",
              "        text-align: right;\n",
              "    }\n",
              "</style>\n",
              "<table border=\"1\" class=\"dataframe\">\n",
              "  <thead>\n",
              "    <tr style=\"text-align: right;\">\n",
              "      <th></th>\n",
              "      <th>target</th>\n",
              "      <th>X1</th>\n",
              "      <th>X2</th>\n",
              "      <th>X3</th>\n",
              "      <th>X4</th>\n",
              "      <th>X5</th>\n",
              "      <th>X6</th>\n",
              "      <th>X7</th>\n",
              "    </tr>\n",
              "  </thead>\n",
              "  <tbody>\n",
              "    <tr>\n",
              "      <th>count</th>\n",
              "      <td>715.000000</td>\n",
              "      <td>715.000000</td>\n",
              "      <td>715.000000</td>\n",
              "      <td>715.000000</td>\n",
              "      <td>715.000000</td>\n",
              "      <td>715.000000</td>\n",
              "      <td>715.000000</td>\n",
              "      <td>715.000000</td>\n",
              "    </tr>\n",
              "    <tr>\n",
              "      <th>mean</th>\n",
              "      <td>1349.940229</td>\n",
              "      <td>3.367040</td>\n",
              "      <td>1.541895</td>\n",
              "      <td>50.089566</td>\n",
              "      <td>2.330196</td>\n",
              "      <td>-64.986930</td>\n",
              "      <td>4.576224</td>\n",
              "      <td>3.623453</td>\n",
              "    </tr>\n",
              "    <tr>\n",
              "      <th>std</th>\n",
              "      <td>1593.201095</td>\n",
              "      <td>2.830287</td>\n",
              "      <td>3.236113</td>\n",
              "      <td>4.067153</td>\n",
              "      <td>2.498788</td>\n",
              "      <td>9.524299</td>\n",
              "      <td>3.237256</td>\n",
              "      <td>7.604867</td>\n",
              "    </tr>\n",
              "    <tr>\n",
              "      <th>min</th>\n",
              "      <td>0.062551</td>\n",
              "      <td>-4.079909</td>\n",
              "      <td>-3.786653</td>\n",
              "      <td>38.035456</td>\n",
              "      <td>0.009815</td>\n",
              "      <td>-121.450423</td>\n",
              "      <td>0.000000</td>\n",
              "      <td>-8.898633</td>\n",
              "    </tr>\n",
              "    <tr>\n",
              "      <th>25%</th>\n",
              "      <td>230.632308</td>\n",
              "      <td>1.510589</td>\n",
              "      <td>-0.973832</td>\n",
              "      <td>47.423904</td>\n",
              "      <td>0.597640</td>\n",
              "      <td>-69.085396</td>\n",
              "      <td>0.000000</td>\n",
              "      <td>-2.288504</td>\n",
              "    </tr>\n",
              "    <tr>\n",
              "      <th>50%</th>\n",
              "      <td>808.374368</td>\n",
              "      <td>3.354627</td>\n",
              "      <td>1.056399</td>\n",
              "      <td>50.137764</td>\n",
              "      <td>1.526100</td>\n",
              "      <td>-65.078252</td>\n",
              "      <td>5.000000</td>\n",
              "      <td>2.482539</td>\n",
              "    </tr>\n",
              "    <tr>\n",
              "      <th>75%</th>\n",
              "      <td>1849.754221</td>\n",
              "      <td>5.127394</td>\n",
              "      <td>3.448100</td>\n",
              "      <td>52.871490</td>\n",
              "      <td>3.143906</td>\n",
              "      <td>-61.117380</td>\n",
              "      <td>8.000000</td>\n",
              "      <td>8.103036</td>\n",
              "    </tr>\n",
              "    <tr>\n",
              "      <th>max</th>\n",
              "      <td>10382.469480</td>\n",
              "      <td>12.380693</td>\n",
              "      <td>12.926106</td>\n",
              "      <td>62.972372</td>\n",
              "      <td>18.813009</td>\n",
              "      <td>53.919202</td>\n",
              "      <td>8.000000</td>\n",
              "      <td>30.376348</td>\n",
              "    </tr>\n",
              "  </tbody>\n",
              "</table>\n",
              "</div>\n",
              "      <button class=\"colab-df-convert\" onclick=\"convertToInteractive('df-a0e7a095-4cce-41c0-9b39-8a9cd71d8839')\"\n",
              "              title=\"Convert this dataframe to an interactive table.\"\n",
              "              style=\"display:none;\">\n",
              "        \n",
              "  <svg xmlns=\"http://www.w3.org/2000/svg\" height=\"24px\"viewBox=\"0 0 24 24\"\n",
              "       width=\"24px\">\n",
              "    <path d=\"M0 0h24v24H0V0z\" fill=\"none\"/>\n",
              "    <path d=\"M18.56 5.44l.94 2.06.94-2.06 2.06-.94-2.06-.94-.94-2.06-.94 2.06-2.06.94zm-11 1L8.5 8.5l.94-2.06 2.06-.94-2.06-.94L8.5 2.5l-.94 2.06-2.06.94zm10 10l.94 2.06.94-2.06 2.06-.94-2.06-.94-.94-2.06-.94 2.06-2.06.94z\"/><path d=\"M17.41 7.96l-1.37-1.37c-.4-.4-.92-.59-1.43-.59-.52 0-1.04.2-1.43.59L10.3 9.45l-7.72 7.72c-.78.78-.78 2.05 0 2.83L4 21.41c.39.39.9.59 1.41.59.51 0 1.02-.2 1.41-.59l7.78-7.78 2.81-2.81c.8-.78.8-2.07 0-2.86zM5.41 20L4 18.59l7.72-7.72 1.47 1.35L5.41 20z\"/>\n",
              "  </svg>\n",
              "      </button>\n",
              "      \n",
              "  <style>\n",
              "    .colab-df-container {\n",
              "      display:flex;\n",
              "      flex-wrap:wrap;\n",
              "      gap: 12px;\n",
              "    }\n",
              "\n",
              "    .colab-df-convert {\n",
              "      background-color: #E8F0FE;\n",
              "      border: none;\n",
              "      border-radius: 50%;\n",
              "      cursor: pointer;\n",
              "      display: none;\n",
              "      fill: #1967D2;\n",
              "      height: 32px;\n",
              "      padding: 0 0 0 0;\n",
              "      width: 32px;\n",
              "    }\n",
              "\n",
              "    .colab-df-convert:hover {\n",
              "      background-color: #E2EBFA;\n",
              "      box-shadow: 0px 1px 2px rgba(60, 64, 67, 0.3), 0px 1px 3px 1px rgba(60, 64, 67, 0.15);\n",
              "      fill: #174EA6;\n",
              "    }\n",
              "\n",
              "    [theme=dark] .colab-df-convert {\n",
              "      background-color: #3B4455;\n",
              "      fill: #D2E3FC;\n",
              "    }\n",
              "\n",
              "    [theme=dark] .colab-df-convert:hover {\n",
              "      background-color: #434B5C;\n",
              "      box-shadow: 0px 1px 3px 1px rgba(0, 0, 0, 0.15);\n",
              "      filter: drop-shadow(0px 1px 2px rgba(0, 0, 0, 0.3));\n",
              "      fill: #FFFFFF;\n",
              "    }\n",
              "  </style>\n",
              "\n",
              "      <script>\n",
              "        const buttonEl =\n",
              "          document.querySelector('#df-a0e7a095-4cce-41c0-9b39-8a9cd71d8839 button.colab-df-convert');\n",
              "        buttonEl.style.display =\n",
              "          google.colab.kernel.accessAllowed ? 'block' : 'none';\n",
              "\n",
              "        async function convertToInteractive(key) {\n",
              "          const element = document.querySelector('#df-a0e7a095-4cce-41c0-9b39-8a9cd71d8839');\n",
              "          const dataTable =\n",
              "            await google.colab.kernel.invokeFunction('convertToInteractive',\n",
              "                                                     [key], {});\n",
              "          if (!dataTable) return;\n",
              "\n",
              "          const docLinkHtml = 'Like what you see? Visit the ' +\n",
              "            '<a target=\"_blank\" href=https://colab.research.google.com/notebooks/data_table.ipynb>data table notebook</a>'\n",
              "            + ' to learn more about interactive tables.';\n",
              "          element.innerHTML = '';\n",
              "          dataTable['output_type'] = 'display_data';\n",
              "          await google.colab.output.renderOutput(dataTable, element);\n",
              "          const docLink = document.createElement('div');\n",
              "          docLink.innerHTML = docLinkHtml;\n",
              "          element.appendChild(docLink);\n",
              "        }\n",
              "      </script>\n",
              "    </div>\n",
              "  </div>\n",
              "  "
            ]
          },
          "metadata": {},
          "execution_count": 13
        }
      ]
    },
    {
      "cell_type": "code",
      "source": [
        "# Plotando boxplot para observar a distribuição dos dados\n",
        "train_data.boxplot(figsize=(12,8), grid=False, vert=False)"
      ],
      "metadata": {
        "id": "g2Ns78LCTS2u",
        "colab": {
          "base_uri": "https://localhost:8080/"
        },
        "outputId": "c4adc5be-21a3-41cb-f412-0ccdede881bd"
      },
      "execution_count": null,
      "outputs": [
        {
          "output_type": "execute_result",
          "data": {
            "text/plain": [
              "<matplotlib.axes._subplots.AxesSubplot at 0x7fabb9be3dc0>"
            ]
          },
          "metadata": {},
          "execution_count": 14
        },
        {
          "output_type": "display_data",
          "data": {
            "text/plain": [
              "<Figure size 864x576 with 1 Axes>"
            ],
            "image/png": "[encoded data removed]"
          },
          "metadata": {
            "needs_background": "light"
          }
        }
      ]
    },
    {
      "cell_type": "markdown",
      "source": [
        "Obs.: Como os valores apresentados como outliers no boxplot apareceram em maior quantidade na coluna 'target', optou-se por aplicar o metodo amplitude interquartil apenas nesta coluna."
      ],
      "metadata": {
        "id": "QkSTd68jacto"
      }
    },
    {
      "cell_type": "markdown",
      "source": [
        "Método Amplitude interquartil"
      ],
      "metadata": {
        "id": "XCAceiBUSWDO"
      }
    },
    {
      "cell_type": "code",
      "source": [
        "# Analisando a amplitude interquartil para a coluna target\n",
        "q1, q3 = np.percentile(train_data.target, [25 , 75])\n",
        "Amp_interquartil = q3 - q1\n",
        "\n",
        "print(\"Primeiro Quartil da coluna target:\", q1)\n",
        "print(\"Terciro Quartil da coluna target:\", q3)\n",
        "print(\"Amplitude interquatil para a coluna target:\", Amp_interquartil, \"\\n\")\n",
        "\n",
        "# Determinando o limite inferior e superior para a coluna target\n",
        "limite_inferior = q1 - (1.5 * Amp_interquartil)\n",
        "limite_superior = q3 + (1.5 * Amp_interquartil)\n",
        "\n",
        "print(\"Limite Inferior da coluna target: \", limite_inferior)\n",
        "print(\"Limite Superior da coluna target: \", limite_superior)"
      ],
      "metadata": {
        "id": "HuYqeC5Aekhi",
        "colab": {
          "base_uri": "https://localhost:8080/"
        },
        "outputId": "b3c6af87-8817-4400-aa8a-6ec2f53f8149"
      },
      "execution_count": null,
      "outputs": [
        {
          "output_type": "stream",
          "name": "stdout",
          "text": [
            "Primeiro Quartil da coluna target: 230.63230797379947\n",
            "Terciro Quartil da coluna target: 1849.7542212374526\n",
            "Amplitude interquatil para a coluna target: 1619.1219132636531 \n",
            "\n",
            "Limite Inferior da coluna target:  -2198.05056192168\n",
            "Limite Superior da coluna target:  4278.437091132932\n"
          ]
        }
      ]
    },
    {
      "cell_type": "code",
      "source": [
        "# Verificando se existem dados fora dos limites encontrados da coluna target\n",
        "outliers = len(train_data[(train_data.target < limite_inferior) | (train_data.target > limite_superior)])\n",
        "print(f\"Número de outliers da variável x1: {outliers}\")"
      ],
      "metadata": {
        "id": "-B9jMP7-GS9Z",
        "colab": {
          "base_uri": "https://localhost:8080/"
        },
        "outputId": "7e664387-59c1-4333-a137-46abf16dc351"
      },
      "execution_count": null,
      "outputs": [
        {
          "output_type": "stream",
          "name": "stdout",
          "text": [
            "Número de outliers da variável x1: 41\n"
          ]
        }
      ]
    },
    {
      "cell_type": "markdown",
      "source": [
        "## 1.4 Observando a distribuição dos dados"
      ],
      "metadata": {
        "id": "DgHH69dJbvd9"
      }
    },
    {
      "cell_type": "code",
      "source": [
        "# Plotando histograma para observar a distribuição dos dados\n",
        "train_data.hist(figsize=(12,8), bins=20, grid=False)"
      ],
      "metadata": {
        "id": "Uvz-Hsh5PkDB",
        "colab": {
          "base_uri": "https://localhost:8080/"
        },
        "outputId": "c6958520-cd77-4dac-bd0d-fe6dae7f68fe"
      },
      "execution_count": null,
      "outputs": [
        {
          "output_type": "execute_result",
          "data": {
            "text/plain": [
              "array([[<matplotlib.axes._subplots.AxesSubplot object at 0x7fabb9885af0>,\n",
              "        <matplotlib.axes._subplots.AxesSubplot object at 0x7fabb9a62640>,\n",
              "        <matplotlib.axes._subplots.AxesSubplot object at 0x7fabb9a0ba60>],\n",
              "       [<matplotlib.axes._subplots.AxesSubplot object at 0x7fabb9a39e80>,\n",
              "        <matplotlib.axes._subplots.AxesSubplot object at 0x7fabb99ef2b0>,\n",
              "        <matplotlib.axes._subplots.AxesSubplot object at 0x7fabb999c5e0>],\n",
              "       [<matplotlib.axes._subplots.AxesSubplot object at 0x7fabb999c6d0>,\n",
              "        <matplotlib.axes._subplots.AxesSubplot object at 0x7fabb9946b50>,\n",
              "        <matplotlib.axes._subplots.AxesSubplot object at 0x7fabb9928250>]],\n",
              "      dtype=object)"
            ]
          },
          "metadata": {},
          "execution_count": 17
        },
        {
          "output_type": "display_data",
          "data": {
            "text/plain": [
              "<Figure size 864x576 with 9 Axes>"
            ],
            "image/png": "[encoded data removed]"
          },
          "metadata": {
            "needs_background": "light"
          }
        }
      ]
    },
    {
      "cell_type": "markdown",
      "source": [
        "Identificando como as variáveis se relacionam através da matriz de correlação"
      ],
      "metadata": {
        "id": "yYfFa9L_FryV"
      }
    },
    {
      "cell_type": "code",
      "source": [
        "# Gráfico de correlação entre as colunas do dataset de treino\n",
        "colunas = ['target', 'X1', 'X2', 'X3', 'X4', 'X5', 'X6', 'X7']\n",
        "corrmat = train_data[colunas].corr()\n",
        "\n",
        "mask = np.zeros_like(corrmat)\n",
        "mask[np.triu_indices_from(mask)] = True\n",
        "\n",
        "plt.figure(figsize=(8,8))\n",
        "sns.heatmap(corrmat, mask=mask, cmap='Blues',square=True, annot=True)\n",
        "plt.title(\"Matriz de correlação das variáveis do dataset de treino\")\n",
        "plt.show()"
      ],
      "metadata": {
        "id": "ooXv1DdkFE-d",
        "colab": {
          "base_uri": "https://localhost:8080/"
        },
        "outputId": "2da5f357-9d7f-47c8-df0a-5bb11335cd94"
      },
      "execution_count": null,
      "outputs": [
        {
          "output_type": "display_data",
          "data": {
            "text/plain": [
              "<Figure size 576x576 with 2 Axes>"
            ],
            "image/png": "[encoded data removed]"
          },
          "metadata": {
            "needs_background": "light"
          }
        }
      ]
    },
    {
      "cell_type": "markdown",
      "source": [
        "Obs.: A maioria das correlações são positivas, ou seja, as variáveis se movem na mesma direção. As colunas que apresentam maior grau de correlação são X2 e X7, o que indica que elas possuem um relacionamento linear forte entre si."
      ],
      "metadata": {
        "id": "-lPPnpyEIfFm"
      }
    },
    {
      "cell_type": "code",
      "source": [
        "# Plotando scatter para uma melhor visualização da correlação entre as colunas X2, X7 e target\n",
        "\n",
        "a, ax = plt.subplots(1, 2, figsize=(20, 5), sharex=True)\n",
        "sns.regplot(x=\"X2\", y=\"target\", data=train_data, ax=ax[0]).set_title(\"Scatter: X2 e target\")\n",
        "sns.regplot(x=\"X7\", y=\"target\", data=train_data, ax=ax[1]).set_title(\"Scatter: X7 e target\")"
      ],
      "metadata": {
        "colab": {
          "base_uri": "https://localhost:8080/"
        },
        "id": "bG1Qp99s3-0L",
        "outputId": "69054adb-eced-401f-88b8-3b8622165cb6"
      },
      "execution_count": null,
      "outputs": [
        {
          "output_type": "execute_result",
          "data": {
            "text/plain": [
              "Text(0.5, 1.0, 'Scatter: X7 e target')"
            ]
          },
          "metadata": {},
          "execution_count": 19
        },
        {
          "output_type": "display_data",
          "data": {
            "text/plain": [
              "<Figure size 1440x360 with 2 Axes>"
            ],
            "image/png": "[encoded data removed]"
          },
          "metadata": {
            "needs_background": "light"
          }
        }
      ]
    },
    {
      "cell_type": "markdown",
      "source": [
        "<font color='green'>**CONCLUSÕES IMPORTANTES:**</font>\n",
        "\n",
        "*   As colunas do dataset de treino não seguem uma distribuição normal;\n",
        "*   Foi comprovado pelo método amplitude interquartil e pela plotagem do boxplot que existem outliers no dataset de treino, porém optou-se por não remove-los.\n"
      ],
      "metadata": {
        "id": "_E9l5H_cFHAO"
      }
    },
    {
      "cell_type": "markdown",
      "source": [
        "## 2. Modelo de Machine Learning"
      ],
      "metadata": {
        "id": "kFBLkpx6FUNh"
      }
    },
    {
      "cell_type": "markdown",
      "source": [
        "### 2.1 Escolha do algoritmo\n",
        "\n",
        "* **LinerarRegression:** De simples implementação e menor complexidade em relação a outros algoritmos. Ele é um metodo clássico, consolidado e eficiente computacionalmente.\n",
        "\n",
        "* **DecisionTreeRegressor:** Apresenta uma estrutura visual similar a de um fluxograma, com etapas muito faceis de visualizar e entender. Comparado com outros algorismos de regressão, ele exige um esforço menor de preparação dos dados durante o pré processamento, sem precisar fazer normalização, criação de variáveis fictícias e remoção de valores em branco.\n",
        "\n",
        "\n"
      ],
      "metadata": {
        "id": "cuma-LLmO23I"
      }
    },
    {
      "cell_type": "markdown",
      "source": [
        "### 2.2 Métricas de avaliação do modelo\n",
        "\n",
        "*   **R2 Score**: Expressa quanto da variação dos dados de saída (variável dependente) é explicada pela variável de entrada (independente). Quanto maior o valor de R2, melhor o modelo se ajusta a amostra.\n",
        "\n",
        "*   **MAE**: É a métrica de erro todos os erros absolutos de previsão,seria a distância vertical entre o valor previsto (valores na linha de regressão) e o valor real.\n",
        "\n",
        "*   **MSE**: Similar ao MAE, mas eleva o resíduo ao quadrado. O efeito do termo quadrado na equação MSE é mais aparente com a presença de outliers nos dados.\n",
        "\n",
        "*   **RMSE**: Representa o desvio-padrão amostral das diferenças entre os valores preditos e os reais. Toma o quadrado dos resíduos e depois toma a média deles, o que significa que atribui mais peso a erros de previsão maiores, ou seja, considera mais peso para erros maiores, isso significa que ele penaliza erros maiores mais do que o MAE.\n"
      ],
      "metadata": {
        "id": "jhNiA7JIpt1G"
      }
    },
    {
      "cell_type": "markdown",
      "source": [
        "### 2.3 Divisão da base de dados"
      ],
      "metadata": {
        "id": "F9gTIOW5jXFx"
      }
    },
    {
      "cell_type": "code",
      "source": [
        "# Importando biblioteca para o modelo\n",
        "from sklearn.model_selection import train_test_split\n",
        "\n",
        "from sklearn.linear_model import LinearRegression\n",
        "from sklearn.tree import DecisionTreeRegressor\n",
        "from sklearn.metrics import mean_squared_error, mean_absolute_error, r2_score\n",
        "import sklearn.metrics as metrics"
      ],
      "metadata": {
        "id": "_lywr_CVOfpk"
      },
      "execution_count": null,
      "outputs": []
    },
    {
      "cell_type": "code",
      "source": [
        "# Definindo os atributos que serão utilizadas no modelo\n",
        "variaveis = ['X2','X7']\n",
        "\n",
        "# Separando atributos e target\n",
        "y = train_data['target']\n",
        "X = train_data[variaveis]\n",
        "\n",
        "# Definindo o percentual do conjunto de validação\n",
        "tamanho_val = 0.3"
      ],
      "metadata": {
        "id": "3EQ6PVCbXSP8"
      },
      "execution_count": null,
      "outputs": []
    },
    {
      "cell_type": "markdown",
      "source": [
        "### 2.4 Treinamento dos modelos"
      ],
      "metadata": {
        "id": "F9EVaznBi4LT"
      }
    },
    {
      "cell_type": "markdown",
      "source": [
        "#### 2.4.1 Linear Regression"
      ],
      "metadata": {
        "id": "jng3OCDg0dh1"
      }
    },
    {
      "cell_type": "code",
      "source": [
        "# Divisão do conjunto de treino e valiadação\n",
        "X_train, X_val, y_train, y_val = train_test_split(X,y, test_size=tamanho_val, random_state=0)\n",
        "\n",
        "regressor = LinearRegression()\n",
        "regressor.fit(X_train, y_train)\n",
        " \n",
        "y_predict_val_regressor = regressor.predict(X_val)"
      ],
      "metadata": {
        "id": "j-Bi4jYAeJ0a"
      },
      "execution_count": null,
      "outputs": []
    },
    {
      "cell_type": "code",
      "source": [
        "print(f\"Métricas de avaliação do modelo Lenear Regression:\")\n",
        "print(f\"R2 Score: {r2_score(y_val, y_predict_val_regressor)}\")\n",
        "print(f\"RMSE: {np.sqrt(mean_squared_error(y_val, y_predict_val_regressor))}\")\n",
        "\n",
        "print(f\"MAE: {mean_absolute_error(y_val, y_predict_val_regressor)}\")\n",
        "print(f\"MSE: {mean_squared_error(y_val, y_predict_val_regressor)}\")"
      ],
      "metadata": {
        "id": "xdaRSuPyEulr",
        "colab": {
          "base_uri": "https://localhost:8080/"
        },
        "outputId": "fcb3d846-b180-4630-bd34-0e72924ff24e"
      },
      "execution_count": null,
      "outputs": [
        {
          "output_type": "stream",
          "name": "stdout",
          "text": [
            "Métricas de avaliação do modelo Lenear Regression:\n",
            "R2 Score: 0.8695344240192545\n",
            "RMSE: 649.6357631635041\n",
            "MAE: 429.85432464557607\n",
            "MSE: 422026.6247810283\n"
          ]
        }
      ]
    },
    {
      "cell_type": "markdown",
      "source": [
        "#### 2.4.2 Decision Tree Regression"
      ],
      "metadata": {
        "id": "d8qcR50Z0lPc"
      }
    },
    {
      "cell_type": "code",
      "source": [
        "# Divisão do conjunto de treino e valiadação\n",
        "X_train, X_val, y_train, y_val = train_test_split(X,y, test_size=tamanho_val, shuffle=True, random_state=0)\n",
        "\n",
        "tree = DecisionTreeRegressor(max_depth=2, random_state=0)\n",
        "tree.fit(X_train, y_train)\n",
        "\n",
        "y_predict_val_tree = tree.predict(X_val)"
      ],
      "metadata": {
        "id": "6uOqPIcC0Zhc"
      },
      "execution_count": null,
      "outputs": []
    },
    {
      "cell_type": "code",
      "source": [
        "print(f\"Métricas de avaliação do modelo Decision Tree Regressor:\")\n",
        "print(f\"R2 Score: {r2_score(y_val, y_predict_val_tree)}\")\n",
        "print(f\"RMSE: {np.sqrt(mean_squared_error(y_val, y_predict_val_tree))}\")\n",
        "\n",
        "print(f\"MAE: {mean_absolute_error(y_val, y_predict_val_tree)}\")\n",
        "print(f\"MSE: {mean_squared_error(y_val, y_predict_val_tree)}\")"
      ],
      "metadata": {
        "id": "FbXCa1Jq0ZU4",
        "colab": {
          "base_uri": "https://localhost:8080/"
        },
        "outputId": "27e8fa36-75f1-46e4-fe83-6fedfbd84858"
      },
      "execution_count": null,
      "outputs": [
        {
          "output_type": "stream",
          "name": "stdout",
          "text": [
            "Métricas de avaliação do modelo Decision Tree Regressor:\n",
            "R2 Score: 0.8869510606195227\n",
            "RMSE: 604.7212128878106\n",
            "MAE: 414.9371345507611\n",
            "MSE: 365687.74531650473\n"
          ]
        }
      ]
    }
  ]
}