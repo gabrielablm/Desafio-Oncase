{
  "nbformat": 4,
  "nbformat_minor": 0,
  "metadata": {
    "colab": {
      "provenance": [],
      "authorship_tag": "ABX9TyOcWbsQcfQNvFo5a+bCPna2",
      "include_colab_link": true
    },
    "kernelspec": {
      "name": "python3",
      "display_name": "Python 3"
    },
    "language_info": {
      "name": "python"
    }
  },
  "cells": [
    {
      "cell_type": "markdown",
      "metadata": {
        "id": "view-in-github",
        "colab_type": "text"
      },
      "source": [
        "<a href=\"https://colab.research.google.com/github/gabrielablm/Desafio-Oncase/blob/main/Desafio_EDA.ipynb\" target=\"_parent\"><img src=\"https://colab.research.google.com/assets/colab-badge.svg\" alt=\"Open In Colab\"/></a>"
      ]
    },
    {
      "cell_type": "markdown",
      "source": [
        "# <font color='green'>Processo Seletivo Oncase </font>\n",
        "\n",
        "Gabriela Leal | Fevereiro de 2023"
      ],
      "metadata": {
        "id": "enNAFtm9riU8"
      }
    },
    {
      "cell_type": "markdown",
      "source": [
        "## **Macro Tarefa 01: Análise descritiva dos dados (EDA)**\n",
        "\n",
        "  1. Construa uma análise descritiva extraindo conhecimento das variáveis e apresentando quais insights podem ser obtidos a partir delas;\n",
        "\n",
        "  2. Mostre-nos um caminho para selecionar graficamente as variáveis mais ou menos importantes para cada problema, como elas se relacionam e porquê.\n",
        "\n",
        "  3. Em cada problema descreva quais outras técnicas poderiam ser aplicadas e porquê você não as escolheu.\n",
        "\n",
        "  4. Utilize os dados: eda_receitas_data.zip\n",
        "\n",
        "\n"
      ],
      "metadata": {
        "id": "hTBZqT6TfNVY"
      }
    },
    {
      "cell_type": "markdown",
      "source": [
        "## 1.1 Leitura e processamento do arquivo"
      ],
      "metadata": {
        "id": "xH9bGPDB6IO7"
      }
    },
    {
      "cell_type": "code",
      "source": [
        "# Importando bibliotecas necessárias\n",
        "import io\n",
        "import pandas as pd\n",
        "import numpy as np\n",
        "import missingno as msno\n",
        "from google.colab import files\n",
        "\n",
        "# Inserindo o arquivo 'receitas.json'\n",
        "uploaded = files.upload()"
      ],
      "metadata": {
        "colab": {
          "base_uri": "https://localhost:8080/",
          "height": 73
        },
        "id": "oY3512N2NrN_",
        "outputId": "3ca10ec1-548f-4b5b-98eb-d6a587969578"
      },
      "execution_count": null,
      "outputs": [
        {
          "output_type": "display_data",
          "data": {
            "text/plain": [
              "<IPython.core.display.HTML object>"
            ],
            "text/html": [
              "\n",
              "     <input type=\"file\" id=\"files-a1d74bf9-45b3-4cd9-8dd3-be5ff939674d\" name=\"files[]\" multiple disabled\n",
              "        style=\"border:none\" />\n",
              "     <output id=\"result-a1d74bf9-45b3-4cd9-8dd3-be5ff939674d\">\n",
              "      Upload widget is only available when the cell has been executed in the\n",
              "      current browser session. Please rerun this cell to enable.\n",
              "      </output>\n",
              "      <script>// Copyright 2017 Google LLC\n",
              "//\n",
              "// Licensed under the Apache License, Version 2.0 (the \"License\");\n",
              "// you may not use this file except in compliance with the License.\n",
              "// You may obtain a copy of the License at\n",
              "//\n",
              "//      http://www.apache.org/licenses/LICENSE-2.0\n",
              "//\n",
              "// Unless required by applicable law or agreed to in writing, software\n",
              "// distributed under the License is distributed on an \"AS IS\" BASIS,\n",
              "// WITHOUT WARRANTIES OR CONDITIONS OF ANY KIND, either express or implied.\n",
              "// See the License for the specific language governing permissions and\n",
              "// limitations under the License.\n",
              "\n",
              "/**\n",
              " * @fileoverview Helpers for google.colab Python module.\n",
              " */\n",
              "(function(scope) {\n",
              "function span(text, styleAttributes = {}) {\n",
              "  const element = document.createElement('span');\n",
              "  element.textContent = text;\n",
              "  for (const key of Object.keys(styleAttributes)) {\n",
              "    element.style[key] = styleAttributes[key];\n",
              "  }\n",
              "  return element;\n",
              "}\n",
              "\n",
              "// Max number of bytes which will be uploaded at a time.\n",
              "const MAX_PAYLOAD_SIZE = 100 * 1024;\n",
              "\n",
              "function _uploadFiles(inputId, outputId) {\n",
              "  const steps = uploadFilesStep(inputId, outputId);\n",
              "  const outputElement = document.getElementById(outputId);\n",
              "  // Cache steps on the outputElement to make it available for the next call\n",
              "  // to uploadFilesContinue from Python.\n",
              "  outputElement.steps = steps;\n",
              "\n",
              "  return _uploadFilesContinue(outputId);\n",
              "}\n",
              "\n",
              "// This is roughly an async generator (not supported in the browser yet),\n",
              "// where there are multiple asynchronous steps and the Python side is going\n",
              "// to poll for completion of each step.\n",
              "// This uses a Promise to block the python side on completion of each step,\n",
              "// then passes the result of the previous step as the input to the next step.\n",
              "function _uploadFilesContinue(outputId) {\n",
              "  const outputElement = document.getElementById(outputId);\n",
              "  const steps = outputElement.steps;\n",
              "\n",
              "  const next = steps.next(outputElement.lastPromiseValue);\n",
              "  return Promise.resolve(next.value.promise).then((value) => {\n",
              "    // Cache the last promise value to make it available to the next\n",
              "    // step of the generator.\n",
              "    outputElement.lastPromiseValue = value;\n",
              "    return next.value.response;\n",
              "  });\n",
              "}\n",
              "\n",
              "/**\n",
              " * Generator function which is called between each async step of the upload\n",
              " * process.\n",
              " * @param {string} inputId Element ID of the input file picker element.\n",
              " * @param {string} outputId Element ID of the output display.\n",
              " * @return {!Iterable<!Object>} Iterable of next steps.\n",
              " */\n",
              "function* uploadFilesStep(inputId, outputId) {\n",
              "  const inputElement = document.getElementById(inputId);\n",
              "  inputElement.disabled = false;\n",
              "\n",
              "  const outputElement = document.getElementById(outputId);\n",
              "  outputElement.innerHTML = '';\n",
              "\n",
              "  const pickedPromise = new Promise((resolve) => {\n",
              "    inputElement.addEventListener('change', (e) => {\n",
              "      resolve(e.target.files);\n",
              "    });\n",
              "  });\n",
              "\n",
              "  const cancel = document.createElement('button');\n",
              "  inputElement.parentElement.appendChild(cancel);\n",
              "  cancel.textContent = 'Cancel upload';\n",
              "  const cancelPromise = new Promise((resolve) => {\n",
              "    cancel.onclick = () => {\n",
              "      resolve(null);\n",
              "    };\n",
              "  });\n",
              "\n",
              "  // Wait for the user to pick the files.\n",
              "  const files = yield {\n",
              "    promise: Promise.race([pickedPromise, cancelPromise]),\n",
              "    response: {\n",
              "      action: 'starting',\n",
              "    }\n",
              "  };\n",
              "\n",
              "  cancel.remove();\n",
              "\n",
              "  // Disable the input element since further picks are not allowed.\n",
              "  inputElement.disabled = true;\n",
              "\n",
              "  if (!files) {\n",
              "    return {\n",
              "      response: {\n",
              "        action: 'complete',\n",
              "      }\n",
              "    };\n",
              "  }\n",
              "\n",
              "  for (const file of files) {\n",
              "    const li = document.createElement('li');\n",
              "    li.append(span(file.name, {fontWeight: 'bold'}));\n",
              "    li.append(span(\n",
              "        `(${file.type || 'n/a'}) - ${file.size} bytes, ` +\n",
              "        `last modified: ${\n",
              "            file.lastModifiedDate ? file.lastModifiedDate.toLocaleDateString() :\n",
              "                                    'n/a'} - `));\n",
              "    const percent = span('0% done');\n",
              "    li.appendChild(percent);\n",
              "\n",
              "    outputElement.appendChild(li);\n",
              "\n",
              "    const fileDataPromise = new Promise((resolve) => {\n",
              "      const reader = new FileReader();\n",
              "      reader.onload = (e) => {\n",
              "        resolve(e.target.result);\n",
              "      };\n",
              "      reader.readAsArrayBuffer(file);\n",
              "    });\n",
              "    // Wait for the data to be ready.\n",
              "    let fileData = yield {\n",
              "      promise: fileDataPromise,\n",
              "      response: {\n",
              "        action: 'continue',\n",
              "      }\n",
              "    };\n",
              "\n",
              "    // Use a chunked sending to avoid message size limits. See b/62115660.\n",
              "    let position = 0;\n",
              "    do {\n",
              "      const length = Math.min(fileData.byteLength - position, MAX_PAYLOAD_SIZE);\n",
              "      const chunk = new Uint8Array(fileData, position, length);\n",
              "      position += length;\n",
              "\n",
              "      const base64 = btoa(String.fromCharCode.apply(null, chunk));\n",
              "      yield {\n",
              "        response: {\n",
              "          action: 'append',\n",
              "          file: file.name,\n",
              "          data: base64,\n",
              "        },\n",
              "      };\n",
              "\n",
              "      let percentDone = fileData.byteLength === 0 ?\n",
              "          100 :\n",
              "          Math.round((position / fileData.byteLength) * 100);\n",
              "      percent.textContent = `${percentDone}% done`;\n",
              "\n",
              "    } while (position < fileData.byteLength);\n",
              "  }\n",
              "\n",
              "  // All done.\n",
              "  yield {\n",
              "    response: {\n",
              "      action: 'complete',\n",
              "    }\n",
              "  };\n",
              "}\n",
              "\n",
              "scope.google = scope.google || {};\n",
              "scope.google.colab = scope.google.colab || {};\n",
              "scope.google.colab._files = {\n",
              "  _uploadFiles,\n",
              "  _uploadFilesContinue,\n",
              "};\n",
              "})(self);\n",
              "</script> "
            ]
          },
          "metadata": {}
        },
        {
          "output_type": "stream",
          "name": "stdout",
          "text": [
            "Saving receitas.json to receitas.json\n"
          ]
        }
      ]
    },
    {
      "cell_type": "code",
      "source": [
        "# Lendo o arquivo e salvando o dataset em uma variável\n",
        "df = pd.read_json(io.StringIO(uploaded.get('receitas.json').decode('utf-8')))\n",
        "\n",
        "# Verificando se o arquivo foi inserido corretamente\n",
        "df"
      ],
      "metadata": {
        "colab": {
          "base_uri": "https://localhost:8080/",
          "height": 1000
        },
        "id": "KmwcNaRvNjT5",
        "outputId": "a4ecffed-4691-43aa-9479-07df66a04e05"
      },
      "execution_count": null,
      "outputs": [
        {
          "output_type": "execute_result",
          "data": {
            "text/plain": [
              "                                              directions   fat  \\\n",
              "0      [1. Place the stock, lentils, celery, carrot, ...   7.0   \n",
              "1      [Combine first 9 ingredients in heavy medium s...  23.0   \n",
              "2      [In a large heavy saucepan cook diced fennel a...   7.0   \n",
              "3      [Heat oil in heavy large skillet over medium-h...   NaN   \n",
              "4      [Preheat oven to 350°F. Lightly grease 8x8x2-i...  32.0   \n",
              "...                                                  ...   ...   \n",
              "20125  [Beat whites in a bowl with an electric mixer ...   2.0   \n",
              "20126  [Bring broth to simmer in saucepan.Remove from...  28.0   \n",
              "20127  [Using a sharp knife, cut a shallow X in botto...  38.0   \n",
              "20128  [Heat 2 tablespoons oil in heavy medium skille...  24.0   \n",
              "20129  [Position rack in bottom third of oven and pre...  10.0   \n",
              "\n",
              "                           date  \\\n",
              "0     2006-09-01 04:00:00+00:00   \n",
              "1     2004-08-20 04:00:00+00:00   \n",
              "2     2004-08-20 04:00:00+00:00   \n",
              "3     2009-03-27 04:00:00+00:00   \n",
              "4     2004-08-20 04:00:00+00:00   \n",
              "...                         ...   \n",
              "20125 2004-08-20 04:00:00+00:00   \n",
              "20126 2008-02-28 22:06:54+00:00   \n",
              "20127 2005-10-21 18:21:20+00:00   \n",
              "20128 2004-08-20 04:00:00+00:00   \n",
              "20129 2004-08-20 04:00:00+00:00   \n",
              "\n",
              "                                              categories  calories  \\\n",
              "0      [Sandwich, Bean, Fruit, Tomato, turkey, Vegeta...     426.0   \n",
              "1      [Food Processor, Onion, Pork, Bake, Bastille D...     403.0   \n",
              "2      [Soup/Stew, Dairy, Potato, Vegetable, Fennel, ...     165.0   \n",
              "3      [Fish, Olive, Tomato, Sauté, Low Fat, Low Cal,...       NaN   \n",
              "4      [Cheese, Dairy, Pasta, Vegetable, Side, Bake, ...     547.0   \n",
              "...                                                  ...       ...   \n",
              "20125  [Mixer, Cheese, Egg, Fry, Cocktail Party, Parm...      28.0   \n",
              "20126  [Side, Kid-Friendly, High Fiber, Dinner, Parme...     671.0   \n",
              "20127  [Onion, Poultry, turkey, Vegetable, Bake, Kid-...     563.0   \n",
              "20128  [Milk/Cream, Citrus, Dairy, Fish, Garlic, Past...     631.0   \n",
              "20129  [Pork, Bake, Roast, Christmas, Ham, Winter, Bo...     560.0   \n",
              "\n",
              "                                                    desc  protein  rating  \\\n",
              "0                                                   None     30.0   2.500   \n",
              "1      This uses the same ingredients found in boudin...     18.0   4.375   \n",
              "2                                                   None      6.0   3.750   \n",
              "3      The Sicilian-style tomato sauce has tons of Me...      NaN   5.000   \n",
              "4                                                   None     20.0   3.125   \n",
              "...                                                  ...      ...     ...   \n",
              "20125                                               None      2.0   3.125   \n",
              "20126  Cooking the artichokes with the rice infuses t...     22.0   4.375   \n",
              "20127                                               None     31.0   4.375   \n",
              "20128  Sharon Hooykaas of Los Alamitos, California, w...     45.0   4.375   \n",
              "20129  Although labeled fully cooked, the ham will st...     73.0   4.375   \n",
              "\n",
              "                                             title  \\\n",
              "0                  Lentil, Apple, and Turkey Wrap    \n",
              "1      Boudin Blanc Terrine with Red Onion Confit    \n",
              "2                    Potato and Fennel Soup Hodge    \n",
              "3                 Mahi-Mahi in Tomato Olive Sauce    \n",
              "4                        Spinach Noodle Casserole    \n",
              "...                                            ...   \n",
              "20125                              Parmesan Puffs    \n",
              "20126              Artichoke and Parmesan Risotto    \n",
              "20127                       Turkey Cream Puff Pie    \n",
              "20128     Snapper on Angel Hair with Citrus Cream    \n",
              "20129  Baked Ham with Marmalade-Horseradish Glaze    \n",
              "\n",
              "                                             ingredients  sodium  \n",
              "0      [4 cups low-sodium vegetable or chicken stock,...   559.0  \n",
              "1      [1 1/2 cups whipping cream, 2 medium onions, c...  1439.0  \n",
              "2      [1 fennel bulb (sometimes called anise), stalk...   165.0  \n",
              "3      [2 tablespoons extra-virgin olive oil, 1 cup c...     NaN  \n",
              "4      [1 12-ounce package frozen spinach soufflé, th...   452.0  \n",
              "...                                                  ...     ...  \n",
              "20125  [2 large egg whites, 3 oz Parmigiano-Reggiano,...    64.0  \n",
              "20126  [5 1/2 cups (or more) low-salt chicken broth, ...   583.0  \n",
              "20127  [1 small tomato, 1 small onion, finely chopped...   652.0  \n",
              "20128  [4 tablespoons olive oil, 4 shallots, thinly s...   517.0  \n",
              "20129  [1 18-pound fully cooked bone-in smoked ham, r...  3698.0  \n",
              "\n",
              "[20130 rows x 11 columns]"
            ],
            "text/html": [
              "\n",
              "  <div id=\"df-be425933-dc14-440c-b6f7-58933a05c725\">\n",
              "    <div class=\"colab-df-container\">\n",
              "      <div>\n",
              "<style scoped>\n",
              "    .dataframe tbody tr th:only-of-type {\n",
              "        vertical-align: middle;\n",
              "    }\n",
              "\n",
              "    .dataframe tbody tr th {\n",
              "        vertical-align: top;\n",
              "    }\n",
              "\n",
              "    .dataframe thead th {\n",
              "        text-align: right;\n",
              "    }\n",
              "</style>\n",
              "<table border=\"1\" class=\"dataframe\">\n",
              "  <thead>\n",
              "    <tr style=\"text-align: right;\">\n",
              "      <th></th>\n",
              "      <th>directions</th>\n",
              "      <th>fat</th>\n",
              "      <th>date</th>\n",
              "      <th>categories</th>\n",
              "      <th>calories</th>\n",
              "      <th>desc</th>\n",
              "      <th>protein</th>\n",
              "      <th>rating</th>\n",
              "      <th>title</th>\n",
              "      <th>ingredients</th>\n",
              "      <th>sodium</th>\n",
              "    </tr>\n",
              "  </thead>\n",
              "  <tbody>\n",
              "    <tr>\n",
              "      <th>0</th>\n",
              "      <td>[1. Place the stock, lentils, celery, carrot, ...</td>\n",
              "      <td>7.0</td>\n",
              "      <td>2006-09-01 04:00:00+00:00</td>\n",
              "      <td>[Sandwich, Bean, Fruit, Tomato, turkey, Vegeta...</td>\n",
              "      <td>426.0</td>\n",
              "      <td>None</td>\n",
              "      <td>30.0</td>\n",
              "      <td>2.500</td>\n",
              "      <td>Lentil, Apple, and Turkey Wrap</td>\n",
              "      <td>[4 cups low-sodium vegetable or chicken stock,...</td>\n",
              "      <td>559.0</td>\n",
              "    </tr>\n",
              "    <tr>\n",
              "      <th>1</th>\n",
              "      <td>[Combine first 9 ingredients in heavy medium s...</td>\n",
              "      <td>23.0</td>\n",
              "      <td>2004-08-20 04:00:00+00:00</td>\n",
              "      <td>[Food Processor, Onion, Pork, Bake, Bastille D...</td>\n",
              "      <td>403.0</td>\n",
              "      <td>This uses the same ingredients found in boudin...</td>\n",
              "      <td>18.0</td>\n",
              "      <td>4.375</td>\n",
              "      <td>Boudin Blanc Terrine with Red Onion Confit</td>\n",
              "      <td>[1 1/2 cups whipping cream, 2 medium onions, c...</td>\n",
              "      <td>1439.0</td>\n",
              "    </tr>\n",
              "    <tr>\n",
              "      <th>2</th>\n",
              "      <td>[In a large heavy saucepan cook diced fennel a...</td>\n",
              "      <td>7.0</td>\n",
              "      <td>2004-08-20 04:00:00+00:00</td>\n",
              "      <td>[Soup/Stew, Dairy, Potato, Vegetable, Fennel, ...</td>\n",
              "      <td>165.0</td>\n",
              "      <td>None</td>\n",
              "      <td>6.0</td>\n",
              "      <td>3.750</td>\n",
              "      <td>Potato and Fennel Soup Hodge</td>\n",
              "      <td>[1 fennel bulb (sometimes called anise), stalk...</td>\n",
              "      <td>165.0</td>\n",
              "    </tr>\n",
              "    <tr>\n",
              "      <th>3</th>\n",
              "      <td>[Heat oil in heavy large skillet over medium-h...</td>\n",
              "      <td>NaN</td>\n",
              "      <td>2009-03-27 04:00:00+00:00</td>\n",
              "      <td>[Fish, Olive, Tomato, Sauté, Low Fat, Low Cal,...</td>\n",
              "      <td>NaN</td>\n",
              "      <td>The Sicilian-style tomato sauce has tons of Me...</td>\n",
              "      <td>NaN</td>\n",
              "      <td>5.000</td>\n",
              "      <td>Mahi-Mahi in Tomato Olive Sauce</td>\n",
              "      <td>[2 tablespoons extra-virgin olive oil, 1 cup c...</td>\n",
              "      <td>NaN</td>\n",
              "    </tr>\n",
              "    <tr>\n",
              "      <th>4</th>\n",
              "      <td>[Preheat oven to 350°F. Lightly grease 8x8x2-i...</td>\n",
              "      <td>32.0</td>\n",
              "      <td>2004-08-20 04:00:00+00:00</td>\n",
              "      <td>[Cheese, Dairy, Pasta, Vegetable, Side, Bake, ...</td>\n",
              "      <td>547.0</td>\n",
              "      <td>None</td>\n",
              "      <td>20.0</td>\n",
              "      <td>3.125</td>\n",
              "      <td>Spinach Noodle Casserole</td>\n",
              "      <td>[1 12-ounce package frozen spinach soufflé, th...</td>\n",
              "      <td>452.0</td>\n",
              "    </tr>\n",
              "    <tr>\n",
              "      <th>...</th>\n",
              "      <td>...</td>\n",
              "      <td>...</td>\n",
              "      <td>...</td>\n",
              "      <td>...</td>\n",
              "      <td>...</td>\n",
              "      <td>...</td>\n",
              "      <td>...</td>\n",
              "      <td>...</td>\n",
              "      <td>...</td>\n",
              "      <td>...</td>\n",
              "      <td>...</td>\n",
              "    </tr>\n",
              "    <tr>\n",
              "      <th>20125</th>\n",
              "      <td>[Beat whites in a bowl with an electric mixer ...</td>\n",
              "      <td>2.0</td>\n",
              "      <td>2004-08-20 04:00:00+00:00</td>\n",
              "      <td>[Mixer, Cheese, Egg, Fry, Cocktail Party, Parm...</td>\n",
              "      <td>28.0</td>\n",
              "      <td>None</td>\n",
              "      <td>2.0</td>\n",
              "      <td>3.125</td>\n",
              "      <td>Parmesan Puffs</td>\n",
              "      <td>[2 large egg whites, 3 oz Parmigiano-Reggiano,...</td>\n",
              "      <td>64.0</td>\n",
              "    </tr>\n",
              "    <tr>\n",
              "      <th>20126</th>\n",
              "      <td>[Bring broth to simmer in saucepan.Remove from...</td>\n",
              "      <td>28.0</td>\n",
              "      <td>2008-02-28 22:06:54+00:00</td>\n",
              "      <td>[Side, Kid-Friendly, High Fiber, Dinner, Parme...</td>\n",
              "      <td>671.0</td>\n",
              "      <td>Cooking the artichokes with the rice infuses t...</td>\n",
              "      <td>22.0</td>\n",
              "      <td>4.375</td>\n",
              "      <td>Artichoke and Parmesan Risotto</td>\n",
              "      <td>[5 1/2 cups (or more) low-salt chicken broth, ...</td>\n",
              "      <td>583.0</td>\n",
              "    </tr>\n",
              "    <tr>\n",
              "      <th>20127</th>\n",
              "      <td>[Using a sharp knife, cut a shallow X in botto...</td>\n",
              "      <td>38.0</td>\n",
              "      <td>2005-10-21 18:21:20+00:00</td>\n",
              "      <td>[Onion, Poultry, turkey, Vegetable, Bake, Kid-...</td>\n",
              "      <td>563.0</td>\n",
              "      <td>None</td>\n",
              "      <td>31.0</td>\n",
              "      <td>4.375</td>\n",
              "      <td>Turkey Cream Puff Pie</td>\n",
              "      <td>[1 small tomato, 1 small onion, finely chopped...</td>\n",
              "      <td>652.0</td>\n",
              "    </tr>\n",
              "    <tr>\n",
              "      <th>20128</th>\n",
              "      <td>[Heat 2 tablespoons oil in heavy medium skille...</td>\n",
              "      <td>24.0</td>\n",
              "      <td>2004-08-20 04:00:00+00:00</td>\n",
              "      <td>[Milk/Cream, Citrus, Dairy, Fish, Garlic, Past...</td>\n",
              "      <td>631.0</td>\n",
              "      <td>Sharon Hooykaas of Los Alamitos, California, w...</td>\n",
              "      <td>45.0</td>\n",
              "      <td>4.375</td>\n",
              "      <td>Snapper on Angel Hair with Citrus Cream</td>\n",
              "      <td>[4 tablespoons olive oil, 4 shallots, thinly s...</td>\n",
              "      <td>517.0</td>\n",
              "    </tr>\n",
              "    <tr>\n",
              "      <th>20129</th>\n",
              "      <td>[Position rack in bottom third of oven and pre...</td>\n",
              "      <td>10.0</td>\n",
              "      <td>2004-08-20 04:00:00+00:00</td>\n",
              "      <td>[Pork, Bake, Roast, Christmas, Ham, Winter, Bo...</td>\n",
              "      <td>560.0</td>\n",
              "      <td>Although labeled fully cooked, the ham will st...</td>\n",
              "      <td>73.0</td>\n",
              "      <td>4.375</td>\n",
              "      <td>Baked Ham with Marmalade-Horseradish Glaze</td>\n",
              "      <td>[1 18-pound fully cooked bone-in smoked ham, r...</td>\n",
              "      <td>3698.0</td>\n",
              "    </tr>\n",
              "  </tbody>\n",
              "</table>\n",
              "<p>20130 rows × 11 columns</p>\n",
              "</div>\n",
              "      <button class=\"colab-df-convert\" onclick=\"convertToInteractive('df-be425933-dc14-440c-b6f7-58933a05c725')\"\n",
              "              title=\"Convert this dataframe to an interactive table.\"\n",
              "              style=\"display:none;\">\n",
              "        \n",
              "  <svg xmlns=\"http://www.w3.org/2000/svg\" height=\"24px\"viewBox=\"0 0 24 24\"\n",
              "       width=\"24px\">\n",
              "    <path d=\"M0 0h24v24H0V0z\" fill=\"none\"/>\n",
              "    <path d=\"M18.56 5.44l.94 2.06.94-2.06 2.06-.94-2.06-.94-.94-2.06-.94 2.06-2.06.94zm-11 1L8.5 8.5l.94-2.06 2.06-.94-2.06-.94L8.5 2.5l-.94 2.06-2.06.94zm10 10l.94 2.06.94-2.06 2.06-.94-2.06-.94-.94-2.06-.94 2.06-2.06.94z\"/><path d=\"M17.41 7.96l-1.37-1.37c-.4-.4-.92-.59-1.43-.59-.52 0-1.04.2-1.43.59L10.3 9.45l-7.72 7.72c-.78.78-.78 2.05 0 2.83L4 21.41c.39.39.9.59 1.41.59.51 0 1.02-.2 1.41-.59l7.78-7.78 2.81-2.81c.8-.78.8-2.07 0-2.86zM5.41 20L4 18.59l7.72-7.72 1.47 1.35L5.41 20z\"/>\n",
              "  </svg>\n",
              "      </button>\n",
              "      \n",
              "  <style>\n",
              "    .colab-df-container {\n",
              "      display:flex;\n",
              "      flex-wrap:wrap;\n",
              "      gap: 12px;\n",
              "    }\n",
              "\n",
              "    .colab-df-convert {\n",
              "      background-color: #E8F0FE;\n",
              "      border: none;\n",
              "      border-radius: 50%;\n",
              "      cursor: pointer;\n",
              "      display: none;\n",
              "      fill: #1967D2;\n",
              "      height: 32px;\n",
              "      padding: 0 0 0 0;\n",
              "      width: 32px;\n",
              "    }\n",
              "\n",
              "    .colab-df-convert:hover {\n",
              "      background-color: #E2EBFA;\n",
              "      box-shadow: 0px 1px 2px rgba(60, 64, 67, 0.3), 0px 1px 3px 1px rgba(60, 64, 67, 0.15);\n",
              "      fill: #174EA6;\n",
              "    }\n",
              "\n",
              "    [theme=dark] .colab-df-convert {\n",
              "      background-color: #3B4455;\n",
              "      fill: #D2E3FC;\n",
              "    }\n",
              "\n",
              "    [theme=dark] .colab-df-convert:hover {\n",
              "      background-color: #434B5C;\n",
              "      box-shadow: 0px 1px 3px 1px rgba(0, 0, 0, 0.15);\n",
              "      filter: drop-shadow(0px 1px 2px rgba(0, 0, 0, 0.3));\n",
              "      fill: #FFFFFF;\n",
              "    }\n",
              "  </style>\n",
              "\n",
              "      <script>\n",
              "        const buttonEl =\n",
              "          document.querySelector('#df-be425933-dc14-440c-b6f7-58933a05c725 button.colab-df-convert');\n",
              "        buttonEl.style.display =\n",
              "          google.colab.kernel.accessAllowed ? 'block' : 'none';\n",
              "\n",
              "        async function convertToInteractive(key) {\n",
              "          const element = document.querySelector('#df-be425933-dc14-440c-b6f7-58933a05c725');\n",
              "          const dataTable =\n",
              "            await google.colab.kernel.invokeFunction('convertToInteractive',\n",
              "                                                     [key], {});\n",
              "          if (!dataTable) return;\n",
              "\n",
              "          const docLinkHtml = 'Like what you see? Visit the ' +\n",
              "            '<a target=\"_blank\" href=https://colab.research.google.com/notebooks/data_table.ipynb>data table notebook</a>'\n",
              "            + ' to learn more about interactive tables.';\n",
              "          element.innerHTML = '';\n",
              "          dataTable['output_type'] = 'display_data';\n",
              "          await google.colab.output.renderOutput(dataTable, element);\n",
              "          const docLink = document.createElement('div');\n",
              "          docLink.innerHTML = docLinkHtml;\n",
              "          element.appendChild(docLink);\n",
              "        }\n",
              "      </script>\n",
              "    </div>\n",
              "  </div>\n",
              "  "
            ]
          },
          "metadata": {},
          "execution_count": 3
        }
      ]
    },
    {
      "cell_type": "markdown",
      "source": [
        "## 1.2 Explorando e exibindo informações iniciais dos dados"
      ],
      "metadata": {
        "id": "Mannl2xPUUVy"
      }
    },
    {
      "cell_type": "code",
      "source": [
        "print(f\"Número de registros (linhas): {(df.shape[0])}\")\n",
        "print(f\"Número de variáveis (colunas): {format(df.shape[1])} \\n\")"
      ],
      "metadata": {
        "colab": {
          "base_uri": "https://localhost:8080/"
        },
        "id": "9ug0klWNRJOI",
        "outputId": "54a0b7a5-c6ea-44ac-a744-b460286a8850"
      },
      "execution_count": null,
      "outputs": [
        {
          "output_type": "stream",
          "name": "stdout",
          "text": [
            "Número de registros (linhas): 20130\n",
            "Número de variáveis (colunas): 11 \n",
            "\n"
          ]
        }
      ]
    },
    {
      "cell_type": "code",
      "source": [
        "print(\"Lista dos tipos de dados do dataset:\")\n",
        "df.info()"
      ],
      "metadata": {
        "colab": {
          "base_uri": "https://localhost:8080/"
        },
        "id": "VgVdY4-9xyM_",
        "outputId": "f2f374be-8a54-4b8e-ae24-8130b92fa6ce"
      },
      "execution_count": null,
      "outputs": [
        {
          "output_type": "stream",
          "name": "stdout",
          "text": [
            "Lista dos tipos de dados do dataset:\n",
            "<class 'pandas.core.frame.DataFrame'>\n",
            "RangeIndex: 20130 entries, 0 to 20129\n",
            "Data columns (total 11 columns):\n",
            " #   Column       Non-Null Count  Dtype              \n",
            "---  ------       --------------  -----              \n",
            " 0   directions   20111 non-null  object             \n",
            " 1   fat          15908 non-null  float64            \n",
            " 2   date         20111 non-null  datetime64[ns, UTC]\n",
            " 3   categories   20111 non-null  object             \n",
            " 4   calories     15976 non-null  float64            \n",
            " 5   desc         13495 non-null  object             \n",
            " 6   protein      15929 non-null  float64            \n",
            " 7   rating       20100 non-null  float64            \n",
            " 8   title        20111 non-null  object             \n",
            " 9   ingredients  20111 non-null  object             \n",
            " 10  sodium       15974 non-null  float64            \n",
            "dtypes: datetime64[ns, UTC](1), float64(5), object(5)\n",
            "memory usage: 1.7+ MB\n"
          ]
        }
      ]
    },
    {
      "cell_type": "code",
      "source": [
        "print(\"Lista das 5 primeiras linhas do dataset:\")\n",
        "df.head(5)"
      ],
      "metadata": {
        "colab": {
          "base_uri": "https://localhost:8080/",
          "height": 459
        },
        "id": "A-D8lw84aFl7",
        "outputId": "c23c5ef2-40e6-4496-a3f2-81925707fc06"
      },
      "execution_count": null,
      "outputs": [
        {
          "output_type": "stream",
          "name": "stdout",
          "text": [
            "Lista das 5 primeiras linhas do dataset:\n"
          ]
        },
        {
          "output_type": "execute_result",
          "data": {
            "text/plain": [
              "                                          directions   fat  \\\n",
              "0  [1. Place the stock, lentils, celery, carrot, ...   7.0   \n",
              "1  [Combine first 9 ingredients in heavy medium s...  23.0   \n",
              "2  [In a large heavy saucepan cook diced fennel a...   7.0   \n",
              "3  [Heat oil in heavy large skillet over medium-h...   NaN   \n",
              "4  [Preheat oven to 350°F. Lightly grease 8x8x2-i...  32.0   \n",
              "\n",
              "                       date  \\\n",
              "0 2006-09-01 04:00:00+00:00   \n",
              "1 2004-08-20 04:00:00+00:00   \n",
              "2 2004-08-20 04:00:00+00:00   \n",
              "3 2009-03-27 04:00:00+00:00   \n",
              "4 2004-08-20 04:00:00+00:00   \n",
              "\n",
              "                                          categories  calories  \\\n",
              "0  [Sandwich, Bean, Fruit, Tomato, turkey, Vegeta...     426.0   \n",
              "1  [Food Processor, Onion, Pork, Bake, Bastille D...     403.0   \n",
              "2  [Soup/Stew, Dairy, Potato, Vegetable, Fennel, ...     165.0   \n",
              "3  [Fish, Olive, Tomato, Sauté, Low Fat, Low Cal,...       NaN   \n",
              "4  [Cheese, Dairy, Pasta, Vegetable, Side, Bake, ...     547.0   \n",
              "\n",
              "                                                desc  protein  rating  \\\n",
              "0                                               None     30.0   2.500   \n",
              "1  This uses the same ingredients found in boudin...     18.0   4.375   \n",
              "2                                               None      6.0   3.750   \n",
              "3  The Sicilian-style tomato sauce has tons of Me...      NaN   5.000   \n",
              "4                                               None     20.0   3.125   \n",
              "\n",
              "                                         title  \\\n",
              "0              Lentil, Apple, and Turkey Wrap    \n",
              "1  Boudin Blanc Terrine with Red Onion Confit    \n",
              "2                Potato and Fennel Soup Hodge    \n",
              "3             Mahi-Mahi in Tomato Olive Sauce    \n",
              "4                    Spinach Noodle Casserole    \n",
              "\n",
              "                                         ingredients  sodium  \n",
              "0  [4 cups low-sodium vegetable or chicken stock,...   559.0  \n",
              "1  [1 1/2 cups whipping cream, 2 medium onions, c...  1439.0  \n",
              "2  [1 fennel bulb (sometimes called anise), stalk...   165.0  \n",
              "3  [2 tablespoons extra-virgin olive oil, 1 cup c...     NaN  \n",
              "4  [1 12-ounce package frozen spinach soufflé, th...   452.0  "
            ],
            "text/html": [
              "\n",
              "  <div id=\"df-d53a090d-7847-4b91-b32b-767dacb7bc89\">\n",
              "    <div class=\"colab-df-container\">\n",
              "      <div>\n",
              "<style scoped>\n",
              "    .dataframe tbody tr th:only-of-type {\n",
              "        vertical-align: middle;\n",
              "    }\n",
              "\n",
              "    .dataframe tbody tr th {\n",
              "        vertical-align: top;\n",
              "    }\n",
              "\n",
              "    .dataframe thead th {\n",
              "        text-align: right;\n",
              "    }\n",
              "</style>\n",
              "<table border=\"1\" class=\"dataframe\">\n",
              "  <thead>\n",
              "    <tr style=\"text-align: right;\">\n",
              "      <th></th>\n",
              "      <th>directions</th>\n",
              "      <th>fat</th>\n",
              "      <th>date</th>\n",
              "      <th>categories</th>\n",
              "      <th>calories</th>\n",
              "      <th>desc</th>\n",
              "      <th>protein</th>\n",
              "      <th>rating</th>\n",
              "      <th>title</th>\n",
              "      <th>ingredients</th>\n",
              "      <th>sodium</th>\n",
              "    </tr>\n",
              "  </thead>\n",
              "  <tbody>\n",
              "    <tr>\n",
              "      <th>0</th>\n",
              "      <td>[1. Place the stock, lentils, celery, carrot, ...</td>\n",
              "      <td>7.0</td>\n",
              "      <td>2006-09-01 04:00:00+00:00</td>\n",
              "      <td>[Sandwich, Bean, Fruit, Tomato, turkey, Vegeta...</td>\n",
              "      <td>426.0</td>\n",
              "      <td>None</td>\n",
              "      <td>30.0</td>\n",
              "      <td>2.500</td>\n",
              "      <td>Lentil, Apple, and Turkey Wrap</td>\n",
              "      <td>[4 cups low-sodium vegetable or chicken stock,...</td>\n",
              "      <td>559.0</td>\n",
              "    </tr>\n",
              "    <tr>\n",
              "      <th>1</th>\n",
              "      <td>[Combine first 9 ingredients in heavy medium s...</td>\n",
              "      <td>23.0</td>\n",
              "      <td>2004-08-20 04:00:00+00:00</td>\n",
              "      <td>[Food Processor, Onion, Pork, Bake, Bastille D...</td>\n",
              "      <td>403.0</td>\n",
              "      <td>This uses the same ingredients found in boudin...</td>\n",
              "      <td>18.0</td>\n",
              "      <td>4.375</td>\n",
              "      <td>Boudin Blanc Terrine with Red Onion Confit</td>\n",
              "      <td>[1 1/2 cups whipping cream, 2 medium onions, c...</td>\n",
              "      <td>1439.0</td>\n",
              "    </tr>\n",
              "    <tr>\n",
              "      <th>2</th>\n",
              "      <td>[In a large heavy saucepan cook diced fennel a...</td>\n",
              "      <td>7.0</td>\n",
              "      <td>2004-08-20 04:00:00+00:00</td>\n",
              "      <td>[Soup/Stew, Dairy, Potato, Vegetable, Fennel, ...</td>\n",
              "      <td>165.0</td>\n",
              "      <td>None</td>\n",
              "      <td>6.0</td>\n",
              "      <td>3.750</td>\n",
              "      <td>Potato and Fennel Soup Hodge</td>\n",
              "      <td>[1 fennel bulb (sometimes called anise), stalk...</td>\n",
              "      <td>165.0</td>\n",
              "    </tr>\n",
              "    <tr>\n",
              "      <th>3</th>\n",
              "      <td>[Heat oil in heavy large skillet over medium-h...</td>\n",
              "      <td>NaN</td>\n",
              "      <td>2009-03-27 04:00:00+00:00</td>\n",
              "      <td>[Fish, Olive, Tomato, Sauté, Low Fat, Low Cal,...</td>\n",
              "      <td>NaN</td>\n",
              "      <td>The Sicilian-style tomato sauce has tons of Me...</td>\n",
              "      <td>NaN</td>\n",
              "      <td>5.000</td>\n",
              "      <td>Mahi-Mahi in Tomato Olive Sauce</td>\n",
              "      <td>[2 tablespoons extra-virgin olive oil, 1 cup c...</td>\n",
              "      <td>NaN</td>\n",
              "    </tr>\n",
              "    <tr>\n",
              "      <th>4</th>\n",
              "      <td>[Preheat oven to 350°F. Lightly grease 8x8x2-i...</td>\n",
              "      <td>32.0</td>\n",
              "      <td>2004-08-20 04:00:00+00:00</td>\n",
              "      <td>[Cheese, Dairy, Pasta, Vegetable, Side, Bake, ...</td>\n",
              "      <td>547.0</td>\n",
              "      <td>None</td>\n",
              "      <td>20.0</td>\n",
              "      <td>3.125</td>\n",
              "      <td>Spinach Noodle Casserole</td>\n",
              "      <td>[1 12-ounce package frozen spinach soufflé, th...</td>\n",
              "      <td>452.0</td>\n",
              "    </tr>\n",
              "  </tbody>\n",
              "</table>\n",
              "</div>\n",
              "      <button class=\"colab-df-convert\" onclick=\"convertToInteractive('df-d53a090d-7847-4b91-b32b-767dacb7bc89')\"\n",
              "              title=\"Convert this dataframe to an interactive table.\"\n",
              "              style=\"display:none;\">\n",
              "        \n",
              "  <svg xmlns=\"http://www.w3.org/2000/svg\" height=\"24px\"viewBox=\"0 0 24 24\"\n",
              "       width=\"24px\">\n",
              "    <path d=\"M0 0h24v24H0V0z\" fill=\"none\"/>\n",
              "    <path d=\"M18.56 5.44l.94 2.06.94-2.06 2.06-.94-2.06-.94-.94-2.06-.94 2.06-2.06.94zm-11 1L8.5 8.5l.94-2.06 2.06-.94-2.06-.94L8.5 2.5l-.94 2.06-2.06.94zm10 10l.94 2.06.94-2.06 2.06-.94-2.06-.94-.94-2.06-.94 2.06-2.06.94z\"/><path d=\"M17.41 7.96l-1.37-1.37c-.4-.4-.92-.59-1.43-.59-.52 0-1.04.2-1.43.59L10.3 9.45l-7.72 7.72c-.78.78-.78 2.05 0 2.83L4 21.41c.39.39.9.59 1.41.59.51 0 1.02-.2 1.41-.59l7.78-7.78 2.81-2.81c.8-.78.8-2.07 0-2.86zM5.41 20L4 18.59l7.72-7.72 1.47 1.35L5.41 20z\"/>\n",
              "  </svg>\n",
              "      </button>\n",
              "      \n",
              "  <style>\n",
              "    .colab-df-container {\n",
              "      display:flex;\n",
              "      flex-wrap:wrap;\n",
              "      gap: 12px;\n",
              "    }\n",
              "\n",
              "    .colab-df-convert {\n",
              "      background-color: #E8F0FE;\n",
              "      border: none;\n",
              "      border-radius: 50%;\n",
              "      cursor: pointer;\n",
              "      display: none;\n",
              "      fill: #1967D2;\n",
              "      height: 32px;\n",
              "      padding: 0 0 0 0;\n",
              "      width: 32px;\n",
              "    }\n",
              "\n",
              "    .colab-df-convert:hover {\n",
              "      background-color: #E2EBFA;\n",
              "      box-shadow: 0px 1px 2px rgba(60, 64, 67, 0.3), 0px 1px 3px 1px rgba(60, 64, 67, 0.15);\n",
              "      fill: #174EA6;\n",
              "    }\n",
              "\n",
              "    [theme=dark] .colab-df-convert {\n",
              "      background-color: #3B4455;\n",
              "      fill: #D2E3FC;\n",
              "    }\n",
              "\n",
              "    [theme=dark] .colab-df-convert:hover {\n",
              "      background-color: #434B5C;\n",
              "      box-shadow: 0px 1px 3px 1px rgba(0, 0, 0, 0.15);\n",
              "      filter: drop-shadow(0px 1px 2px rgba(0, 0, 0, 0.3));\n",
              "      fill: #FFFFFF;\n",
              "    }\n",
              "  </style>\n",
              "\n",
              "      <script>\n",
              "        const buttonEl =\n",
              "          document.querySelector('#df-d53a090d-7847-4b91-b32b-767dacb7bc89 button.colab-df-convert');\n",
              "        buttonEl.style.display =\n",
              "          google.colab.kernel.accessAllowed ? 'block' : 'none';\n",
              "\n",
              "        async function convertToInteractive(key) {\n",
              "          const element = document.querySelector('#df-d53a090d-7847-4b91-b32b-767dacb7bc89');\n",
              "          const dataTable =\n",
              "            await google.colab.kernel.invokeFunction('convertToInteractive',\n",
              "                                                     [key], {});\n",
              "          if (!dataTable) return;\n",
              "\n",
              "          const docLinkHtml = 'Like what you see? Visit the ' +\n",
              "            '<a target=\"_blank\" href=https://colab.research.google.com/notebooks/data_table.ipynb>data table notebook</a>'\n",
              "            + ' to learn more about interactive tables.';\n",
              "          element.innerHTML = '';\n",
              "          dataTable['output_type'] = 'display_data';\n",
              "          await google.colab.output.renderOutput(dataTable, element);\n",
              "          const docLink = document.createElement('div');\n",
              "          docLink.innerHTML = docLinkHtml;\n",
              "          element.appendChild(docLink);\n",
              "        }\n",
              "      </script>\n",
              "    </div>\n",
              "  </div>\n",
              "  "
            ]
          },
          "metadata": {},
          "execution_count": 6
        }
      ]
    },
    {
      "cell_type": "code",
      "source": [
        "print(\"Lista das 5 ultimas linhas do dataset:\")\n",
        "df.tail(5)"
      ],
      "metadata": {
        "colab": {
          "base_uri": "https://localhost:8080/",
          "height": 529
        },
        "id": "tMdX3klzaCIp",
        "outputId": "605f4ce4-a5e0-4cf7-c65b-d283eb7171da"
      },
      "execution_count": null,
      "outputs": [
        {
          "output_type": "stream",
          "name": "stdout",
          "text": [
            "Lista das 5 ultimas linhas do dataset:\n"
          ]
        },
        {
          "output_type": "execute_result",
          "data": {
            "text/plain": [
              "                                              directions   fat  \\\n",
              "20125  [Beat whites in a bowl with an electric mixer ...   2.0   \n",
              "20126  [Bring broth to simmer in saucepan.Remove from...  28.0   \n",
              "20127  [Using a sharp knife, cut a shallow X in botto...  38.0   \n",
              "20128  [Heat 2 tablespoons oil in heavy medium skille...  24.0   \n",
              "20129  [Position rack in bottom third of oven and pre...  10.0   \n",
              "\n",
              "                           date  \\\n",
              "20125 2004-08-20 04:00:00+00:00   \n",
              "20126 2008-02-28 22:06:54+00:00   \n",
              "20127 2005-10-21 18:21:20+00:00   \n",
              "20128 2004-08-20 04:00:00+00:00   \n",
              "20129 2004-08-20 04:00:00+00:00   \n",
              "\n",
              "                                              categories  calories  \\\n",
              "20125  [Mixer, Cheese, Egg, Fry, Cocktail Party, Parm...      28.0   \n",
              "20126  [Side, Kid-Friendly, High Fiber, Dinner, Parme...     671.0   \n",
              "20127  [Onion, Poultry, turkey, Vegetable, Bake, Kid-...     563.0   \n",
              "20128  [Milk/Cream, Citrus, Dairy, Fish, Garlic, Past...     631.0   \n",
              "20129  [Pork, Bake, Roast, Christmas, Ham, Winter, Bo...     560.0   \n",
              "\n",
              "                                                    desc  protein  rating  \\\n",
              "20125                                               None      2.0   3.125   \n",
              "20126  Cooking the artichokes with the rice infuses t...     22.0   4.375   \n",
              "20127                                               None     31.0   4.375   \n",
              "20128  Sharon Hooykaas of Los Alamitos, California, w...     45.0   4.375   \n",
              "20129  Although labeled fully cooked, the ham will st...     73.0   4.375   \n",
              "\n",
              "                                             title  \\\n",
              "20125                              Parmesan Puffs    \n",
              "20126              Artichoke and Parmesan Risotto    \n",
              "20127                       Turkey Cream Puff Pie    \n",
              "20128     Snapper on Angel Hair with Citrus Cream    \n",
              "20129  Baked Ham with Marmalade-Horseradish Glaze    \n",
              "\n",
              "                                             ingredients  sodium  \n",
              "20125  [2 large egg whites, 3 oz Parmigiano-Reggiano,...    64.0  \n",
              "20126  [5 1/2 cups (or more) low-salt chicken broth, ...   583.0  \n",
              "20127  [1 small tomato, 1 small onion, finely chopped...   652.0  \n",
              "20128  [4 tablespoons olive oil, 4 shallots, thinly s...   517.0  \n",
              "20129  [1 18-pound fully cooked bone-in smoked ham, r...  3698.0  "
            ],
            "text/html": [
              "\n",
              "  <div id=\"df-ff18a224-2da9-437c-8c24-c288f9890da7\">\n",
              "    <div class=\"colab-df-container\">\n",
              "      <div>\n",
              "<style scoped>\n",
              "    .dataframe tbody tr th:only-of-type {\n",
              "        vertical-align: middle;\n",
              "    }\n",
              "\n",
              "    .dataframe tbody tr th {\n",
              "        vertical-align: top;\n",
              "    }\n",
              "\n",
              "    .dataframe thead th {\n",
              "        text-align: right;\n",
              "    }\n",
              "</style>\n",
              "<table border=\"1\" class=\"dataframe\">\n",
              "  <thead>\n",
              "    <tr style=\"text-align: right;\">\n",
              "      <th></th>\n",
              "      <th>directions</th>\n",
              "      <th>fat</th>\n",
              "      <th>date</th>\n",
              "      <th>categories</th>\n",
              "      <th>calories</th>\n",
              "      <th>desc</th>\n",
              "      <th>protein</th>\n",
              "      <th>rating</th>\n",
              "      <th>title</th>\n",
              "      <th>ingredients</th>\n",
              "      <th>sodium</th>\n",
              "    </tr>\n",
              "  </thead>\n",
              "  <tbody>\n",
              "    <tr>\n",
              "      <th>20125</th>\n",
              "      <td>[Beat whites in a bowl with an electric mixer ...</td>\n",
              "      <td>2.0</td>\n",
              "      <td>2004-08-20 04:00:00+00:00</td>\n",
              "      <td>[Mixer, Cheese, Egg, Fry, Cocktail Party, Parm...</td>\n",
              "      <td>28.0</td>\n",
              "      <td>None</td>\n",
              "      <td>2.0</td>\n",
              "      <td>3.125</td>\n",
              "      <td>Parmesan Puffs</td>\n",
              "      <td>[2 large egg whites, 3 oz Parmigiano-Reggiano,...</td>\n",
              "      <td>64.0</td>\n",
              "    </tr>\n",
              "    <tr>\n",
              "      <th>20126</th>\n",
              "      <td>[Bring broth to simmer in saucepan.Remove from...</td>\n",
              "      <td>28.0</td>\n",
              "      <td>2008-02-28 22:06:54+00:00</td>\n",
              "      <td>[Side, Kid-Friendly, High Fiber, Dinner, Parme...</td>\n",
              "      <td>671.0</td>\n",
              "      <td>Cooking the artichokes with the rice infuses t...</td>\n",
              "      <td>22.0</td>\n",
              "      <td>4.375</td>\n",
              "      <td>Artichoke and Parmesan Risotto</td>\n",
              "      <td>[5 1/2 cups (or more) low-salt chicken broth, ...</td>\n",
              "      <td>583.0</td>\n",
              "    </tr>\n",
              "    <tr>\n",
              "      <th>20127</th>\n",
              "      <td>[Using a sharp knife, cut a shallow X in botto...</td>\n",
              "      <td>38.0</td>\n",
              "      <td>2005-10-21 18:21:20+00:00</td>\n",
              "      <td>[Onion, Poultry, turkey, Vegetable, Bake, Kid-...</td>\n",
              "      <td>563.0</td>\n",
              "      <td>None</td>\n",
              "      <td>31.0</td>\n",
              "      <td>4.375</td>\n",
              "      <td>Turkey Cream Puff Pie</td>\n",
              "      <td>[1 small tomato, 1 small onion, finely chopped...</td>\n",
              "      <td>652.0</td>\n",
              "    </tr>\n",
              "    <tr>\n",
              "      <th>20128</th>\n",
              "      <td>[Heat 2 tablespoons oil in heavy medium skille...</td>\n",
              "      <td>24.0</td>\n",
              "      <td>2004-08-20 04:00:00+00:00</td>\n",
              "      <td>[Milk/Cream, Citrus, Dairy, Fish, Garlic, Past...</td>\n",
              "      <td>631.0</td>\n",
              "      <td>Sharon Hooykaas of Los Alamitos, California, w...</td>\n",
              "      <td>45.0</td>\n",
              "      <td>4.375</td>\n",
              "      <td>Snapper on Angel Hair with Citrus Cream</td>\n",
              "      <td>[4 tablespoons olive oil, 4 shallots, thinly s...</td>\n",
              "      <td>517.0</td>\n",
              "    </tr>\n",
              "    <tr>\n",
              "      <th>20129</th>\n",
              "      <td>[Position rack in bottom third of oven and pre...</td>\n",
              "      <td>10.0</td>\n",
              "      <td>2004-08-20 04:00:00+00:00</td>\n",
              "      <td>[Pork, Bake, Roast, Christmas, Ham, Winter, Bo...</td>\n",
              "      <td>560.0</td>\n",
              "      <td>Although labeled fully cooked, the ham will st...</td>\n",
              "      <td>73.0</td>\n",
              "      <td>4.375</td>\n",
              "      <td>Baked Ham with Marmalade-Horseradish Glaze</td>\n",
              "      <td>[1 18-pound fully cooked bone-in smoked ham, r...</td>\n",
              "      <td>3698.0</td>\n",
              "    </tr>\n",
              "  </tbody>\n",
              "</table>\n",
              "</div>\n",
              "      <button class=\"colab-df-convert\" onclick=\"convertToInteractive('df-ff18a224-2da9-437c-8c24-c288f9890da7')\"\n",
              "              title=\"Convert this dataframe to an interactive table.\"\n",
              "              style=\"display:none;\">\n",
              "        \n",
              "  <svg xmlns=\"http://www.w3.org/2000/svg\" height=\"24px\"viewBox=\"0 0 24 24\"\n",
              "       width=\"24px\">\n",
              "    <path d=\"M0 0h24v24H0V0z\" fill=\"none\"/>\n",
              "    <path d=\"M18.56 5.44l.94 2.06.94-2.06 2.06-.94-2.06-.94-.94-2.06-.94 2.06-2.06.94zm-11 1L8.5 8.5l.94-2.06 2.06-.94-2.06-.94L8.5 2.5l-.94 2.06-2.06.94zm10 10l.94 2.06.94-2.06 2.06-.94-2.06-.94-.94-2.06-.94 2.06-2.06.94z\"/><path d=\"M17.41 7.96l-1.37-1.37c-.4-.4-.92-.59-1.43-.59-.52 0-1.04.2-1.43.59L10.3 9.45l-7.72 7.72c-.78.78-.78 2.05 0 2.83L4 21.41c.39.39.9.59 1.41.59.51 0 1.02-.2 1.41-.59l7.78-7.78 2.81-2.81c.8-.78.8-2.07 0-2.86zM5.41 20L4 18.59l7.72-7.72 1.47 1.35L5.41 20z\"/>\n",
              "  </svg>\n",
              "      </button>\n",
              "      \n",
              "  <style>\n",
              "    .colab-df-container {\n",
              "      display:flex;\n",
              "      flex-wrap:wrap;\n",
              "      gap: 12px;\n",
              "    }\n",
              "\n",
              "    .colab-df-convert {\n",
              "      background-color: #E8F0FE;\n",
              "      border: none;\n",
              "      border-radius: 50%;\n",
              "      cursor: pointer;\n",
              "      display: none;\n",
              "      fill: #1967D2;\n",
              "      height: 32px;\n",
              "      padding: 0 0 0 0;\n",
              "      width: 32px;\n",
              "    }\n",
              "\n",
              "    .colab-df-convert:hover {\n",
              "      background-color: #E2EBFA;\n",
              "      box-shadow: 0px 1px 2px rgba(60, 64, 67, 0.3), 0px 1px 3px 1px rgba(60, 64, 67, 0.15);\n",
              "      fill: #174EA6;\n",
              "    }\n",
              "\n",
              "    [theme=dark] .colab-df-convert {\n",
              "      background-color: #3B4455;\n",
              "      fill: #D2E3FC;\n",
              "    }\n",
              "\n",
              "    [theme=dark] .colab-df-convert:hover {\n",
              "      background-color: #434B5C;\n",
              "      box-shadow: 0px 1px 3px 1px rgba(0, 0, 0, 0.15);\n",
              "      filter: drop-shadow(0px 1px 2px rgba(0, 0, 0, 0.3));\n",
              "      fill: #FFFFFF;\n",
              "    }\n",
              "  </style>\n",
              "\n",
              "      <script>\n",
              "        const buttonEl =\n",
              "          document.querySelector('#df-ff18a224-2da9-437c-8c24-c288f9890da7 button.colab-df-convert');\n",
              "        buttonEl.style.display =\n",
              "          google.colab.kernel.accessAllowed ? 'block' : 'none';\n",
              "\n",
              "        async function convertToInteractive(key) {\n",
              "          const element = document.querySelector('#df-ff18a224-2da9-437c-8c24-c288f9890da7');\n",
              "          const dataTable =\n",
              "            await google.colab.kernel.invokeFunction('convertToInteractive',\n",
              "                                                     [key], {});\n",
              "          if (!dataTable) return;\n",
              "\n",
              "          const docLinkHtml = 'Like what you see? Visit the ' +\n",
              "            '<a target=\"_blank\" href=https://colab.research.google.com/notebooks/data_table.ipynb>data table notebook</a>'\n",
              "            + ' to learn more about interactive tables.';\n",
              "          element.innerHTML = '';\n",
              "          dataTable['output_type'] = 'display_data';\n",
              "          await google.colab.output.renderOutput(dataTable, element);\n",
              "          const docLink = document.createElement('div');\n",
              "          docLink.innerHTML = docLinkHtml;\n",
              "          element.appendChild(docLink);\n",
              "        }\n",
              "      </script>\n",
              "    </div>\n",
              "  </div>\n",
              "  "
            ]
          },
          "metadata": {},
          "execution_count": 7
        }
      ]
    },
    {
      "cell_type": "code",
      "source": [
        "print(\"Informações estatísticas dos dados numéricos do dataset:\")\n",
        "df.describe()"
      ],
      "metadata": {
        "colab": {
          "base_uri": "https://localhost:8080/",
          "height": 318
        },
        "id": "dtl6BJFDYm--",
        "outputId": "cf332d02-b12f-4268-a6cd-36b28c71a9ab"
      },
      "execution_count": null,
      "outputs": [
        {
          "output_type": "stream",
          "name": "stdout",
          "text": [
            "Informações estatísticas dos dados numéricos do dataset:\n"
          ]
        },
        {
          "output_type": "execute_result",
          "data": {
            "text/plain": [
              "                fat      calories        protein        rating        sodium\n",
              "count  1.590800e+04  1.597600e+04   15929.000000  20100.000000  1.597400e+04\n",
              "mean   3.460975e+02  6.307857e+03      99.946199      3.713060  6.211474e+03\n",
              "std    2.043102e+04  3.585851e+05    3835.616663      1.343144  3.328903e+05\n",
              "min    0.000000e+00  0.000000e+00       0.000000      0.000000  0.000000e+00\n",
              "25%    7.000000e+00  1.980000e+02       3.000000      3.750000  8.000000e+01\n",
              "50%    1.700000e+01  3.310000e+02       8.000000      4.375000  2.940000e+02\n",
              "75%    3.300000e+01  5.860000e+02      27.000000      4.375000  7.110000e+02\n",
              "max    1.722763e+06  3.011122e+07  236489.000000      5.000000  2.767511e+07"
            ],
            "text/html": [
              "\n",
              "  <div id=\"df-8c0c6d78-6ea4-4e4f-823e-1996daaab587\">\n",
              "    <div class=\"colab-df-container\">\n",
              "      <div>\n",
              "<style scoped>\n",
              "    .dataframe tbody tr th:only-of-type {\n",
              "        vertical-align: middle;\n",
              "    }\n",
              "\n",
              "    .dataframe tbody tr th {\n",
              "        vertical-align: top;\n",
              "    }\n",
              "\n",
              "    .dataframe thead th {\n",
              "        text-align: right;\n",
              "    }\n",
              "</style>\n",
              "<table border=\"1\" class=\"dataframe\">\n",
              "  <thead>\n",
              "    <tr style=\"text-align: right;\">\n",
              "      <th></th>\n",
              "      <th>fat</th>\n",
              "      <th>calories</th>\n",
              "      <th>protein</th>\n",
              "      <th>rating</th>\n",
              "      <th>sodium</th>\n",
              "    </tr>\n",
              "  </thead>\n",
              "  <tbody>\n",
              "    <tr>\n",
              "      <th>count</th>\n",
              "      <td>1.590800e+04</td>\n",
              "      <td>1.597600e+04</td>\n",
              "      <td>15929.000000</td>\n",
              "      <td>20100.000000</td>\n",
              "      <td>1.597400e+04</td>\n",
              "    </tr>\n",
              "    <tr>\n",
              "      <th>mean</th>\n",
              "      <td>3.460975e+02</td>\n",
              "      <td>6.307857e+03</td>\n",
              "      <td>99.946199</td>\n",
              "      <td>3.713060</td>\n",
              "      <td>6.211474e+03</td>\n",
              "    </tr>\n",
              "    <tr>\n",
              "      <th>std</th>\n",
              "      <td>2.043102e+04</td>\n",
              "      <td>3.585851e+05</td>\n",
              "      <td>3835.616663</td>\n",
              "      <td>1.343144</td>\n",
              "      <td>3.328903e+05</td>\n",
              "    </tr>\n",
              "    <tr>\n",
              "      <th>min</th>\n",
              "      <td>0.000000e+00</td>\n",
              "      <td>0.000000e+00</td>\n",
              "      <td>0.000000</td>\n",
              "      <td>0.000000</td>\n",
              "      <td>0.000000e+00</td>\n",
              "    </tr>\n",
              "    <tr>\n",
              "      <th>25%</th>\n",
              "      <td>7.000000e+00</td>\n",
              "      <td>1.980000e+02</td>\n",
              "      <td>3.000000</td>\n",
              "      <td>3.750000</td>\n",
              "      <td>8.000000e+01</td>\n",
              "    </tr>\n",
              "    <tr>\n",
              "      <th>50%</th>\n",
              "      <td>1.700000e+01</td>\n",
              "      <td>3.310000e+02</td>\n",
              "      <td>8.000000</td>\n",
              "      <td>4.375000</td>\n",
              "      <td>2.940000e+02</td>\n",
              "    </tr>\n",
              "    <tr>\n",
              "      <th>75%</th>\n",
              "      <td>3.300000e+01</td>\n",
              "      <td>5.860000e+02</td>\n",
              "      <td>27.000000</td>\n",
              "      <td>4.375000</td>\n",
              "      <td>7.110000e+02</td>\n",
              "    </tr>\n",
              "    <tr>\n",
              "      <th>max</th>\n",
              "      <td>1.722763e+06</td>\n",
              "      <td>3.011122e+07</td>\n",
              "      <td>236489.000000</td>\n",
              "      <td>5.000000</td>\n",
              "      <td>2.767511e+07</td>\n",
              "    </tr>\n",
              "  </tbody>\n",
              "</table>\n",
              "</div>\n",
              "      <button class=\"colab-df-convert\" onclick=\"convertToInteractive('df-8c0c6d78-6ea4-4e4f-823e-1996daaab587')\"\n",
              "              title=\"Convert this dataframe to an interactive table.\"\n",
              "              style=\"display:none;\">\n",
              "        \n",
              "  <svg xmlns=\"http://www.w3.org/2000/svg\" height=\"24px\"viewBox=\"0 0 24 24\"\n",
              "       width=\"24px\">\n",
              "    <path d=\"M0 0h24v24H0V0z\" fill=\"none\"/>\n",
              "    <path d=\"M18.56 5.44l.94 2.06.94-2.06 2.06-.94-2.06-.94-.94-2.06-.94 2.06-2.06.94zm-11 1L8.5 8.5l.94-2.06 2.06-.94-2.06-.94L8.5 2.5l-.94 2.06-2.06.94zm10 10l.94 2.06.94-2.06 2.06-.94-2.06-.94-.94-2.06-.94 2.06-2.06.94z\"/><path d=\"M17.41 7.96l-1.37-1.37c-.4-.4-.92-.59-1.43-.59-.52 0-1.04.2-1.43.59L10.3 9.45l-7.72 7.72c-.78.78-.78 2.05 0 2.83L4 21.41c.39.39.9.59 1.41.59.51 0 1.02-.2 1.41-.59l7.78-7.78 2.81-2.81c.8-.78.8-2.07 0-2.86zM5.41 20L4 18.59l7.72-7.72 1.47 1.35L5.41 20z\"/>\n",
              "  </svg>\n",
              "      </button>\n",
              "      \n",
              "  <style>\n",
              "    .colab-df-container {\n",
              "      display:flex;\n",
              "      flex-wrap:wrap;\n",
              "      gap: 12px;\n",
              "    }\n",
              "\n",
              "    .colab-df-convert {\n",
              "      background-color: #E8F0FE;\n",
              "      border: none;\n",
              "      border-radius: 50%;\n",
              "      cursor: pointer;\n",
              "      display: none;\n",
              "      fill: #1967D2;\n",
              "      height: 32px;\n",
              "      padding: 0 0 0 0;\n",
              "      width: 32px;\n",
              "    }\n",
              "\n",
              "    .colab-df-convert:hover {\n",
              "      background-color: #E2EBFA;\n",
              "      box-shadow: 0px 1px 2px rgba(60, 64, 67, 0.3), 0px 1px 3px 1px rgba(60, 64, 67, 0.15);\n",
              "      fill: #174EA6;\n",
              "    }\n",
              "\n",
              "    [theme=dark] .colab-df-convert {\n",
              "      background-color: #3B4455;\n",
              "      fill: #D2E3FC;\n",
              "    }\n",
              "\n",
              "    [theme=dark] .colab-df-convert:hover {\n",
              "      background-color: #434B5C;\n",
              "      box-shadow: 0px 1px 3px 1px rgba(0, 0, 0, 0.15);\n",
              "      filter: drop-shadow(0px 1px 2px rgba(0, 0, 0, 0.3));\n",
              "      fill: #FFFFFF;\n",
              "    }\n",
              "  </style>\n",
              "\n",
              "      <script>\n",
              "        const buttonEl =\n",
              "          document.querySelector('#df-8c0c6d78-6ea4-4e4f-823e-1996daaab587 button.colab-df-convert');\n",
              "        buttonEl.style.display =\n",
              "          google.colab.kernel.accessAllowed ? 'block' : 'none';\n",
              "\n",
              "        async function convertToInteractive(key) {\n",
              "          const element = document.querySelector('#df-8c0c6d78-6ea4-4e4f-823e-1996daaab587');\n",
              "          const dataTable =\n",
              "            await google.colab.kernel.invokeFunction('convertToInteractive',\n",
              "                                                     [key], {});\n",
              "          if (!dataTable) return;\n",
              "\n",
              "          const docLinkHtml = 'Like what you see? Visit the ' +\n",
              "            '<a target=\"_blank\" href=https://colab.research.google.com/notebooks/data_table.ipynb>data table notebook</a>'\n",
              "            + ' to learn more about interactive tables.';\n",
              "          element.innerHTML = '';\n",
              "          dataTable['output_type'] = 'display_data';\n",
              "          await google.colab.output.renderOutput(dataTable, element);\n",
              "          const docLink = document.createElement('div');\n",
              "          docLink.innerHTML = docLinkHtml;\n",
              "          element.appendChild(docLink);\n",
              "        }\n",
              "      </script>\n",
              "    </div>\n",
              "  </div>\n",
              "  "
            ]
          },
          "metadata": {},
          "execution_count": 8
        }
      ]
    },
    {
      "cell_type": "markdown",
      "source": [
        "## 1.3 Tranformação e Limpeza dos dados"
      ],
      "metadata": {
        "id": "XTUhHiGMCCBM"
      }
    },
    {
      "cell_type": "code",
      "source": [
        "# Convertendo colunas do tipo lista para lista de string\n",
        "df[\"directions\"] = df[\"directions\"].apply(str)\n",
        "df[\"categories\"] = df[\"categories\"].apply(str)\n",
        "df[\"ingredients\"] = df[\"ingredients\"].apply(str)\n",
        "\n",
        "# Verificando se a conversão foi feita corretamente\n",
        "df"
      ],
      "metadata": {
        "colab": {
          "base_uri": "https://localhost:8080/",
          "height": 953
        },
        "id": "MXGu_PtbFGAD",
        "outputId": "e004a915-b470-4ee4-cdb9-04f9bdbe4a02"
      },
      "execution_count": null,
      "outputs": [
        {
          "output_type": "execute_result",
          "data": {
            "text/plain": [
              "                                              directions   fat  \\\n",
              "0      ['1. Place the stock, lentils, celery, carrot,...   7.0   \n",
              "1      ['Combine first 9 ingredients in heavy medium ...  23.0   \n",
              "2      ['In a large heavy saucepan cook diced fennel ...   7.0   \n",
              "3      ['Heat oil in heavy large skillet over medium-...   NaN   \n",
              "4      ['Preheat oven to 350°F. Lightly grease 8x8x2-...  32.0   \n",
              "...                                                  ...   ...   \n",
              "20125  ['Beat whites in a bowl with an electric mixer...   2.0   \n",
              "20126  ['Bring broth to simmer in saucepan.Remove fro...  28.0   \n",
              "20127  ['Using a sharp knife, cut a shallow X in bott...  38.0   \n",
              "20128  ['Heat 2 tablespoons oil in heavy medium skill...  24.0   \n",
              "20129  ['Position rack in bottom third of oven and pr...  10.0   \n",
              "\n",
              "                           date  \\\n",
              "0     2006-09-01 04:00:00+00:00   \n",
              "1     2004-08-20 04:00:00+00:00   \n",
              "2     2004-08-20 04:00:00+00:00   \n",
              "3     2009-03-27 04:00:00+00:00   \n",
              "4     2004-08-20 04:00:00+00:00   \n",
              "...                         ...   \n",
              "20125 2004-08-20 04:00:00+00:00   \n",
              "20126 2008-02-28 22:06:54+00:00   \n",
              "20127 2005-10-21 18:21:20+00:00   \n",
              "20128 2004-08-20 04:00:00+00:00   \n",
              "20129 2004-08-20 04:00:00+00:00   \n",
              "\n",
              "                                              categories  calories  \\\n",
              "0      ['Sandwich', 'Bean', 'Fruit', 'Tomato', 'turke...     426.0   \n",
              "1      ['Food Processor', 'Onion', 'Pork', 'Bake', 'B...     403.0   \n",
              "2      ['Soup/Stew', 'Dairy', 'Potato', 'Vegetable', ...     165.0   \n",
              "3      ['Fish', 'Olive', 'Tomato', 'Sauté', 'Low Fat'...       NaN   \n",
              "4      ['Cheese', 'Dairy', 'Pasta', 'Vegetable', 'Sid...     547.0   \n",
              "...                                                  ...       ...   \n",
              "20125  ['Mixer', 'Cheese', 'Egg', 'Fry', 'Cocktail Pa...      28.0   \n",
              "20126  ['Side', 'Kid-Friendly', 'High Fiber', 'Dinner...     671.0   \n",
              "20127  ['Onion', 'Poultry', 'turkey', 'Vegetable', 'B...     563.0   \n",
              "20128  ['Milk/Cream', 'Citrus', 'Dairy', 'Fish', 'Gar...     631.0   \n",
              "20129  ['Pork', 'Bake', 'Roast', 'Christmas', 'Ham', ...     560.0   \n",
              "\n",
              "                                                    desc  protein  rating  \\\n",
              "0                                                   None     30.0   2.500   \n",
              "1      This uses the same ingredients found in boudin...     18.0   4.375   \n",
              "2                                                   None      6.0   3.750   \n",
              "3      The Sicilian-style tomato sauce has tons of Me...      NaN   5.000   \n",
              "4                                                   None     20.0   3.125   \n",
              "...                                                  ...      ...     ...   \n",
              "20125                                               None      2.0   3.125   \n",
              "20126  Cooking the artichokes with the rice infuses t...     22.0   4.375   \n",
              "20127                                               None     31.0   4.375   \n",
              "20128  Sharon Hooykaas of Los Alamitos, California, w...     45.0   4.375   \n",
              "20129  Although labeled fully cooked, the ham will st...     73.0   4.375   \n",
              "\n",
              "                                             title  \\\n",
              "0                  Lentil, Apple, and Turkey Wrap    \n",
              "1      Boudin Blanc Terrine with Red Onion Confit    \n",
              "2                    Potato and Fennel Soup Hodge    \n",
              "3                 Mahi-Mahi in Tomato Olive Sauce    \n",
              "4                        Spinach Noodle Casserole    \n",
              "...                                            ...   \n",
              "20125                              Parmesan Puffs    \n",
              "20126              Artichoke and Parmesan Risotto    \n",
              "20127                       Turkey Cream Puff Pie    \n",
              "20128     Snapper on Angel Hair with Citrus Cream    \n",
              "20129  Baked Ham with Marmalade-Horseradish Glaze    \n",
              "\n",
              "                                             ingredients  sodium  \n",
              "0      ['4 cups low-sodium vegetable or chicken stock...   559.0  \n",
              "1      ['1 1/2 cups whipping cream', '2 medium onions...  1439.0  \n",
              "2      ['1 fennel bulb (sometimes called anise), stal...   165.0  \n",
              "3      ['2 tablespoons extra-virgin olive oil', '1 cu...     NaN  \n",
              "4      ['1 12-ounce package frozen spinach soufflé, t...   452.0  \n",
              "...                                                  ...     ...  \n",
              "20125  ['2 large egg whites', '3 oz Parmigiano-Reggia...    64.0  \n",
              "20126  ['5 1/2 cups (or more) low-salt chicken broth'...   583.0  \n",
              "20127  ['1 small tomato', '1 small onion, finely chop...   652.0  \n",
              "20128  ['4 tablespoons olive oil', '4 shallots, thinl...   517.0  \n",
              "20129  ['1 18-pound fully cooked bone-in smoked ham, ...  3698.0  \n",
              "\n",
              "[20130 rows x 11 columns]"
            ],
            "text/html": [
              "\n",
              "  <div id=\"df-df6ee1c2-7059-42c4-b6a6-54a1f89082a6\">\n",
              "    <div class=\"colab-df-container\">\n",
              "      <div>\n",
              "<style scoped>\n",
              "    .dataframe tbody tr th:only-of-type {\n",
              "        vertical-align: middle;\n",
              "    }\n",
              "\n",
              "    .dataframe tbody tr th {\n",
              "        vertical-align: top;\n",
              "    }\n",
              "\n",
              "    .dataframe thead th {\n",
              "        text-align: right;\n",
              "    }\n",
              "</style>\n",
              "<table border=\"1\" class=\"dataframe\">\n",
              "  <thead>\n",
              "    <tr style=\"text-align: right;\">\n",
              "      <th></th>\n",
              "      <th>directions</th>\n",
              "      <th>fat</th>\n",
              "      <th>date</th>\n",
              "      <th>categories</th>\n",
              "      <th>calories</th>\n",
              "      <th>desc</th>\n",
              "      <th>protein</th>\n",
              "      <th>rating</th>\n",
              "      <th>title</th>\n",
              "      <th>ingredients</th>\n",
              "      <th>sodium</th>\n",
              "    </tr>\n",
              "  </thead>\n",
              "  <tbody>\n",
              "    <tr>\n",
              "      <th>0</th>\n",
              "      <td>['1. Place the stock, lentils, celery, carrot,...</td>\n",
              "      <td>7.0</td>\n",
              "      <td>2006-09-01 04:00:00+00:00</td>\n",
              "      <td>['Sandwich', 'Bean', 'Fruit', 'Tomato', 'turke...</td>\n",
              "      <td>426.0</td>\n",
              "      <td>None</td>\n",
              "      <td>30.0</td>\n",
              "      <td>2.500</td>\n",
              "      <td>Lentil, Apple, and Turkey Wrap</td>\n",
              "      <td>['4 cups low-sodium vegetable or chicken stock...</td>\n",
              "      <td>559.0</td>\n",
              "    </tr>\n",
              "    <tr>\n",
              "      <th>1</th>\n",
              "      <td>['Combine first 9 ingredients in heavy medium ...</td>\n",
              "      <td>23.0</td>\n",
              "      <td>2004-08-20 04:00:00+00:00</td>\n",
              "      <td>['Food Processor', 'Onion', 'Pork', 'Bake', 'B...</td>\n",
              "      <td>403.0</td>\n",
              "      <td>This uses the same ingredients found in boudin...</td>\n",
              "      <td>18.0</td>\n",
              "      <td>4.375</td>\n",
              "      <td>Boudin Blanc Terrine with Red Onion Confit</td>\n",
              "      <td>['1 1/2 cups whipping cream', '2 medium onions...</td>\n",
              "      <td>1439.0</td>\n",
              "    </tr>\n",
              "    <tr>\n",
              "      <th>2</th>\n",
              "      <td>['In a large heavy saucepan cook diced fennel ...</td>\n",
              "      <td>7.0</td>\n",
              "      <td>2004-08-20 04:00:00+00:00</td>\n",
              "      <td>['Soup/Stew', 'Dairy', 'Potato', 'Vegetable', ...</td>\n",
              "      <td>165.0</td>\n",
              "      <td>None</td>\n",
              "      <td>6.0</td>\n",
              "      <td>3.750</td>\n",
              "      <td>Potato and Fennel Soup Hodge</td>\n",
              "      <td>['1 fennel bulb (sometimes called anise), stal...</td>\n",
              "      <td>165.0</td>\n",
              "    </tr>\n",
              "    <tr>\n",
              "      <th>3</th>\n",
              "      <td>['Heat oil in heavy large skillet over medium-...</td>\n",
              "      <td>NaN</td>\n",
              "      <td>2009-03-27 04:00:00+00:00</td>\n",
              "      <td>['Fish', 'Olive', 'Tomato', 'Sauté', 'Low Fat'...</td>\n",
              "      <td>NaN</td>\n",
              "      <td>The Sicilian-style tomato sauce has tons of Me...</td>\n",
              "      <td>NaN</td>\n",
              "      <td>5.000</td>\n",
              "      <td>Mahi-Mahi in Tomato Olive Sauce</td>\n",
              "      <td>['2 tablespoons extra-virgin olive oil', '1 cu...</td>\n",
              "      <td>NaN</td>\n",
              "    </tr>\n",
              "    <tr>\n",
              "      <th>4</th>\n",
              "      <td>['Preheat oven to 350°F. Lightly grease 8x8x2-...</td>\n",
              "      <td>32.0</td>\n",
              "      <td>2004-08-20 04:00:00+00:00</td>\n",
              "      <td>['Cheese', 'Dairy', 'Pasta', 'Vegetable', 'Sid...</td>\n",
              "      <td>547.0</td>\n",
              "      <td>None</td>\n",
              "      <td>20.0</td>\n",
              "      <td>3.125</td>\n",
              "      <td>Spinach Noodle Casserole</td>\n",
              "      <td>['1 12-ounce package frozen spinach soufflé, t...</td>\n",
              "      <td>452.0</td>\n",
              "    </tr>\n",
              "    <tr>\n",
              "      <th>...</th>\n",
              "      <td>...</td>\n",
              "      <td>...</td>\n",
              "      <td>...</td>\n",
              "      <td>...</td>\n",
              "      <td>...</td>\n",
              "      <td>...</td>\n",
              "      <td>...</td>\n",
              "      <td>...</td>\n",
              "      <td>...</td>\n",
              "      <td>...</td>\n",
              "      <td>...</td>\n",
              "    </tr>\n",
              "    <tr>\n",
              "      <th>20125</th>\n",
              "      <td>['Beat whites in a bowl with an electric mixer...</td>\n",
              "      <td>2.0</td>\n",
              "      <td>2004-08-20 04:00:00+00:00</td>\n",
              "      <td>['Mixer', 'Cheese', 'Egg', 'Fry', 'Cocktail Pa...</td>\n",
              "      <td>28.0</td>\n",
              "      <td>None</td>\n",
              "      <td>2.0</td>\n",
              "      <td>3.125</td>\n",
              "      <td>Parmesan Puffs</td>\n",
              "      <td>['2 large egg whites', '3 oz Parmigiano-Reggia...</td>\n",
              "      <td>64.0</td>\n",
              "    </tr>\n",
              "    <tr>\n",
              "      <th>20126</th>\n",
              "      <td>['Bring broth to simmer in saucepan.Remove fro...</td>\n",
              "      <td>28.0</td>\n",
              "      <td>2008-02-28 22:06:54+00:00</td>\n",
              "      <td>['Side', 'Kid-Friendly', 'High Fiber', 'Dinner...</td>\n",
              "      <td>671.0</td>\n",
              "      <td>Cooking the artichokes with the rice infuses t...</td>\n",
              "      <td>22.0</td>\n",
              "      <td>4.375</td>\n",
              "      <td>Artichoke and Parmesan Risotto</td>\n",
              "      <td>['5 1/2 cups (or more) low-salt chicken broth'...</td>\n",
              "      <td>583.0</td>\n",
              "    </tr>\n",
              "    <tr>\n",
              "      <th>20127</th>\n",
              "      <td>['Using a sharp knife, cut a shallow X in bott...</td>\n",
              "      <td>38.0</td>\n",
              "      <td>2005-10-21 18:21:20+00:00</td>\n",
              "      <td>['Onion', 'Poultry', 'turkey', 'Vegetable', 'B...</td>\n",
              "      <td>563.0</td>\n",
              "      <td>None</td>\n",
              "      <td>31.0</td>\n",
              "      <td>4.375</td>\n",
              "      <td>Turkey Cream Puff Pie</td>\n",
              "      <td>['1 small tomato', '1 small onion, finely chop...</td>\n",
              "      <td>652.0</td>\n",
              "    </tr>\n",
              "    <tr>\n",
              "      <th>20128</th>\n",
              "      <td>['Heat 2 tablespoons oil in heavy medium skill...</td>\n",
              "      <td>24.0</td>\n",
              "      <td>2004-08-20 04:00:00+00:00</td>\n",
              "      <td>['Milk/Cream', 'Citrus', 'Dairy', 'Fish', 'Gar...</td>\n",
              "      <td>631.0</td>\n",
              "      <td>Sharon Hooykaas of Los Alamitos, California, w...</td>\n",
              "      <td>45.0</td>\n",
              "      <td>4.375</td>\n",
              "      <td>Snapper on Angel Hair with Citrus Cream</td>\n",
              "      <td>['4 tablespoons olive oil', '4 shallots, thinl...</td>\n",
              "      <td>517.0</td>\n",
              "    </tr>\n",
              "    <tr>\n",
              "      <th>20129</th>\n",
              "      <td>['Position rack in bottom third of oven and pr...</td>\n",
              "      <td>10.0</td>\n",
              "      <td>2004-08-20 04:00:00+00:00</td>\n",
              "      <td>['Pork', 'Bake', 'Roast', 'Christmas', 'Ham', ...</td>\n",
              "      <td>560.0</td>\n",
              "      <td>Although labeled fully cooked, the ham will st...</td>\n",
              "      <td>73.0</td>\n",
              "      <td>4.375</td>\n",
              "      <td>Baked Ham with Marmalade-Horseradish Glaze</td>\n",
              "      <td>['1 18-pound fully cooked bone-in smoked ham, ...</td>\n",
              "      <td>3698.0</td>\n",
              "    </tr>\n",
              "  </tbody>\n",
              "</table>\n",
              "<p>20130 rows × 11 columns</p>\n",
              "</div>\n",
              "      <button class=\"colab-df-convert\" onclick=\"convertToInteractive('df-df6ee1c2-7059-42c4-b6a6-54a1f89082a6')\"\n",
              "              title=\"Convert this dataframe to an interactive table.\"\n",
              "              style=\"display:none;\">\n",
              "        \n",
              "  <svg xmlns=\"http://www.w3.org/2000/svg\" height=\"24px\"viewBox=\"0 0 24 24\"\n",
              "       width=\"24px\">\n",
              "    <path d=\"M0 0h24v24H0V0z\" fill=\"none\"/>\n",
              "    <path d=\"M18.56 5.44l.94 2.06.94-2.06 2.06-.94-2.06-.94-.94-2.06-.94 2.06-2.06.94zm-11 1L8.5 8.5l.94-2.06 2.06-.94-2.06-.94L8.5 2.5l-.94 2.06-2.06.94zm10 10l.94 2.06.94-2.06 2.06-.94-2.06-.94-.94-2.06-.94 2.06-2.06.94z\"/><path d=\"M17.41 7.96l-1.37-1.37c-.4-.4-.92-.59-1.43-.59-.52 0-1.04.2-1.43.59L10.3 9.45l-7.72 7.72c-.78.78-.78 2.05 0 2.83L4 21.41c.39.39.9.59 1.41.59.51 0 1.02-.2 1.41-.59l7.78-7.78 2.81-2.81c.8-.78.8-2.07 0-2.86zM5.41 20L4 18.59l7.72-7.72 1.47 1.35L5.41 20z\"/>\n",
              "  </svg>\n",
              "      </button>\n",
              "      \n",
              "  <style>\n",
              "    .colab-df-container {\n",
              "      display:flex;\n",
              "      flex-wrap:wrap;\n",
              "      gap: 12px;\n",
              "    }\n",
              "\n",
              "    .colab-df-convert {\n",
              "      background-color: #E8F0FE;\n",
              "      border: none;\n",
              "      border-radius: 50%;\n",
              "      cursor: pointer;\n",
              "      display: none;\n",
              "      fill: #1967D2;\n",
              "      height: 32px;\n",
              "      padding: 0 0 0 0;\n",
              "      width: 32px;\n",
              "    }\n",
              "\n",
              "    .colab-df-convert:hover {\n",
              "      background-color: #E2EBFA;\n",
              "      box-shadow: 0px 1px 2px rgba(60, 64, 67, 0.3), 0px 1px 3px 1px rgba(60, 64, 67, 0.15);\n",
              "      fill: #174EA6;\n",
              "    }\n",
              "\n",
              "    [theme=dark] .colab-df-convert {\n",
              "      background-color: #3B4455;\n",
              "      fill: #D2E3FC;\n",
              "    }\n",
              "\n",
              "    [theme=dark] .colab-df-convert:hover {\n",
              "      background-color: #434B5C;\n",
              "      box-shadow: 0px 1px 3px 1px rgba(0, 0, 0, 0.15);\n",
              "      filter: drop-shadow(0px 1px 2px rgba(0, 0, 0, 0.3));\n",
              "      fill: #FFFFFF;\n",
              "    }\n",
              "  </style>\n",
              "\n",
              "      <script>\n",
              "        const buttonEl =\n",
              "          document.querySelector('#df-df6ee1c2-7059-42c4-b6a6-54a1f89082a6 button.colab-df-convert');\n",
              "        buttonEl.style.display =\n",
              "          google.colab.kernel.accessAllowed ? 'block' : 'none';\n",
              "\n",
              "        async function convertToInteractive(key) {\n",
              "          const element = document.querySelector('#df-df6ee1c2-7059-42c4-b6a6-54a1f89082a6');\n",
              "          const dataTable =\n",
              "            await google.colab.kernel.invokeFunction('convertToInteractive',\n",
              "                                                     [key], {});\n",
              "          if (!dataTable) return;\n",
              "\n",
              "          const docLinkHtml = 'Like what you see? Visit the ' +\n",
              "            '<a target=\"_blank\" href=https://colab.research.google.com/notebooks/data_table.ipynb>data table notebook</a>'\n",
              "            + ' to learn more about interactive tables.';\n",
              "          element.innerHTML = '';\n",
              "          dataTable['output_type'] = 'display_data';\n",
              "          await google.colab.output.renderOutput(dataTable, element);\n",
              "          const docLink = document.createElement('div');\n",
              "          docLink.innerHTML = docLinkHtml;\n",
              "          element.appendChild(docLink);\n",
              "        }\n",
              "      </script>\n",
              "    </div>\n",
              "  </div>\n",
              "  "
            ]
          },
          "metadata": {},
          "execution_count": 9
        }
      ]
    },
    {
      "cell_type": "markdown",
      "source": [
        "### **1.3.1 Identificando dados duplicados**"
      ],
      "metadata": {
        "id": "NuV1PXCLVZnL"
      }
    },
    {
      "cell_type": "code",
      "source": [
        "# Indentificando a quantidade de dados duplicados\n",
        "df.duplicated().sum()\n",
        "\n",
        "# Removendo dados que estejam iguais em todas as colunas do dataset\n",
        "df = df.drop_duplicates(subset = df.columns)"
      ],
      "metadata": {
        "id": "DCXruyKuVX8v"
      },
      "execution_count": null,
      "outputs": []
    },
    {
      "cell_type": "code",
      "source": [
        "print(f\"O dataset sem os valores duplicados é composto por {df.shape[0]} linhas e {df.shape[1]} colunas\")"
      ],
      "metadata": {
        "colab": {
          "base_uri": "https://localhost:8080/"
        },
        "id": "Tj8V8X_xZSOF",
        "outputId": "337623c1-ccbd-46ae-87ed-25cc623adfe9"
      },
      "execution_count": null,
      "outputs": [
        {
          "output_type": "stream",
          "name": "stdout",
          "text": [
            "O dataset sem os valores duplicados é composto por 18296 linhas e 11 colunas\n"
          ]
        }
      ]
    },
    {
      "cell_type": "markdown",
      "source": [
        "### **1.3.2 Identificando dados faltantes**"
      ],
      "metadata": {
        "id": "uXLf8S3tcRpG"
      }
    },
    {
      "cell_type": "code",
      "source": [
        "print(\"Quantidade de dados faltantes por coluna no dataset:\")\n",
        "df.isnull().sum().sort_values(ascending=False)"
      ],
      "metadata": {
        "id": "KBVT7iJ2cYZ2",
        "colab": {
          "base_uri": "https://localhost:8080/"
        },
        "outputId": "1f642666-e77d-4eb8-84e7-e10743f53442"
      },
      "execution_count": null,
      "outputs": [
        {
          "output_type": "stream",
          "name": "stdout",
          "text": [
            "Quantidade de dados faltantes por coluna no dataset:\n"
          ]
        },
        {
          "output_type": "execute_result",
          "data": {
            "text/plain": [
              "desc           6082\n",
              "fat            3817\n",
              "protein        3797\n",
              "sodium         3765\n",
              "calories       3764\n",
              "rating           11\n",
              "date              1\n",
              "title             1\n",
              "directions        0\n",
              "categories        0\n",
              "ingredients       0\n",
              "dtype: int64"
            ]
          },
          "metadata": {},
          "execution_count": 12
        }
      ]
    },
    {
      "cell_type": "code",
      "source": [
        "# Imprimindo a matriz de dados faltantes\n",
        "msno.matrix(df, labels=True)"
      ],
      "metadata": {
        "id": "3VaSdiS-Kjc3",
        "colab": {
          "base_uri": "https://localhost:8080/",
          "height": 537
        },
        "outputId": "32f3f149-ac9b-4ccb-9e6b-ac0f54753875"
      },
      "execution_count": null,
      "outputs": [
        {
          "output_type": "execute_result",
          "data": {
            "text/plain": [
              "<matplotlib.axes._subplots.AxesSubplot at 0x7ff4331979d0>"
            ]
          },
          "metadata": {},
          "execution_count": 13
        },
        {
          "output_type": "display_data",
          "data": {
            "text/plain": [
              "<Figure size 1800x720 with 2 Axes>"
            ],
            "image/png": "[encoded data removed]"
          },
          "metadata": {
            "needs_background": "light"
          }
        }
      ]
    },
    {
      "cell_type": "markdown",
      "source": [
        "Obs.: Embora tenham sido identificados valores faltantes em algumas colunas, optou-se por não remover nenhum dos registros que apresentam valores 'NaN' do dataset."
      ],
      "metadata": {
        "id": "LJw_e62gdjYe"
      }
    },
    {
      "cell_type": "markdown",
      "source": [
        "### **1.3.3 Identificando valores númericos**"
      ],
      "metadata": {
        "id": "HTWSA-OAWMa8"
      }
    },
    {
      "cell_type": "code",
      "source": [
        "print(\"Tipos de dados do dataset:\")\n",
        "df.dtypes"
      ],
      "metadata": {
        "colab": {
          "base_uri": "https://localhost:8080/"
        },
        "id": "AVarSBowWQuc",
        "outputId": "2ea9d03c-2ddd-4b36-de3c-182df3f9b0fb"
      },
      "execution_count": null,
      "outputs": [
        {
          "output_type": "stream",
          "name": "stdout",
          "text": [
            "Tipos de dados do dataset:\n"
          ]
        },
        {
          "output_type": "execute_result",
          "data": {
            "text/plain": [
              "directions                  object\n",
              "fat                        float64\n",
              "date           datetime64[ns, UTC]\n",
              "categories                  object\n",
              "calories                   float64\n",
              "desc                        object\n",
              "protein                    float64\n",
              "rating                     float64\n",
              "title                       object\n",
              "ingredients                 object\n",
              "sodium                     float64\n",
              "dtype: object"
            ]
          },
          "metadata": {},
          "execution_count": 14
        }
      ]
    },
    {
      "cell_type": "markdown",
      "source": [
        "Obs.: O dataset apresenta todas as colunas com o tipo de dado correto para os registros que armazenam."
      ],
      "metadata": {
        "id": "lJmJReQ0eEFx"
      }
    },
    {
      "cell_type": "markdown",
      "source": [
        "### **1.3.4 Identificando outliers**"
      ],
      "metadata": {
        "id": "5eJ7iK-CWRBo"
      }
    },
    {
      "cell_type": "code",
      "source": [
        "print(\"Dados estatísticos básicos do dataset:\")\n",
        "df.describe()"
      ],
      "metadata": {
        "id": "VIsSb05cWeVd",
        "colab": {
          "base_uri": "https://localhost:8080/",
          "height": 318
        },
        "outputId": "ed6c900d-96be-4dee-c055-d142c4285513"
      },
      "execution_count": null,
      "outputs": [
        {
          "output_type": "stream",
          "name": "stdout",
          "text": [
            "Dados estatísticos básicos do dataset:\n"
          ]
        },
        {
          "output_type": "execute_result",
          "data": {
            "text/plain": [
              "                fat      calories        protein        rating        sodium\n",
              "count  1.447900e+04  1.453200e+04   14499.000000  18285.000000  1.453100e+04\n",
              "mean   3.627313e+02  6.609487e+03      92.074281      3.713187  6.561556e+03\n",
              "std    2.133631e+04  3.743950e+05    3508.244063      1.335423  3.480575e+05\n",
              "min    0.000000e+00  0.000000e+00       0.000000      0.000000  0.000000e+00\n",
              "25%    8.000000e+00  2.050000e+02       3.000000      3.750000  8.800000e+01\n",
              "50%    1.800000e+01  3.450000e+02       9.000000      4.375000  3.040000e+02\n",
              "75%    3.400000e+01  5.990000e+02      28.000000      4.375000  7.320000e+02\n",
              "max    1.722763e+06  3.011122e+07  236489.000000      5.000000  2.767511e+07"
            ],
            "text/html": [
              "\n",
              "  <div id=\"df-fae87302-086f-4894-88b7-090d6ed906ca\">\n",
              "    <div class=\"colab-df-container\">\n",
              "      <div>\n",
              "<style scoped>\n",
              "    .dataframe tbody tr th:only-of-type {\n",
              "        vertical-align: middle;\n",
              "    }\n",
              "\n",
              "    .dataframe tbody tr th {\n",
              "        vertical-align: top;\n",
              "    }\n",
              "\n",
              "    .dataframe thead th {\n",
              "        text-align: right;\n",
              "    }\n",
              "</style>\n",
              "<table border=\"1\" class=\"dataframe\">\n",
              "  <thead>\n",
              "    <tr style=\"text-align: right;\">\n",
              "      <th></th>\n",
              "      <th>fat</th>\n",
              "      <th>calories</th>\n",
              "      <th>protein</th>\n",
              "      <th>rating</th>\n",
              "      <th>sodium</th>\n",
              "    </tr>\n",
              "  </thead>\n",
              "  <tbody>\n",
              "    <tr>\n",
              "      <th>count</th>\n",
              "      <td>1.447900e+04</td>\n",
              "      <td>1.453200e+04</td>\n",
              "      <td>14499.000000</td>\n",
              "      <td>18285.000000</td>\n",
              "      <td>1.453100e+04</td>\n",
              "    </tr>\n",
              "    <tr>\n",
              "      <th>mean</th>\n",
              "      <td>3.627313e+02</td>\n",
              "      <td>6.609487e+03</td>\n",
              "      <td>92.074281</td>\n",
              "      <td>3.713187</td>\n",
              "      <td>6.561556e+03</td>\n",
              "    </tr>\n",
              "    <tr>\n",
              "      <th>std</th>\n",
              "      <td>2.133631e+04</td>\n",
              "      <td>3.743950e+05</td>\n",
              "      <td>3508.244063</td>\n",
              "      <td>1.335423</td>\n",
              "      <td>3.480575e+05</td>\n",
              "    </tr>\n",
              "    <tr>\n",
              "      <th>min</th>\n",
              "      <td>0.000000e+00</td>\n",
              "      <td>0.000000e+00</td>\n",
              "      <td>0.000000</td>\n",
              "      <td>0.000000</td>\n",
              "      <td>0.000000e+00</td>\n",
              "    </tr>\n",
              "    <tr>\n",
              "      <th>25%</th>\n",
              "      <td>8.000000e+00</td>\n",
              "      <td>2.050000e+02</td>\n",
              "      <td>3.000000</td>\n",
              "      <td>3.750000</td>\n",
              "      <td>8.800000e+01</td>\n",
              "    </tr>\n",
              "    <tr>\n",
              "      <th>50%</th>\n",
              "      <td>1.800000e+01</td>\n",
              "      <td>3.450000e+02</td>\n",
              "      <td>9.000000</td>\n",
              "      <td>4.375000</td>\n",
              "      <td>3.040000e+02</td>\n",
              "    </tr>\n",
              "    <tr>\n",
              "      <th>75%</th>\n",
              "      <td>3.400000e+01</td>\n",
              "      <td>5.990000e+02</td>\n",
              "      <td>28.000000</td>\n",
              "      <td>4.375000</td>\n",
              "      <td>7.320000e+02</td>\n",
              "    </tr>\n",
              "    <tr>\n",
              "      <th>max</th>\n",
              "      <td>1.722763e+06</td>\n",
              "      <td>3.011122e+07</td>\n",
              "      <td>236489.000000</td>\n",
              "      <td>5.000000</td>\n",
              "      <td>2.767511e+07</td>\n",
              "    </tr>\n",
              "  </tbody>\n",
              "</table>\n",
              "</div>\n",
              "      <button class=\"colab-df-convert\" onclick=\"convertToInteractive('df-fae87302-086f-4894-88b7-090d6ed906ca')\"\n",
              "              title=\"Convert this dataframe to an interactive table.\"\n",
              "              style=\"display:none;\">\n",
              "        \n",
              "  <svg xmlns=\"http://www.w3.org/2000/svg\" height=\"24px\"viewBox=\"0 0 24 24\"\n",
              "       width=\"24px\">\n",
              "    <path d=\"M0 0h24v24H0V0z\" fill=\"none\"/>\n",
              "    <path d=\"M18.56 5.44l.94 2.06.94-2.06 2.06-.94-2.06-.94-.94-2.06-.94 2.06-2.06.94zm-11 1L8.5 8.5l.94-2.06 2.06-.94-2.06-.94L8.5 2.5l-.94 2.06-2.06.94zm10 10l.94 2.06.94-2.06 2.06-.94-2.06-.94-.94-2.06-.94 2.06-2.06.94z\"/><path d=\"M17.41 7.96l-1.37-1.37c-.4-.4-.92-.59-1.43-.59-.52 0-1.04.2-1.43.59L10.3 9.45l-7.72 7.72c-.78.78-.78 2.05 0 2.83L4 21.41c.39.39.9.59 1.41.59.51 0 1.02-.2 1.41-.59l7.78-7.78 2.81-2.81c.8-.78.8-2.07 0-2.86zM5.41 20L4 18.59l7.72-7.72 1.47 1.35L5.41 20z\"/>\n",
              "  </svg>\n",
              "      </button>\n",
              "      \n",
              "  <style>\n",
              "    .colab-df-container {\n",
              "      display:flex;\n",
              "      flex-wrap:wrap;\n",
              "      gap: 12px;\n",
              "    }\n",
              "\n",
              "    .colab-df-convert {\n",
              "      background-color: #E8F0FE;\n",
              "      border: none;\n",
              "      border-radius: 50%;\n",
              "      cursor: pointer;\n",
              "      display: none;\n",
              "      fill: #1967D2;\n",
              "      height: 32px;\n",
              "      padding: 0 0 0 0;\n",
              "      width: 32px;\n",
              "    }\n",
              "\n",
              "    .colab-df-convert:hover {\n",
              "      background-color: #E2EBFA;\n",
              "      box-shadow: 0px 1px 2px rgba(60, 64, 67, 0.3), 0px 1px 3px 1px rgba(60, 64, 67, 0.15);\n",
              "      fill: #174EA6;\n",
              "    }\n",
              "\n",
              "    [theme=dark] .colab-df-convert {\n",
              "      background-color: #3B4455;\n",
              "      fill: #D2E3FC;\n",
              "    }\n",
              "\n",
              "    [theme=dark] .colab-df-convert:hover {\n",
              "      background-color: #434B5C;\n",
              "      box-shadow: 0px 1px 3px 1px rgba(0, 0, 0, 0.15);\n",
              "      filter: drop-shadow(0px 1px 2px rgba(0, 0, 0, 0.3));\n",
              "      fill: #FFFFFF;\n",
              "    }\n",
              "  </style>\n",
              "\n",
              "      <script>\n",
              "        const buttonEl =\n",
              "          document.querySelector('#df-fae87302-086f-4894-88b7-090d6ed906ca button.colab-df-convert');\n",
              "        buttonEl.style.display =\n",
              "          google.colab.kernel.accessAllowed ? 'block' : 'none';\n",
              "\n",
              "        async function convertToInteractive(key) {\n",
              "          const element = document.querySelector('#df-fae87302-086f-4894-88b7-090d6ed906ca');\n",
              "          const dataTable =\n",
              "            await google.colab.kernel.invokeFunction('convertToInteractive',\n",
              "                                                     [key], {});\n",
              "          if (!dataTable) return;\n",
              "\n",
              "          const docLinkHtml = 'Like what you see? Visit the ' +\n",
              "            '<a target=\"_blank\" href=https://colab.research.google.com/notebooks/data_table.ipynb>data table notebook</a>'\n",
              "            + ' to learn more about interactive tables.';\n",
              "          element.innerHTML = '';\n",
              "          dataTable['output_type'] = 'display_data';\n",
              "          await google.colab.output.renderOutput(dataTable, element);\n",
              "          const docLink = document.createElement('div');\n",
              "          docLink.innerHTML = docLinkHtml;\n",
              "          element.appendChild(docLink);\n",
              "        }\n",
              "      </script>\n",
              "    </div>\n",
              "  </div>\n",
              "  "
            ]
          },
          "metadata": {},
          "execution_count": 15
        }
      ]
    },
    {
      "cell_type": "code",
      "source": [
        "# Plotando boxplot para observar a distribuição dos dados\n",
        "df.boxplot(figsize=(12,8), grid=False, vert=False)"
      ],
      "metadata": {
        "id": "-E8S8ZXKB6LB",
        "colab": {
          "base_uri": "https://localhost:8080/",
          "height": 571
        },
        "outputId": "28725258-e20b-461c-caa2-f044785b90b8"
      },
      "execution_count": null,
      "outputs": [
        {
          "output_type": "stream",
          "name": "stderr",
          "text": [
            "/usr/local/lib/python3.8/dist-packages/matplotlib/cbook/__init__.py:1376: VisibleDeprecationWarning: Creating an ndarray from ragged nested sequences (which is a list-or-tuple of lists-or-tuples-or ndarrays with different lengths or shapes) is deprecated. If you meant to do this, you must specify 'dtype=object' when creating the ndarray.\n",
            "  X = np.atleast_1d(X.T if isinstance(X, np.ndarray) else np.asarray(X))\n"
          ]
        },
        {
          "output_type": "execute_result",
          "data": {
            "text/plain": [
              "<matplotlib.axes._subplots.AxesSubplot at 0x7ff419a4f460>"
            ]
          },
          "metadata": {},
          "execution_count": 16
        },
        {
          "output_type": "display_data",
          "data": {
            "text/plain": [
              "<Figure size 864x576 with 1 Axes>"
            ],
            "image/png": "[encoded data removed]"
          },
          "metadata": {
            "needs_background": "light"
          }
        }
      ]
    },
    {
      "cell_type": "markdown",
      "source": [
        "Obs.: Como os valores apresentados como outliers no boxplot apareceram em maior quantidade nas features 'calories' e 'sodium', optou-se por aplicar o metodo amplitude interquartil apenas nestas duas features."
      ],
      "metadata": {
        "id": "NYoI10MO5qCX"
      }
    },
    {
      "cell_type": "markdown",
      "source": [
        "Método Amplitude interquartil"
      ],
      "metadata": {
        "id": "I29msLp74P37"
      }
    },
    {
      "cell_type": "markdown",
      "source": [
        "feature 'calories'"
      ],
      "metadata": {
        "id": "x9uoQILG6ejp"
      }
    },
    {
      "cell_type": "code",
      "source": [
        "# Analisando a amplitude interquartil para a feature calories\n",
        "q1_calories = df.calories.quantile(.25)\n",
        "q3_calories = df.calories.quantile(.75)\n",
        "Amp_interquartil = q3_calories - q1_calories\n",
        "\n",
        "print(\"CALORIES:\")\n",
        "print(\"Primeiro Quartil:\", q1_calories)\n",
        "print(\"Terciro Quartil:\", q3_calories)\n",
        "print(\"Amplitude interquatil:\", Amp_interquartil, \"\\n\")\n",
        "\n",
        "# Determinando o limite inferior e superior\n",
        "limite_inferior = q1_calories - (1.5 * Amp_interquartil)\n",
        "limite_superior = q3_calories + (1.5 * Amp_interquartil)\n",
        "\n",
        "print(\"Limite Inferior da feature calories: \", limite_inferior)\n",
        "print(\"Limite Superior da feature calories: \", limite_superior)"
      ],
      "metadata": {
        "colab": {
          "base_uri": "https://localhost:8080/"
        },
        "id": "bNUd-nM4Y4vk",
        "outputId": "c6cc82dd-c847-4b51-e772-cf8bf482f0a3"
      },
      "execution_count": null,
      "outputs": [
        {
          "output_type": "stream",
          "name": "stdout",
          "text": [
            "CALORIES:\n",
            "Primeiro Quartil: 205.0\n",
            "Terciro Quartil: 599.0\n",
            "Amplitude interquatil: 394.0 \n",
            "\n",
            "Limite Inferior da feature calories:  -386.0\n",
            "Limite Superior da feature calories:  1190.0\n"
          ]
        }
      ]
    },
    {
      "cell_type": "code",
      "source": [
        "# Verificando se existem dados fora dos limites encontrados da feature calories\n",
        "outliers = len(df[(df.calories < limite_inferior) | (df.calories > limite_superior)])\n",
        "print(f\"Número de outliers da feature calories: {outliers}\")"
      ],
      "metadata": {
        "colab": {
          "base_uri": "https://localhost:8080/"
        },
        "id": "fQVAPhHy6i8A",
        "outputId": "5a0f14a1-b5d9-4517-c396-cdc9998e8ebd"
      },
      "execution_count": null,
      "outputs": [
        {
          "output_type": "stream",
          "name": "stdout",
          "text": [
            "Número de outliers da feature calories: 907\n"
          ]
        }
      ]
    },
    {
      "cell_type": "markdown",
      "source": [
        "feature 'sodium'"
      ],
      "metadata": {
        "id": "1F3K97Ef6j4K"
      }
    },
    {
      "cell_type": "code",
      "source": [
        "# Analisando a amplitude interquartil para a feature sodium\n",
        "q1_sodium = df.sodium.quantile(.25)\n",
        "q3_sodium = df.sodium.quantile(.75)\n",
        "Amp_interquartil = q3_sodium - q1_sodium\n",
        "\n",
        "print(\"SODIUM:\")\n",
        "print(\"Primeiro Quartil:\", q1_sodium)\n",
        "print(\"Terciro Quartil:\", q3_sodium)\n",
        "print(\"Amplitude interquatil:\", Amp_interquartil, \"\\n\")\n",
        "\n",
        "# Determinando o limite inferior e superior\n",
        "limite_inferior = q1_sodium - (1.5 * Amp_interquartil)\n",
        "limite_superior = q3_sodium + (1.5 * Amp_interquartil)\n",
        "\n",
        "print(\"Limite Inferior da feature sodium: \", limite_inferior)\n",
        "print(\"Limite Superior da feature sodium: \", limite_superior)"
      ],
      "metadata": {
        "colab": {
          "base_uri": "https://localhost:8080/"
        },
        "id": "UqtmvyA06nbQ",
        "outputId": "132bba37-f49c-45fc-9d99-68fd6102de07"
      },
      "execution_count": null,
      "outputs": [
        {
          "output_type": "stream",
          "name": "stdout",
          "text": [
            "SODIUM:\n",
            "Primeiro Quartil: 88.0\n",
            "Terciro Quartil: 732.0\n",
            "Amplitude interquatil: 644.0 \n",
            "\n",
            "Limite Inferior da feature sodium:  -878.0\n",
            "Limite Superior da feature sodium:  1698.0\n"
          ]
        }
      ]
    },
    {
      "cell_type": "code",
      "source": [
        "# Verificando se existem dados fora dos limites encontrados da feature sodium\n",
        "outliers = len(df[(df.sodium < limite_inferior) | (df.sodium > limite_superior)])\n",
        "print(f\"Número de outliers da feature sodium: {outliers}\")"
      ],
      "metadata": {
        "colab": {
          "base_uri": "https://localhost:8080/"
        },
        "id": "U0Hq_M0T6nUO",
        "outputId": "95538c51-396c-46fb-d644-4ce1d5b13d4f"
      },
      "execution_count": null,
      "outputs": [
        {
          "output_type": "stream",
          "name": "stdout",
          "text": [
            "Número de outliers da feature sodium: 1040\n"
          ]
        }
      ]
    },
    {
      "cell_type": "markdown",
      "source": [
        "Obs.: Embora tenham sido identificados outliers, optou-se por não remove-los do dataset."
      ],
      "metadata": {
        "id": "ReLhhqHVdQOD"
      }
    },
    {
      "cell_type": "markdown",
      "source": [
        "## 1.4 Observando a distribuição dos dados"
      ],
      "metadata": {
        "id": "qZ5Z6nSw7PrC"
      }
    },
    {
      "cell_type": "code",
      "source": [
        "# Plotando histograma para observar a distribuição dos dados\n",
        "df.hist(figsize=(12,8), bins=20, grid=False)"
      ],
      "metadata": {
        "colab": {
          "base_uri": "https://localhost:8080/",
          "height": 640
        },
        "id": "Wp4gkasT7Q85",
        "outputId": "b63f997d-eba5-453f-e8f4-5d4b44e24361"
      },
      "execution_count": null,
      "outputs": [
        {
          "output_type": "execute_result",
          "data": {
            "text/plain": [
              "array([[<matplotlib.axes._subplots.AxesSubplot object at 0x7ff41986dcd0>,\n",
              "        <matplotlib.axes._subplots.AxesSubplot object at 0x7ff419840700>],\n",
              "       [<matplotlib.axes._subplots.AxesSubplot object at 0x7ff4198e4b50>,\n",
              "        <matplotlib.axes._subplots.AxesSubplot object at 0x7ff4198c2f40>],\n",
              "       [<matplotlib.axes._subplots.AxesSubplot object at 0x7ff419962370>,\n",
              "        <matplotlib.axes._subplots.AxesSubplot object at 0x7ff4199636d0>]],\n",
              "      dtype=object)"
            ]
          },
          "metadata": {},
          "execution_count": 21
        },
        {
          "output_type": "display_data",
          "data": {
            "text/plain": [
              "<Figure size 864x576 with 6 Axes>"
            ],
            "image/png": "[encoded data removed]"
          },
          "metadata": {
            "needs_background": "light"
          }
        }
      ]
    },
    {
      "cell_type": "markdown",
      "source": [
        "Obs.: Os histógramas acima mostram que há um desbalanceamento na distribuição dos dados, havendo uma concentração muito grande de dados na parte inferior. Essa falta de balanceamento também pode ser evidenciada através da diferença dos valores da média e mediana. Novamente, usaremos como exemplo as features 'calories' e 'sodium'."
      ],
      "metadata": {
        "id": "NiGTcAYQ_NEg"
      }
    },
    {
      "cell_type": "code",
      "source": [
        "# Médida de tendência central - Distribuição da feature 'CALORIES'\n",
        "print(f\"Média das calorias: {df.calories.mean()}\")\n",
        "print(f\"Mediana das calorias: {df.calories.median()} \\n\")\n",
        "\n",
        "# Médida de tendência central - Distribuição da feature 'SODIUM'\n",
        "print(f\"Média do sódio: {df.sodium.mean()}\")\n",
        "print(f\"Mediana do sódios: {df.sodium.median()}\")"
      ],
      "metadata": {
        "colab": {
          "base_uri": "https://localhost:8080/"
        },
        "id": "lb-08LUaB4eI",
        "outputId": "ceb372e6-04ea-4f68-bfac-4f44d3415293"
      },
      "execution_count": null,
      "outputs": [
        {
          "output_type": "stream",
          "name": "stdout",
          "text": [
            "Média das calorias: 6609.487475915222\n",
            "Mediana das calorias: 345.0 \n",
            "\n",
            "Média do sódio: 6561.556327850802\n",
            "Mediana do sódios: 304.0\n"
          ]
        }
      ]
    },
    {
      "cell_type": "markdown",
      "source": [
        "Obs.: Note que a média está muito alta e muito distante da mediana, possivelmente por conta dos valores de outliers muito altos encontrados anteriormente."
      ],
      "metadata": {
        "id": "w621evJQDPq_"
      }
    },
    {
      "cell_type": "markdown",
      "source": [
        "##1.5 Análise exploratória dos dados"
      ],
      "metadata": {
        "id": "AJ4uQvGHRKmE"
      }
    },
    {
      "cell_type": "code",
      "source": [
        "# Importando bibliotecas necessárias para gerar os gráficos\n",
        "import seaborn as sns\n",
        "import matplotlib.pyplot as plt"
      ],
      "metadata": {
        "id": "EYutCQqEGf5I"
      },
      "execution_count": null,
      "outputs": []
    },
    {
      "cell_type": "markdown",
      "source": [
        "**Pergunta 01) Qual a quantidade de receitas publicadas em cada ano?**"
      ],
      "metadata": {
        "id": "luD1-GNvNE_5"
      }
    },
    {
      "cell_type": "code",
      "source": [
        "df.groupby(df[\"date\"].dt.year)[\"title\"].count().plot(kind='bar', figsize=(12,8))\n",
        "\n",
        "plt.title(\"Total de receitas publicadas por ano de 1996 a 2016\")\n",
        "plt.xlabel(\"Ano\")\n",
        "plt.ylabel(\"Quantidade de receitas publicadas\")"
      ],
      "metadata": {
        "id": "u5wMJImxrDYm",
        "colab": {
          "base_uri": "https://localhost:8080/",
          "height": 556
        },
        "outputId": "99d05544-0bc9-4895-ff2e-06687d96e340"
      },
      "execution_count": null,
      "outputs": [
        {
          "output_type": "execute_result",
          "data": {
            "text/plain": [
              "Text(0, 0.5, 'Quantidade de receitas publicadas')"
            ]
          },
          "metadata": {},
          "execution_count": 24
        },
        {
          "output_type": "display_data",
          "data": {
            "text/plain": [
              "<Figure size 864x576 with 1 Axes>"
            ],
            "image/png": "[encoded data removed]"
          },
          "metadata": {
            "needs_background": "light"
          }
        }
      ]
    },
    {
      "cell_type": "code",
      "source": [
        "print(f\"Total de receitas publicadas por ano:\")\n",
        "df.date.dt.year.value_counts()"
      ],
      "metadata": {
        "colab": {
          "base_uri": "https://localhost:8080/"
        },
        "id": "o-ZT210EOrrR",
        "outputId": "3b4fbf2a-aa7a-4832-c14f-ca2b3b043611"
      },
      "execution_count": null,
      "outputs": [
        {
          "output_type": "stream",
          "name": "stdout",
          "text": [
            "Total de receitas publicadas por ano:\n"
          ]
        },
        {
          "output_type": "execute_result",
          "data": {
            "text/plain": [
              "2004.0    10565\n",
              "2006.0     1207\n",
              "2007.0      923\n",
              "2009.0      758\n",
              "2016.0      732\n",
              "2008.0      605\n",
              "2005.0      603\n",
              "2013.0      575\n",
              "2015.0      519\n",
              "2010.0      491\n",
              "2011.0      445\n",
              "2012.0      441\n",
              "2014.0      420\n",
              "1999.0        4\n",
              "2003.0        3\n",
              "1998.0        3\n",
              "1996.0        1\n",
              "Name: date, dtype: int64"
            ]
          },
          "metadata": {},
          "execution_count": 25
        }
      ]
    },
    {
      "cell_type": "code",
      "source": [
        "print(f\"Total de receitas publicadas: {df.date.dt.year.count()}\")"
      ],
      "metadata": {
        "colab": {
          "base_uri": "https://localhost:8080/"
        },
        "id": "ZJkoADkEMgrr",
        "outputId": "dbeb17eb-d271-4a02-8ae4-fa05c144bfba"
      },
      "execution_count": null,
      "outputs": [
        {
          "output_type": "stream",
          "name": "stdout",
          "text": [
            "Total de receitas publicadas: 18295\n"
          ]
        }
      ]
    },
    {
      "cell_type": "markdown",
      "source": [
        "**Comentários:**\n",
        "\n",
        "* O gráfico evidencia que 2004 foi um ano bastante significativo em relação ao número de publicações de receitas, apresentando um valor muito alto em relação aos anos que antecedem e sucedem essa data. \n",
        "\n",
        "* Também se observa que, a partir de 2007, não houve nenhuma alteração significativa em relação ao número de publicações de receita, mantendo-se valores entre 923 e 420."
      ],
      "metadata": {
        "id": "xSslF3GpLgaf"
      }
    },
    {
      "cell_type": "markdown",
      "source": [
        "**Pergunta 02) Qual o somatório da quantidade de receitas publicadas em cada mês ao longo dos anos?**"
      ],
      "metadata": {
        "id": "mY60sjs9P4Zk"
      }
    },
    {
      "cell_type": "code",
      "source": [
        "df.groupby(df[\"date\"].dt.month)[\"title\"].count().plot(kind='bar', figsize=(12,8))\n",
        "\n",
        "plt.title(\"Somatório do total de receitas publicadas em cada mês ao longo dos anos\")\n",
        "plt.xlabel(\"Mês do ano\")\n",
        "plt.ylabel(\"Quantidade de receitas publicadas\")"
      ],
      "metadata": {
        "id": "x4T-WVgxP2sO",
        "colab": {
          "base_uri": "https://localhost:8080/",
          "height": 543
        },
        "outputId": "266389bd-e52d-47e7-d695-a4bb82cf88b5"
      },
      "execution_count": null,
      "outputs": [
        {
          "output_type": "execute_result",
          "data": {
            "text/plain": [
              "Text(0, 0.5, 'Quantidade de receitas publicadas')"
            ]
          },
          "metadata": {},
          "execution_count": 27
        },
        {
          "output_type": "display_data",
          "data": {
            "text/plain": [
              "<Figure size 864x576 with 1 Axes>"
            ],
            "image/png": "[encoded data removed]"
          },
          "metadata": {
            "needs_background": "light"
          }
        }
      ]
    },
    {
      "cell_type": "code",
      "source": [
        "print(f\"Somatório do total de receitas publicadas em cada mês ao longo dos anos:\")\n",
        "df.date.dt.month.value_counts()"
      ],
      "metadata": {
        "colab": {
          "base_uri": "https://localhost:8080/"
        },
        "id": "T4eUPMwWTYP5",
        "outputId": "510bd3b8-414a-47ee-9660-9157a3d44eb7"
      },
      "execution_count": null,
      "outputs": [
        {
          "output_type": "stream",
          "name": "stdout",
          "text": [
            "Somatório do total de receitas publicadas em cada mês ao longo dos anos:\n"
          ]
        },
        {
          "output_type": "execute_result",
          "data": {
            "text/plain": [
              "8.0     10846\n",
              "10.0     1059\n",
              "5.0       823\n",
              "11.0      733\n",
              "3.0       672\n",
              "7.0       654\n",
              "9.0       649\n",
              "6.0       637\n",
              "4.0       637\n",
              "1.0       612\n",
              "12.0      565\n",
              "2.0       408\n",
              "Name: date, dtype: int64"
            ]
          },
          "metadata": {},
          "execution_count": 28
        }
      ]
    },
    {
      "cell_type": "markdown",
      "source": [
        "**Comentários:**\n",
        "\n",
        "* O gráfico evidencia que no mês de agosto o número de publicações de receitas é consideravelmente maior que nos demais meses do ano.\n",
        "\n",
        "* Também se observa que, no primeiro semestre do ano, a quantidade de publicações assume valores muito proximos."
      ],
      "metadata": {
        "id": "oferfAJaTwHc"
      }
    },
    {
      "cell_type": "markdown",
      "source": [
        "**Pergunta 03) Quais as 30 receitas mais bem avaliadas?**"
      ],
      "metadata": {
        "id": "NF5zxL6PMxP-"
      }
    },
    {
      "cell_type": "code",
      "source": [
        "df.groupby(['title']).rating.sum().sort_values(ascending=False)[:30].plot(kind='bar', figsize=(12,8))\n",
        "\n",
        "plt.title(\"Top 30 receitas mais bem avaliadas\")\n",
        "plt.xlabel(\"Nome da receita\")\n",
        "plt.ylabel(\"Quantidade de pontos (avaliação)\")"
      ],
      "metadata": {
        "id": "TdTFKNsaNEve",
        "colab": {
          "base_uri": "https://localhost:8080/",
          "height": 648
        },
        "outputId": "b34e7c62-7661-4fb7-9a76-1e30fc43e3f7"
      },
      "execution_count": null,
      "outputs": [
        {
          "output_type": "execute_result",
          "data": {
            "text/plain": [
              "Text(0, 0.5, 'Quantidade de pontos (avaliação)')"
            ]
          },
          "metadata": {},
          "execution_count": 29
        },
        {
          "output_type": "display_data",
          "data": {
            "text/plain": [
              "<Figure size 864x576 with 1 Axes>"
            ],
            "image/png": "[encoded data removed]"
          },
          "metadata": {
            "needs_background": "light"
          }
        }
      ]
    },
    {
      "cell_type": "markdown",
      "source": [
        "**Comentários:**\n",
        "\n",
        "* Pastry Dough é a receita mais bem avaliada do dataset. Ela apresenta um número de pontos acumulados consideravelmente maior do que a receita Chicken Stock, segunda mais bem avaliada.\n"
      ],
      "metadata": {
        "id": "mzW0D45qbcOD"
      }
    },
    {
      "cell_type": "markdown",
      "source": [
        "**Pergunta 04) Apresente um gráfico que mostre a relação entre a quantidade de cada nutriente (gordura, calorias, proteina e sódio) e a nota de avalição**"
      ],
      "metadata": {
        "id": "nYRnf8NfmCNk"
      }
    },
    {
      "cell_type": "code",
      "source": [
        "n, nx = plt.subplots(2, 2, figsize=(15, 10), sharex=True)\n",
        "sns.barplot(x=\"rating\", y=\"fat\", data=df, ax=nx[0,0]).set_title(\"Relação: Quantidade de Gordura x Nota de avaliação\")\n",
        "sns.barplot(x=\"rating\", y=\"calories\", data=df, ax=nx[0,1]).set_title(\"Relação: Quantidade de Calorias x  Nota de avaliação\")\n",
        "sns.barplot(x=\"rating\", y=\"protein\", data=df, ax=nx[1,0]).set_title(\"Relação: Quantidade de Proteina x  Nota de avaliação\")\n",
        "sns.barplot(x=\"rating\", y=\"sodium\", data=df, ax=nx[1,1]).set_title(\"Relação: Quantidade de Sódio x Nota de avaliação\")"
      ],
      "metadata": {
        "colab": {
          "base_uri": "https://localhost:8080/",
          "height": 639
        },
        "id": "otMdBlFRmBz7",
        "outputId": "d238a046-7097-46a7-d2e6-97c1e56128f5"
      },
      "execution_count": null,
      "outputs": [
        {
          "output_type": "execute_result",
          "data": {
            "text/plain": [
              "Text(0.5, 1.0, 'Relação: Quantidade de Sódio x Nota de avaliação')"
            ]
          },
          "metadata": {},
          "execution_count": 33
        },
        {
          "output_type": "display_data",
          "data": {
            "text/plain": [
              "<Figure size 1080x720 with 4 Axes>"
            ],
            "image/png": "[encoded data removed]"
          },
          "metadata": {
            "needs_background": "light"
          }
        }
      ]
    }
  ]
}